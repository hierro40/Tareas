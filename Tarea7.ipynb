{
 "cells": [
  {
   "cell_type": "markdown",
   "metadata": {},
   "source": [
    "\n",
    "**Análisis de intervalos**\n",
    "\n",
    "En el notebook anterior, entre otras cosas, hicieron su módulo para desarrollar la aritmética de intervalos, incluyendo además algunas pruebas. El módulo permite hacer las operaciones básicas de intervalos, incluyendo las potencias. Además, vimos que la manera en que uno opera los intervalos influye en la respuesta. Importante es notar que lo que se ha hecho hasta el momento sirve para funciones racionales de la forma $f(x)=p(x)/q(x)$, donde $p(x)$ y $q(x)$ son polinomios en $x$.\n",
    "\n",
    "El propósito de este notebook es extender lo ya hecho a las funciones estándares, que son $exp(x)$ $log(x)$, las funciones trigonométricas ($sin(x)$, $cos(x)$, $tan(x)$, etc.), sus inversas ($arcsin(x)$, etc), y las hiperbólicas ($sinh(x)$, etc). Combinaciones utilizando las operaciones aritméticas que involucran las funciones estándares (y los polinomios) es lo que constituye a las funciones elementales.\n",
    "Extensión de funciones a intervalos\n",
    "\n",
    "Si $f(x)$ es una función elemental monótona, su extensión a intervalos intuitivamente es: $F([a,b])=[F(a),F(b)]$.\n",
    "\n",
    "Para las funciones monótonas estándares, el intervalo $F([a,b])$ que define la extensión de $f(x)$ al intervalo $[a,b]$ es lo que se llama la extensión natural a intervalos, ya que corresponde a una cota estrecha del rango de $f(x)$ para $x∈[a,b]$, que denotaremos $R(f;[a,b])$.\n",
    "\n"
   ]
  },
  {
   "cell_type": "markdown",
   "metadata": {},
   "source": [
    "**Ampliacion de funciones con intervalos**"
   ]
  },
  {
   "cell_type": "code",
   "execution_count": 2,
   "metadata": {
    "collapsed": true
   },
   "outputs": [],
   "source": [
    "type Intervalo\n",
    "    inf::BigFloat\n",
    "    sup::BigFloat\n",
    "\n",
    "    function Intervalo(x,y)\n",
    "        #En esta parte simplemente nos aseguramos que las entradas sean intervalos\n",
    "        #if x>=y\n",
    "            #error(\"Las entradas no corresponden a un intervalo\")\n",
    "        #end\n",
    "        #Esta es la parte fina del codigo donde vamos a redondear\n",
    "        xs=string(x)\n",
    "        ys=string(y)\n",
    "        set_rounding(BigFloat,RoundDown)\n",
    "        x=BigFloat(float(xs))\n",
    "        set_rounding(BigFloat,RoundUp)\n",
    "        y=BigFloat(float(ys))\n",
    "        new(x,y)\n",
    "    end\n",
    "end"
   ]
  },
  {
   "cell_type": "code",
   "execution_count": 3,
   "metadata": {
    "collapsed": false
   },
   "outputs": [
    {
     "data": {
      "text/plain": [
       "+ (generic function with 216 methods)"
      ]
     },
     "execution_count": 3,
     "metadata": {},
     "output_type": "execute_result"
    }
   ],
   "source": [
    "#Suma\n",
    "function +(A::Intervalo,B::Intervalo)\n",
    "    C=Intervalo(0.0,0.1)\n",
    "    C.inf=A.inf+B.inf\n",
    "    C.sup=A.sup+B.sup\n",
    "    return C\n",
    "end"
   ]
  },
  {
   "cell_type": "code",
   "execution_count": 4,
   "metadata": {
    "collapsed": false
   },
   "outputs": [
    {
     "data": {
      "text/plain": [
       "- (generic function with 242 methods)"
      ]
     },
     "execution_count": 4,
     "metadata": {},
     "output_type": "execute_result"
    }
   ],
   "source": [
    "#Resta\n",
    "function -(A::Intervalo,B::Intervalo)\n",
    "    C=Intervalo(0.0,0.1)\n",
    "    C.inf=A.inf-B.sup\n",
    "    C.sup=A.sup-B.inf\n",
    "    return C\n",
    "end"
   ]
  },
  {
   "cell_type": "code",
   "execution_count": 5,
   "metadata": {
    "collapsed": false
   },
   "outputs": [
    {
     "data": {
      "text/plain": [
       "* (generic function with 278 methods)"
      ]
     },
     "execution_count": 5,
     "metadata": {},
     "output_type": "execute_result"
    }
   ],
   "source": [
    "#Producto\n",
    "function *(A::Intervalo,B::Intervalo)\n",
    "    Valores=[A.inf*B.inf A.inf*B.sup A.sup*B.inf A.sup*B.sup]\n",
    "    C=Intervalo(minimum(Valores),maximum(Valores))\n",
    "    return C\n",
    "end"
   ]
  },
  {
   "cell_type": "code",
   "execution_count": 6,
   "metadata": {
    "collapsed": false
   },
   "outputs": [
    {
     "data": {
      "text/plain": [
       "/ (generic function with 73 methods)"
      ]
     },
     "execution_count": 6,
     "metadata": {},
     "output_type": "execute_result"
    }
   ],
   "source": [
    "#Division\n",
    "function /(A::Intervalo,B::Intervalo)\n",
    "    if (B.inf < 0.0) & (B.sup > 0.0)#podria ahorrarme una operacion, Como?\n",
    "        println(\"Tu intervalo del denominador contiene al 0, no se puede calcular el intervalo\")\n",
    "    else\n",
    "    Valores=[A.inf/B.inf A.inf/B.sup A.sup/B.inf A.sup/B.sup]\n",
    "    C=Intervalo(minimum(Valores),maximum(Valores))\n",
    "    end\n",
    "    return C\n",
    "end"
   ]
  },
  {
   "cell_type": "code",
   "execution_count": 60,
   "metadata": {
    "collapsed": false
   },
   "outputs": [
    {
     "data": {
      "text/plain": [
       "^ (generic function with 56 methods)"
      ]
     },
     "execution_count": 60,
     "metadata": {},
     "output_type": "execute_result"
    }
   ],
   "source": [
    "#Potencia para exponentes enteros TIENE UN ERROR\n",
    "function ^(A::Intervalo,p::Integer)\n",
    "    C=Intervalo(0,0.1)\n",
    "    if (A.inf < 0.0) & (A.sup > 0.0)\n",
    "        C.inf=0\n",
    "        Valores=[A.inf^p A.sup^p]\n",
    "        C.sup=maximum(Valores)\n",
    "    else\n",
    "        Valores=[A.inf^p A.sup^p]\n",
    "        C=Intervalo(minimum(Valores),maximum(Valores))\n",
    "    end\n",
    "    return C\n",
    "end"
   ]
  },
  {
   "cell_type": "code",
   "execution_count": 6,
   "metadata": {
    "collapsed": false
   },
   "outputs": [
    {
     "data": {
      "text/plain": [
       "Intervalo(-1e+00 with 256 bits of precision,1e+00 with 256 bits of precision)"
      ]
     },
     "execution_count": 6,
     "metadata": {},
     "output_type": "execute_result"
    }
   ],
   "source": [
    "X=Intervalo(-1,1)"
   ]
  },
  {
   "cell_type": "markdown",
   "metadata": {},
   "source": [
    "**Incluiremos operaciones con escalares**"
   ]
  },
  {
   "cell_type": "code",
   "execution_count": 7,
   "metadata": {
    "collapsed": false
   },
   "outputs": [
    {
     "data": {
      "text/plain": [
       "+ (generic function with 217 methods)"
      ]
     },
     "execution_count": 7,
     "metadata": {},
     "output_type": "execute_result"
    }
   ],
   "source": [
    "#Suma de un escalar\n",
    "function +(A::Intervalo,a::Real)\n",
    "    C=Intervalo(0.0,0.1)\n",
    "    C.inf=A.inf+a\n",
    "    C.sup=A.sup+a\n",
    "    return C\n",
    "end"
   ]
  },
  {
   "cell_type": "code",
   "execution_count": 8,
   "metadata": {
    "collapsed": false
   },
   "outputs": [
    {
     "data": {
      "text/plain": [
       "- (generic function with 243 methods)"
      ]
     },
     "execution_count": 8,
     "metadata": {},
     "output_type": "execute_result"
    }
   ],
   "source": [
    "#Resta de un escalar\n",
    "function -(A::Intervalo,a::Real)\n",
    "    C=Intervalo(0.0,0.1)\n",
    "    C.inf=A.inf-a\n",
    "    C.sup=A.sup-a\n",
    "    return C\n",
    "end"
   ]
  },
  {
   "cell_type": "code",
   "execution_count": 9,
   "metadata": {
    "collapsed": false
   },
   "outputs": [
    {
     "data": {
      "text/plain": [
       "* (generic function with 279 methods)"
      ]
     },
     "execution_count": 9,
     "metadata": {},
     "output_type": "execute_result"
    }
   ],
   "source": [
    "#Multiplicacion por un escalar\n",
    "function *(A::Intervalo,a::Real)\n",
    "    C=Intervalo(0.0,0.1)\n",
    "    C.inf=A.inf*a\n",
    "    C.sup=A.sup*a\n",
    "    return C\n",
    "end"
   ]
  },
  {
   "cell_type": "code",
   "execution_count": 10,
   "metadata": {
    "collapsed": false
   },
   "outputs": [
    {
     "data": {
      "text/plain": [
       "/ (generic function with 74 methods)"
      ]
     },
     "execution_count": 10,
     "metadata": {},
     "output_type": "execute_result"
    }
   ],
   "source": [
    "#Division por un escalar\n",
    "function /(A::Intervalo,a::Real)\n",
    "    C=Intervalo(0.0,0.1)\n",
    "    C.inf=A.inf/a\n",
    "    C.sup=A.sup/a\n",
    "    return C\n",
    "end"
   ]
  },
  {
   "cell_type": "markdown",
   "metadata": {},
   "source": [
    "**Para funciones exponencial y logaritmo natural**"
   ]
  },
  {
   "cell_type": "code",
   "execution_count": 11,
   "metadata": {
    "collapsed": false
   },
   "outputs": [
    {
     "data": {
      "text/plain": [
       "e = 2.7182818284590..."
      ]
     },
     "execution_count": 11,
     "metadata": {},
     "output_type": "execute_result"
    }
   ],
   "source": [
    "e"
   ]
  },
  {
   "cell_type": "code",
   "execution_count": 12,
   "metadata": {
    "collapsed": false
   },
   "outputs": [
    {
     "data": {
      "text/plain": [
       "exp (generic function with 39 methods)"
      ]
     },
     "execution_count": 12,
     "metadata": {},
     "output_type": "execute_result"
    }
   ],
   "source": [
    "#Exponencial\n",
    "import Base.exp\n",
    "function exp(A::Intervalo)\n",
    "    C=Intervalo(0,0.1)\n",
    "    C.inf=exp(A.inf)\n",
    "    C.sup=exp(A.sup)\n",
    "    return C\n",
    "end"
   ]
  },
  {
   "cell_type": "code",
   "execution_count": 13,
   "metadata": {
    "collapsed": false
   },
   "outputs": [
    {
     "ename": "LoadError",
     "evalue": "X not defined\nwhile loading In[13], in expression starting on line 1",
     "output_type": "error",
     "traceback": [
      "X not defined\nwhile loading In[13], in expression starting on line 1",
      ""
     ]
    }
   ],
   "source": [
    "exp(X)"
   ]
  },
  {
   "cell_type": "code",
   "execution_count": 34,
   "metadata": {
    "collapsed": false
   },
   "outputs": [
    {
     "data": {
      "text/plain": [
       "1"
      ]
     },
     "execution_count": 34,
     "metadata": {},
     "output_type": "execute_result"
    }
   ],
   "source": [
    "log(e)"
   ]
  },
  {
   "cell_type": "code",
   "execution_count": 14,
   "metadata": {
    "collapsed": false
   },
   "outputs": [
    {
     "data": {
      "text/plain": [
       "log (generic function with 42 methods)"
      ]
     },
     "execution_count": 14,
     "metadata": {},
     "output_type": "execute_result"
    }
   ],
   "source": [
    "#Logaritmo\n",
    "import Base.log\n",
    "function log(A::Intervalo)\n",
    "    C=Intervalo(0,0.1)\n",
    "    if (A.inf < 0.0) & (A.sup > 0.0)\n",
    "        C.inf=-Inf\n",
    "        C.sup=log(A.sup)\n",
    "    elseif (A.inf < 0.0) & (A.sup < 0.0)\n",
    "        println(\"Tu intervalo no cotiene elementos a los cuales se pueda calcular el logaritmo\")\n",
    "    elseif A.sup == 0.0\n",
    "        return C=Intervalo(-Inf,-Inf)\n",
    "    else\n",
    "        C.inf=log(A.inf)\n",
    "        C.sup=log(A.sup)\n",
    "    end\n",
    "    return C\n",
    "end"
   ]
  },
  {
   "cell_type": "code",
   "execution_count": 49,
   "metadata": {
    "collapsed": false
   },
   "outputs": [
    {
     "data": {
      "text/plain": [
       "Intervalo(-inf with 256 bits of precision,0e+00 with 256 bits of precision)"
      ]
     },
     "execution_count": 49,
     "metadata": {},
     "output_type": "execute_result"
    }
   ],
   "source": [
    "log(X)"
   ]
  },
  {
   "cell_type": "code",
   "execution_count": 15,
   "metadata": {
    "collapsed": false
   },
   "outputs": [
    {
     "data": {
      "text/plain": [
       "Intervalo(-inf with 256 bits of precision,1.386294361119890618834464242916353136151000268720510508241360018986787243939391e+00 with 256 bits of precision)"
      ]
     },
     "execution_count": 15,
     "metadata": {},
     "output_type": "execute_result"
    }
   ],
   "source": [
    "Y=Intervalo(-3,4)\n",
    "log(Y)"
   ]
  },
  {
   "cell_type": "code",
   "execution_count": 16,
   "metadata": {
    "collapsed": false
   },
   "outputs": [
    {
     "name": "stderr",
     "output_type": "stream",
     "text": [
      "Warning: New definition \n",
      "    ^(Intervalo,Real) at In[16]:3\n",
      "is ambiguous with: \n",
      "    ^(Any,Integer) at intfuncs.jl:86.\n",
      "To fix, define \n",
      "    ^(Intervalo,Integer)\n",
      "before the new definition.\n"
     ]
    },
    {
     "data": {
      "text/plain": [
       "^ (generic function with 54 methods)"
      ]
     },
     "execution_count": 16,
     "metadata": {},
     "output_type": "execute_result"
    }
   ],
   "source": [
    "#Potencia corregida\n",
    "function ^(A::Intervalo,p::Real)\n",
    "    C=Intervalo(0,0.1)\n",
    "    if p == int(p)#NOTA: Si queremos introducir una p=2 debemos escribir 2.0\n",
    "        #println(\"AQUI\")\n",
    "        Valores=[A.inf^p A.sup^p]\n",
    "        if (A.inf > 0.0)\n",
    "            C=Intervalo(minimum(Valores),maximum(Valores))\n",
    "        elseif (A.sup < 0.0)\n",
    "            C=Intervalo(minimum(Valores),maximum(Valores))\n",
    "        else\n",
    "            Q=A.inf^p\n",
    "            #@show Q\n",
    "            if Q < 0\n",
    "                C=Intervalo(minimum(Valores),maximum(Valores))\n",
    "            else\n",
    "                C=Intervalo(0,maximum(Valores))\n",
    "            end\n",
    "        end\n",
    "        return C\n",
    "    else\n",
    "        if (A.inf > 0.0)\n",
    "            Valores=[A.inf^p A.sup^p]\n",
    "            C=Intervalo(minimum(Valores),maximum(Valores))\n",
    "            return C\n",
    "        elseif (A.sup < 0.0)\n",
    "            println(\"No es posible calcular la potencia deseada para el intervalo dado\")\n",
    "        else\n",
    "            C=Intervalo(0,A.sup^p)\n",
    "            return C\n",
    "        end\n",
    "    end\n",
    "end"
   ]
  },
  {
   "cell_type": "code",
   "execution_count": 17,
   "metadata": {
    "collapsed": false
   },
   "outputs": [
    {
     "data": {
      "text/plain": [
       "Intervalo(-1e+01 with 256 bits of precision,1e+01 with 256 bits of precision)"
      ]
     },
     "execution_count": 17,
     "metadata": {},
     "output_type": "execute_result"
    }
   ],
   "source": [
    "X=Intervalo(-10,10)"
   ]
  },
  {
   "cell_type": "code",
   "execution_count": 18,
   "metadata": {
    "collapsed": false
   },
   "outputs": [
    {
     "data": {
      "text/plain": [
       "Intervalo(-1e+03 with 256 bits of precision,1e+03 with 256 bits of precision)"
      ]
     },
     "execution_count": 18,
     "metadata": {},
     "output_type": "execute_result"
    }
   ],
   "source": [
    "X^3.0"
   ]
  },
  {
   "cell_type": "markdown",
   "metadata": {},
   "source": [
    "**[2]** ¿Cómo definirías la extensión a intervalos para funciones no monótonas? Repite [1] para este caso.\n"
   ]
  },
  {
   "cell_type": "markdown",
   "metadata": {},
   "source": [
    "Trabajé para implementar las funciones Seno y Coseno. \n",
    "\n",
    "Para implementar la función seno se me ocurrió preguntar si existe algun multiplo de $(4n+1)pi/2$ con $n$ entera en el intervalo,así el intervalo resultante contendrá al menos un máximo de $1$, después debo preguntar si existe algun multiplo de $(4n-1)pi/2$ con $n$ entera,dentro del intervalo, así determinamos que el intervalo resultante contendrá como mínimo el -1, si el intervalo no tuviera contenidos ninguno de los valores buscados entonces simplemente evaluariamos $Sen()$ en los extremos del intervalo y el resultado serían los límites máximo y mínimo del intervalo valuado en la función dependiendo del signo. Para el caso del coseno implementariamos algo similar pero los multiplos buscados serían $(2n)pi$ y $(n)pi$\n",
    "\n",
    "Las implementaciones de las funciones son las siguientes:"
   ]
  },
  {
   "cell_type": "code",
   "execution_count": 38,
   "metadata": {
    "collapsed": false
   },
   "outputs": [
    {
     "data": {
      "text/plain": [
       "sin (generic function with 38 methods)"
      ]
     },
     "execution_count": 38,
     "metadata": {},
     "output_type": "execute_result"
    }
   ],
   "source": [
    "#Funcion seno\n",
    "import Base.sin\n",
    "function sin(A::Intervalo)\n",
    "    C=Intervalo(0,0.1)\n",
    "    a=A.inf\n",
    "    b=A.sup\n",
    "    Valores=[sin(A.inf) sin(A.sup)]\n",
    "    #Primero definimos los limites del contador que hara las pruebas para buscar los multiplos de pi/2\n",
    "    if a >= 1\n",
    "        a=ceil(a/(2*pi))\n",
    "    else\n",
    "        a=floor(a/(2*pi))\n",
    "    end\n",
    "    if  b >= 0\n",
    "        b=ceil(b/(2*pi))\n",
    "    else\n",
    "        b=floor(b/(2*pi))\n",
    "    end\n",
    "    z=0\n",
    "    #Agregamos la condicion de que a y b no pueden ser iguales\n",
    "    if a == b\n",
    "        b=a+1\n",
    "    else\n",
    "        b=b\n",
    "    end\n",
    "    #Ahora buscamos los maximos en el intervalo\n",
    "    for n=a:b\n",
    "        if ((4*n+1)*pi/2 >= A.inf) & ((4*n+1)*pi/2 <= A.sup)\n",
    "            z=z+1\n",
    "        else\n",
    "            z=z\n",
    "        end\n",
    "    end\n",
    "    if z > 0\n",
    "        #En esta condicion nos dice que si encuentra mas de dos picos (maximos) automaticamente existira un valle (minimo)\n",
    "        if z > 1\n",
    "            C=Intervalo(-1,1)\n",
    "        else\n",
    "            w=0\n",
    "            #En caso de que solo encuentre un pico es necesario buscar si existe un valle (minimo)\n",
    "            for n=a:b\n",
    "                if ((4*n-1)*pi/2 >= A.inf) & ((4*n-1)*pi/2 <= A.sup)\n",
    "                    w=w+1\n",
    "                else\n",
    "                    w=w\n",
    "                end\n",
    "            end\n",
    "            if w > 0\n",
    "                #Basta con que encuentre un solo vale (minimo), ya que previamente habia encontrado un maximo\n",
    "                C=Intervalo(-1,1)\n",
    "            else\n",
    "                #Al no encontrar un minimo tomara como limite inferior del intervalo el valor menor de los limites dados\n",
    "                C=Intervalo(minimum(Valores),1)\n",
    "            end\n",
    "        end\n",
    "    else\n",
    "        #En esta parte del codigo no se encontro un maximo, por loq ue se tendra que evaluar la funcion sin\n",
    "        #Resta encontrar si existe un minimo\n",
    "        w=0\n",
    "            for n=a:b\n",
    "                if ((4*n-1)*pi/2 >= A.inf) & ((4*n-1)*pi/2 <= A.sup)\n",
    "                    w=w+1\n",
    "                else\n",
    "                    w=w\n",
    "                end\n",
    "            end\n",
    "            if w > 0\n",
    "                C=Intervalo(-1,maximum(Valores))\n",
    "            else\n",
    "            #Solo terminara en esta condicion en caso de no encontrar multiplos de pi/2 que sean maximos o minimos\n",
    "                C=Intervalo(minimum(Valores),maximum(Valores))\n",
    "            end\n",
    "    end\n",
    "end"
   ]
  },
  {
   "cell_type": "code",
   "execution_count": 53,
   "metadata": {
    "collapsed": false
   },
   "outputs": [
    {
     "data": {
      "text/plain": [
       "Intervalo(8.000000000000000444089209850062616169452667236328125e-01 with 256 bits of precision,2e+00 with 256 bits of precision)"
      ]
     },
     "execution_count": 53,
     "metadata": {},
     "output_type": "execute_result"
    }
   ],
   "source": [
    "A=Intervalo(0.8,2)"
   ]
  },
  {
   "cell_type": "code",
   "execution_count": 51,
   "metadata": {
    "collapsed": false
   },
   "outputs": [
    {
     "data": {
      "text/plain": [
       "0.7173560908995228"
      ]
     },
     "execution_count": 51,
     "metadata": {},
     "output_type": "execute_result"
    }
   ],
   "source": [
    "sin(0.8)"
   ]
  },
  {
   "cell_type": "code",
   "execution_count": 54,
   "metadata": {
    "collapsed": false
   },
   "outputs": [
    {
     "data": {
      "text/plain": [
       "Intervalo(7.1735609089952279138202584363170899450778961181640625e-01 with 256 bits of precision,1e+00 with 256 bits of precision)"
      ]
     },
     "execution_count": 54,
     "metadata": {},
     "output_type": "execute_result"
    }
   ],
   "source": [
    "sin(A)"
   ]
  },
  {
   "cell_type": "code",
   "execution_count": 55,
   "metadata": {
    "collapsed": false
   },
   "outputs": [
    {
     "data": {
      "text/plain": [
       "cos (generic function with 38 methods)"
      ]
     },
     "execution_count": 55,
     "metadata": {},
     "output_type": "execute_result"
    }
   ],
   "source": [
    "#Funcion coseno\n",
    "import Base.cos\n",
    "function cos(A::Intervalo)\n",
    "    C=Intervalo(0,0.1)\n",
    "    a=A.inf\n",
    "    b=A.sup\n",
    "    Valores=[cos(A.inf) cos(A.sup)]\n",
    "    #Primero definimos los limites del contador que hara las pruebas para buscar los multiplos de pi/2\n",
    "    if a >= 1\n",
    "        a=ceil(a/(2*pi))\n",
    "    else\n",
    "        a=floor(a/(2*pi))\n",
    "    end\n",
    "    if  b >= 0\n",
    "        b=ceil(b/(2*pi))\n",
    "    else\n",
    "        b=floor(b/(2*pi))\n",
    "    end\n",
    "    z=0\n",
    "    #Agregamos la condicion de que a y b no pueden ser iguales\n",
    "    if a == b\n",
    "        b=a+1\n",
    "    else\n",
    "        b=b\n",
    "    end\n",
    "    #Ahora buscamos los maximos en el intervalo\n",
    "    for n=a:b\n",
    "        if ((2*n)*pi >= A.inf) & ((2*n)*pi <= A.sup)\n",
    "            z=z+1\n",
    "        else\n",
    "            z=z\n",
    "        end\n",
    "    end\n",
    "    if z > 0\n",
    "        #En esta condicion nos dice que si encuentra mas de dos picos (maximos) automaticamente existira un valle (minimo)\n",
    "        if z > 1\n",
    "            C=Intervalo(-1,1)\n",
    "        else\n",
    "            w=0\n",
    "            #En caso de que solo encuentre un pico es necesario buscar si existe un valle (minimo)\n",
    "            for n=a:b\n",
    "                if ((2*n-1)*pi >= A.inf) & ((2*n-1)*pi <= A.sup)\n",
    "                    w=w+1\n",
    "                else\n",
    "                    w=w\n",
    "                end\n",
    "            end\n",
    "            if w > 0\n",
    "                #Basta con que encuentre un solo vale (minimo), ya que previamente habia encontrado un maximo\n",
    "                C=Intervalo(-1,1)\n",
    "            else\n",
    "                #Al no encontrar un minimo tomara como limite inferior del intervalo el valor menor de los limites dados\n",
    "                C=Intervalo(minimum(Valores),1)\n",
    "            end\n",
    "        end\n",
    "    else\n",
    "        #En esta parte del codigo no se encontro un maximo, por loq ue se tendra que evaluar la funcion sin\n",
    "        #Resta encontrar si existe un minimo\n",
    "        w=0\n",
    "            for n=a:b\n",
    "                if ((2*n-1)*pi >= A.inf) & ((2*n-1)*pi <= A.sup)\n",
    "                    w=w+1\n",
    "                else\n",
    "                    w=w\n",
    "                end\n",
    "            end\n",
    "            if w > 0\n",
    "                C=Intervalo(-1,maximum(Valores))\n",
    "            else\n",
    "            #Solo terminara en esta condicion en caso de no encontrar multiplos de pi/2 que sean maximos o minimos\n",
    "                C=Intervalo(minimum(Valores),maximum(Valores))\n",
    "            end\n",
    "    end\n",
    "end"
   ]
  },
  {
   "cell_type": "code",
   "execution_count": 56,
   "metadata": {
    "collapsed": false
   },
   "outputs": [
    {
     "data": {
      "text/plain": [
       "Intervalo(-4.16146836547142406903532219075714237987995147705078125e-01 with 256 bits of precision,1e+00 with 256 bits of precision)"
      ]
     },
     "execution_count": 56,
     "metadata": {},
     "output_type": "execute_result"
    }
   ],
   "source": [
    "A=Intervalo(0,2)\n",
    "cos(A)"
   ]
  },
  {
   "cell_type": "markdown",
   "metadata": {},
   "source": [
    "***[3]*** La extensión natural del intervalo para $f(x)=x/(1+x^2)$ es $F(x)=x/(1+x^2)$. ¿Cuál es la extensión natural del intervalo para $x=[1,2]$? ¿Cómo se compara con el rango R($f;[1,2]$). Ilustra los resultados con una gráfica.\n",
    "\n",
    "El Teorema Fundamental del Análisis de Intervalos afirma que dada una función elemental $f(x)$ y una extensión natural a intervalos F, tal que $F(x)$ está bien definida para algún intervalo $x$, entonces:\n",
    "\n",
    "    Si $z⊆z′⊆x⟹F(z)⊆F(z′)$, \"inclusión isotónica\" (inclusion isotonicity)\n",
    "\n",
    "    $R(f;x)⊆F(x)$, \"acotamiento del rango\" (range enclosure)\n",
    "\n",
    "La segunda propiedad afirma que la extensión natural $F(x)$ contiene al rango, lo que entonces acota el rango de $f(x)$ con F(x).\n",
    "\n",
    "De aquí, dado que si $y∉F(x)⟹y∉R(f;x)$, entonces podemos usar este resultado cuando se buscan las raíces de alguna función $f(x)$ en un intervalo: Si $0∉F(x)$ entonces $f(x)$ no tiene raíces en $x$."
   ]
  },
  {
   "cell_type": "code",
   "execution_count": null,
   "metadata": {
    "collapsed": true
   },
   "outputs": [],
   "source": []
  },
  {
   "cell_type": "code",
   "execution_count": 96,
   "metadata": {
    "collapsed": false
   },
   "outputs": [
    {
     "data": {
      "text/plain": [
       "Intervalo(2.00000000000000011102230246251565404236316680908203125e-01 with 256 bits of precision,1e+00 with 256 bits of precision)"
      ]
     },
     "execution_count": 96,
     "metadata": {},
     "output_type": "execute_result"
    }
   ],
   "source": [
    "X=Intervalo(1,2)\n",
    "Y=X/(X^2+1)"
   ]
  },
  {
   "cell_type": "code",
   "execution_count": 100,
   "metadata": {
    "collapsed": false
   },
   "outputs": [
    {
     "name": "stderr",
     "output_type": "stream",
     "text": [
      "INFO: Nothing to be done\n",
      "INFO: METADATA is out-of-date — you may not have the latest version of PyPlot\n",
      "INFO: Use `Pkg.update()` to get the latest versions of your packages\n"
     ]
    },
    {
     "data": {
      "image/png": "[encoded data removed]",
      "text/plain": [
       "Figure(PyObject <matplotlib.figure.Figure object at 0x7f0c5008de90>)"
      ]
     },
     "metadata": {},
     "output_type": "display_data"
    }
   ],
   "source": [
    "Pkg.add(\"PyPlot\")\n",
    "using PyPlot\n",
    "v=[-1, 3, -2, 2]\n",
    "x=[-4:0.05:4]\n",
    "f=x./(1+x.^2)\n",
    "#Limites del intervalo\n",
    "inf=ones(161)*Y.inf\n",
    "sup=ones(161)*Y.sup\n",
    "plot(x,f,x,inf,x,sup)\n",
    "axis(v)\n",
    "title(\"f(x)=x/(1+x^2)\")\n",
    "xlabel(\"x\")\n",
    "ylabel(\"f(x)\")\n",
    "grid(\"on\")"
   ]
  },
  {
   "cell_type": "markdown",
   "metadata": {},
   "source": [
    "VEmos que el resultado del intervalo es **MUCHO** más grande que la imagen de la función valuada en el mismo intervalo. ¿Cuál es la moraleja? Al trabajar con aritmética de intervalos estamos exagerando de alguna manera los posibles resultados obtenidos. "
   ]
  },
  {
   "cell_type": "markdown",
   "metadata": {},
   "source": [
    "**[4]** Demuestra que $f(x)=(sin(x)−x^2+1)cos(x)$ no tiene raíces en $x=[0,1/2]$. Ilustra que el argumento es correcto gráficamente."
   ]
  },
  {
   "cell_type": "code",
   "execution_count": 101,
   "metadata": {
    "collapsed": false
   },
   "outputs": [
    {
     "data": {
      "text/plain": [
       "Intervalo(6.58186921417779569054573585162870585918426513671875e-01 with 256 bits of precision,1.47942553860420300537725779577158391475677490234375e+00 with 256 bits of precision)"
      ]
     },
     "execution_count": 101,
     "metadata": {},
     "output_type": "execute_result"
    }
   ],
   "source": [
    "X1=Intervalo(0,1/2)\n",
    "Y1=(sin(X1)-X1^2+1)*cos(X1)"
   ]
  },
  {
   "cell_type": "markdown",
   "metadata": {},
   "source": [
    "No existe algun cambio de signo en el intervalo resultante, ¿Es suficiente para determinar que no existe alguna raíz?"
   ]
  },
  {
   "cell_type": "code",
   "execution_count": null,
   "metadata": {
    "collapsed": true
   },
   "outputs": [],
   "source": []
  }
 ],
 "metadata": {
  "kernelspec": {
   "display_name": "Julia 0.3.6",
   "language": "julia",
   "name": "julia 0.3"
  },
  "language_info": {
   "name": "julia",
   "version": "0.3.6"
  }
 },
 "nbformat": 4,
 "nbformat_minor": 0
}
