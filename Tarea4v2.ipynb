{
 "cells": [
  {
   "cell_type": "markdown",
   "metadata": {},
   "source": [
    "# Redondeo"
   ]
  },
  {
   "cell_type": "markdown",
   "metadata": {},
   "source": [
    "### Ejercicio 1"
   ]
  },
  {
   "cell_type": "markdown",
   "metadata": {},
   "source": [
    " (i) Si tuviéramos un número real positivo x (es decir, con precisión infinita), ¿cómo podríamos encontrar △(x) y ▽(x)?"
   ]
  },
  {
   "cell_type": "markdown",
   "metadata": {},
   "source": [
    "**R:** Necesitaríamos conocer la precisión de nuestro sistema de punto flotante. Teniendo esta en mente podríamos truncar hasta el número de cifras significativas permitidas. Al número truncado resultante vemos si pertenece al sistema de punto flotante dado, si no pertenece incrementamos su valor hasta el siguiente número que si pertenezca al sistema para el caso de redondeo hacia arriba o disminuimos su valor al siguiente número para el caso del redondeo hacia abajo."
   ]
  },
  {
   "cell_type": "markdown",
   "metadata": {},
   "source": [
    "(ii) Encuentra △(0.1) y ▽(0.1) para aritmética flotante de IEEE. ¿En cuánto difieren? ¿Qué podemos decir sobre el error de redondeo?"
   ]
  },
  {
   "cell_type": "markdown",
   "metadata": {},
   "source": [
    "**R:** Primero algunas obervaciones interesantes:"
   ]
  },
  {
   "cell_type": "code",
   "execution_count": 2,
   "metadata": {
    "collapsed": false
   },
   "outputs": [
    {
     "data": {
      "text/plain": [
       "\"0011111110111001100110011001100110011001100110011001100110011010\""
      ]
     },
     "execution_count": 2,
     "metadata": {},
     "output_type": "execute_result"
    }
   ],
   "source": [
    "bits(0.1)"
   ]
  },
  {
   "cell_type": "markdown",
   "metadata": {},
   "source": [
    "Como habíamos visto desde la práctica anterior, el real 0.1 tiene una representació periódica en el sistema binario. Esto quiere decir que la cadena de 110011001100... se repetirá de manera infinita. En la instrucción anterior vemos como el número se guarda con precisión simple. Se trunca la cadena en una secuencia 110011001 y se le suma 1 obteniendo como resultado 110011010 . Esto quiere decir que se esta llevando a cabo un Redondeo hacia arriba. Para el caso de redonde hacia abajo bastaría truncar la cadena y proporcionar el número representado por 110011001 . \n",
    "\n",
    "Utilizando precisión extendida tenemos el siguiente resultado:"
   ]
  },
  {
   "cell_type": "code",
   "execution_count": 1,
   "metadata": {
    "collapsed": false
   },
   "outputs": [
    {
     "data": {
      "text/plain": [
       "1.000000000000000055511151231257827021181583404541015625e-01 with 256 bits of precision"
      ]
     },
     "execution_count": 1,
     "metadata": {},
     "output_type": "execute_result"
    }
   ],
   "source": [
    "big(0.1)"
   ]
  },
  {
   "cell_type": "markdown",
   "metadata": {},
   "source": [
    "Aqui vemos claramente que el sistema de punto flotante efectivamente no guarda el número 0.1 sino el 1.000000000000000055511151231257827021181583404541015625e-01, esto quiere decir que hasta dígito número 17 se ve afectado el resultado. Esto coicide con el siguiente experimento para cuando utilizamos precisión simple."
   ]
  },
  {
   "cell_type": "code",
   "execution_count": 2,
   "metadata": {
    "collapsed": false
   },
   "outputs": [
    {
     "data": {
      "text/plain": [
       "RedondeoUp (generic function with 1 method)"
      ]
     },
     "execution_count": 2,
     "metadata": {},
     "output_type": "execute_result"
    }
   ],
   "source": [
    "function RedondeoUp(x)\n",
    "    y=0.1\n",
    "    z=1\n",
    "    while z>x\n",
    "        y=y/10\n",
    "        z=y+x\n",
    "    end\n",
    "    println(y)#Imprime el número más grande posible que al sumar no afecte el resultado\n",
    "    println(x+y)#Imprime la suma de la entrada y el número anterior\n",
    "    println(y*10)#Imprime el número más pequeño posible que al sumar si afecta el resultado\n",
    "    println(x+y*10)\n",
    "end"
   ]
  },
  {
   "cell_type": "code",
   "execution_count": 3,
   "metadata": {
    "collapsed": false
   },
   "outputs": [
    {
     "name": "stdout",
     "output_type": "stream",
     "text": [
      "1.0e-18\n",
      "0.1\n",
      "1.0e-17\n",
      "0.10000000000000002\n"
     ]
    }
   ],
   "source": [
    "RedondeoUp(0.1)"
   ]
  },
  {
   "cell_type": "markdown",
   "metadata": {
    "collapsed": true
   },
   "source": [
    "El resultado de la función anterior nos dice que el número más pequeño que podemos sumar a un flotante en preción simple es del orden de 1.0e-17, y cualquier número más chico no lo alcanzará a sumar. Adicionalmente verificamos que se aplica el redondeo hacia arriba pues no le es posible guardar el número 0.10000000000000001.\n",
    "\n",
    "Lo que podemos decir del error de redondeo es que este es del orden de 1.0e-17"
   ]
  },
  {
   "cell_type": "markdown",
   "metadata": {},
   "source": [
    "### Ejercicio 2"
   ]
  },
  {
   "cell_type": "markdown",
   "metadata": {},
   "source": [
    "Haz de nuevo el ejercicio anterior para x=1.1 y para x=10.1."
   ]
  },
  {
   "cell_type": "markdown",
   "metadata": {},
   "source": [
    "**R:** Vemos los siguientes resultados:"
   ]
  },
  {
   "cell_type": "code",
   "execution_count": 1,
   "metadata": {
    "collapsed": false
   },
   "outputs": [
    {
     "data": {
      "text/plain": [
       "1.100000000000000088817841970012523233890533447265625e+00 with 256 bits of precision"
      ]
     },
     "execution_count": 1,
     "metadata": {},
     "output_type": "execute_result"
    }
   ],
   "source": [
    "big(1.1)"
   ]
  },
  {
   "cell_type": "code",
   "execution_count": 1,
   "metadata": {
    "collapsed": false
   },
   "outputs": [
    {
     "data": {
      "text/plain": [
       "1.00999999999999996447286321199499070644378662109375e+01 with 256 bits of precision"
      ]
     },
     "execution_count": 1,
     "metadata": {},
     "output_type": "execute_result"
    }
   ],
   "source": [
    "big(10.1)"
   ]
  },
  {
   "cell_type": "markdown",
   "metadata": {
    "collapsed": true
   },
   "source": [
    "Notamos que conforme utilizamos más bits en la parte entera vamos perdiendo precisión en la parte fraccionaria. "
   ]
  },
  {
   "cell_type": "markdown",
   "metadata": {},
   "source": [
    "### Ejercicio 3"
   ]
  },
  {
   "cell_type": "markdown",
   "metadata": {},
   "source": [
    "¿Qué pasa con △(x) y ▽(x) si x∈F∗?"
   ]
  },
  {
   "cell_type": "markdown",
   "metadata": {},
   "source": [
    "**R:** Por la definición misma de redondeo dada es claro que obtendríamos el mismo resultado x para ambos redondeos. Esta es una propiedad del mapeo del redondeo pues establece que todo número flotante es fijo bajo el redondeo, claramente un número real que ya es representable en flotante no requiere de algún redondeo (Tucker)."
   ]
  },
  {
   "cell_type": "markdown",
   "metadata": {},
   "source": [
    "### Ejercicio 4"
   ]
  },
  {
   "cell_type": "markdown",
   "metadata": {},
   "source": [
    "¿Cuál es la relación entre △(−x) y ▽(x)?"
   ]
  },
  {
   "cell_type": "markdown",
   "metadata": {},
   "source": [
    "**R:** Satisfacen una relación antisimétrica pues: △(−x)= -▽(x)"
   ]
  },
  {
   "cell_type": "markdown",
   "metadata": {},
   "source": [
    "### Ejercicio 5"
   ]
  },
  {
   "cell_type": "markdown",
   "metadata": {},
   "source": [
    " Encuentra unos ejemplos de pares de números x,y∈F tal que x⊕y∉F. (Aquí, F denota a los flotantes de doble precisión de IEEE, y ⊕ es alguna operación aritmética entre x y y.)"
   ]
  },
  {
   "cell_type": "code",
   "execution_count": 1,
   "metadata": {
    "collapsed": false
   },
   "outputs": [
    {
     "data": {
      "text/plain": [
       "1.25e-01 with 256 bits of precision"
      ]
     },
     "execution_count": 1,
     "metadata": {},
     "output_type": "execute_result"
    }
   ],
   "source": [
    "x=big(0.125)#Tiene representación flotante"
   ]
  },
  {
   "cell_type": "code",
   "execution_count": 2,
   "metadata": {
    "collapsed": false
   },
   "outputs": [
    {
     "data": {
      "text/plain": [
       "1.220703125e-04 with 256 bits of precision"
      ]
     },
     "execution_count": 2,
     "metadata": {},
     "output_type": "execute_result"
    }
   ],
   "source": [
    "y=big(0.0001220703125)#Tiene representación flotante"
   ]
  },
  {
   "cell_type": "code",
   "execution_count": 7,
   "metadata": {
    "collapsed": false
   },
   "outputs": [
    {
     "data": {
      "text/plain": [
       "1.251220703125e-01 with 256 bits of precision"
      ]
     },
     "execution_count": 7,
     "metadata": {},
     "output_type": "execute_result"
    }
   ],
   "source": [
    "x+y#Tiene representación flotante"
   ]
  },
  {
   "cell_type": "markdown",
   "metadata": {},
   "source": [
    "### Ejercicio 6"
   ]
  },
  {
   "cell_type": "markdown",
   "metadata": {},
   "source": [
    "¿Qué podemos hacer al respecto?"
   ]
  },
  {
   "cell_type": "code",
   "execution_count": null,
   "metadata": {
    "collapsed": true
   },
   "outputs": [],
   "source": []
  },
  {
   "cell_type": "markdown",
   "metadata": {},
   "source": [
    "### Ejercicio 7"
   ]
  },
  {
   "cell_type": "markdown",
   "metadata": {},
   "source": [
    "En los reales tenemos que, si se cumple x+y=x+y′, entonces y=y′. ¿Se cumple esto entre los números de punto flotante? Si tu respuesta es no, da un ejemplo."
   ]
  },
  {
   "cell_type": "markdown",
   "metadata": {},
   "source": [
    "**R:** Esto no siempre se cumple, a continuación presento un ejemplo utilizando precisión simple:"
   ]
  },
  {
   "cell_type": "code",
   "execution_count": 5,
   "metadata": {
    "collapsed": false
   },
   "outputs": [
    {
     "name": "stdout",
     "output_type": "stream",
     "text": [
      "1.0"
     ]
    }
   ],
   "source": [
    "a=1\n",
    "b=0.000000000000000001\n",
    "c=0"
   ]
  },
  {
   "cell_type": "code",
   "execution_count": 6,
   "metadata": {
    "collapsed": false
   },
   "outputs": [
    {
     "data": {
      "text/plain": [
       "1.0"
      ]
     },
     "execution_count": 6,
     "metadata": {},
     "output_type": "execute_result"
    }
   ],
   "source": [
    "a+b"
   ]
  },
  {
   "cell_type": "code",
   "execution_count": 7,
   "metadata": {
    "collapsed": false
   },
   "outputs": [
    {
     "data": {
      "text/plain": [
       "1"
      ]
     },
     "execution_count": 7,
     "metadata": {},
     "output_type": "execute_result"
    }
   ],
   "source": [
    "a+c"
   ]
  },
  {
   "cell_type": "code",
   "execution_count": 8,
   "metadata": {
    "collapsed": false
   },
   "outputs": [
    {
     "data": {
      "text/plain": [
       "false"
      ]
     },
     "execution_count": 8,
     "metadata": {},
     "output_type": "execute_result"
    }
   ],
   "source": [
    "c==b"
   ]
  },
  {
   "cell_type": "markdown",
   "metadata": {},
   "source": [
    "### Ejercicio 8"
   ]
  },
  {
   "cell_type": "markdown",
   "metadata": {},
   "source": [
    " Analiza el caso de iterar el mapeo f:[0,1]→[0,1] dado por f(x)=3x mod 1, con la condición inicial x0=110:\n",
    " \n",
    "    ¿Qué pasa analíticamente?\n",
    "    ¿Qué pasa numéricamente?\n",
    "    ¿Qué pasa si consideras una condición inicial x0 arbitraria?\n"
   ]
  },
  {
   "cell_type": "code",
   "execution_count": null,
   "metadata": {
    "collapsed": true
   },
   "outputs": [],
   "source": []
  },
  {
   "cell_type": "markdown",
   "metadata": {},
   "source": [
    "### Ejercicio 9"
   ]
  },
  {
   "cell_type": "markdown",
   "metadata": {},
   "source": [
    " Calcula S numéricamente de manera ingenua. "
   ]
  },
  {
   "cell_type": "code",
   "execution_count": 8,
   "metadata": {
    "collapsed": false
   },
   "outputs": [
    {
     "name": "stdout",
     "output_type": "stream",
     "text": [
      "Utilizando 1000000 iteraciones\n",
      "El valor de S utilizando un ciclo es de 1.64493306684877\n",
      "El error es de 9.999994563525405e-7\n"
     ]
    }
   ],
   "source": [
    "S=0\n",
    "for n=1:1000000\n",
    "    S=S+1/n^2\n",
    "end\n",
    "println(\"Utilizando 1000000 iteraciones\")\n",
    "println(\"El valor de S utilizando un ciclo es de $S\")\n",
    "error=abs(S-pi^2/6)#Sabemos analíticamente que la solucion es pi^2/6\n",
    "println(\"El error es de $error\")\n"
   ]
  },
  {
   "cell_type": "markdown",
   "metadata": {},
   "source": [
    "Sea la cola de la suma TN:=∑∞n=N+11n2. Utiliza un argumento geométrico para mostrar que\n",
    "$∫∞N+11x2dx<TN<∫∞N+11(x−1)2dx$,\n",
    "\n",
    "y así encuentra cotas para TN."
   ]
  },
  {
   "cell_type": "code",
   "execution_count": null,
   "metadata": {
    "collapsed": true
   },
   "outputs": [],
   "source": []
  }
 ],
 "metadata": {
  "kernelspec": {
   "display_name": "Julia 0.3.6",
   "language": "julia",
   "name": "julia 0.3"
  },
  "language_info": {
   "name": "julia",
   "version": "0.3.6"
  }
 },
 "nbformat": 4,
 "nbformat_minor": 0
}
