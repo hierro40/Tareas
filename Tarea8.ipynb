{
 "cells": [
  {
   "cell_type": "markdown",
   "metadata": {},
   "source": [
    "\n",
    "**El método de Newton**\n",
    "\n",
    "Recordemos que el método de Newton es un método numérico iterativo para encontrar raíces de funciones (continuamente) diferenciables.\n",
    "\n",
    "Sea f la función cuyas raíces queremos encontrar. La idea es que empecemos desde una adivinanza inicial $x_0$, y que la siguiente aproximación $x_1$ esté donde la recta tangente a la curva $f(x)$ en $x_0$ corte el eje $x$.\n",
    "\n",
    "**[1]** Esboza la geometría, tanto a mano como en la computadora, y así encuentra la expresión de $x_{n+1}$ en términos de $x_n$."
   ]
  },
  {
   "cell_type": "markdown",
   "metadata": {},
   "source": [
    "**Soluciones**\n",
    "\n",
    "Partimos de la ecuacion conocida de una recta:\n",
    "\n",
    "$y-y_i=m(x-x_i)$\n",
    "\n",
    "Donde $y=f(x)$, $y_i=f(x_0)$, $x_i=x_0$ y $m=f'(x_0)$\n",
    "\n",
    "Con lo que obtenemos:\n",
    "\n",
    "$f(x)-f(x_0)=f'(x_0)(x-x_0)$\n",
    "\n",
    "A tratarse de una raiz, sabemos que $f(x)=0$ por lo que la expresion queda reducida a:\n",
    "\n",
    "$-f(x_0)=f'(x_0)(x-x_0)$\n",
    "\n",
    "Nos interesa conocer el valor de $x$ , despejando:\n",
    "\n",
    "$x=x_0-f(x_0)/f'(x_0)$\n",
    "\n",
    "Finalmente escribiendo la notacion en forma iterativa, llegamos a la expresion del metodo de Newton:\n",
    "\n",
    "$x_{n+1}=x_n-f(x_n)/f'(x_n)$\n"
   ]
  },
  {
   "cell_type": "markdown",
   "metadata": {},
   "source": [
    "**[2]** Implementa la iteración para calcular la raíz cuadrada y la raíz cúbica de $2$. ¿Cuál es una condición razonable de terminación del algoritmo?"
   ]
  },
  {
   "cell_type": "markdown",
   "metadata": {},
   "source": [
    "Primero retomando un poco el metodo de los Babilonios para comparar el resultado con otro metodo"
   ]
  },
  {
   "cell_type": "code",
   "execution_count": 2,
   "metadata": {
    "collapsed": false
   },
   "outputs": [
    {
     "name": "stdout",
     "output_type": "stream",
     "text": [
      "La raiz obtenida es: 1.414213562373095048801688724209698078569671875376948073176679737990732478462119e+00\n",
      "El error es de: 9.667293313452913037187168859825586442682332026200926752153788074814817825053041e-17\n"
     ]
    }
   ],
   "source": [
    "#Metodo babilonico Raiz Cuadrada de 2\n",
    "x=big(5)\n",
    "for i=1:100\n",
    "    x=(x+2/x)/2\n",
    "end\n",
    "raiz=x\n",
    "println(\"La raiz obtenida es: \",raiz)\n",
    "er=abs(sqrt(2)-raiz)\n",
    "println(\"El error es de: \",er)"
   ]
  },
  {
   "cell_type": "code",
   "execution_count": 3,
   "metadata": {
    "collapsed": false
   },
   "outputs": [
    {
     "name": "stdout",
     "output_type": "stream",
     "text": [
      "La raiz obtenida es: 1.259921049894873094827542667118789640827158359259903800041946821054872219984269e+00\n",
      "El error es de: 9.583900169316450691445352706554478369995805317894512778001573092637677469274893e-17\n"
     ]
    }
   ],
   "source": [
    "#Metodo babilonico Raiz Cubica de 2\n",
    "x=big(5)\n",
    "x=x/3\n",
    "for i=1:100\n",
    "    x=(1/3)*(2*x+2/(x^2))\n",
    "end\n",
    "raiz=x\n",
    "println(\"La raiz obtenida es: \",raiz)\n",
    "er=abs((2)^(1/3)-raiz)\n",
    "println(\"El error es de: \",er)"
   ]
  },
  {
   "cell_type": "markdown",
   "metadata": {},
   "source": [
    "Ahora queremos aplicar Newton en el calculo de la raiz de $2$, para su calculo partimos del siguiente polinomio:\n",
    "\n",
    "$x^2-2=0$"
   ]
  },
  {
   "cell_type": "code",
   "execution_count": 4,
   "metadata": {
    "collapsed": false
   },
   "outputs": [
    {
     "data": {
      "text/plain": [
       "1.414213562373095048801688724209698078569671875376948073176679737990732478462102e+00 with 256 bits of precision"
      ]
     },
     "execution_count": 4,
     "metadata": {},
     "output_type": "execute_result"
    }
   ],
   "source": [
    "#Metodo de Newton para la raiz cuadrada de 2 con iteraciones arbitrariamente definidas\n",
    "x=big(5)\n",
    "for i=1:10\n",
    "    x=x-(x^2-2)/(2*x)\n",
    "end\n",
    "raiz1=x"
   ]
  },
  {
   "cell_type": "markdown",
   "metadata": {},
   "source": [
    "Para el calculo de la raiz cubica de $2$ partimos del siguiente polinomio:\n",
    "\n",
    "$x^3-2=0$"
   ]
  },
  {
   "cell_type": "code",
   "execution_count": 5,
   "metadata": {
    "collapsed": false
   },
   "outputs": [
    {
     "data": {
      "text/plain": [
       "1.259921049894873164767210607278228350570251464701507980081975112155299676514785e+00 with 256 bits of precision"
      ]
     },
     "execution_count": 5,
     "metadata": {},
     "output_type": "execute_result"
    }
   ],
   "source": [
    "#Metodo de Newton para la raiz cubica de 2 on iteraciones arbitrariamente definidas\n",
    "x=big(5)\n",
    "for i=1:10\n",
    "    x=x-(x^3-2)/(3*x^2)\n",
    "end\n",
    "raiz=x"
   ]
  },
  {
   "cell_type": "markdown",
   "metadata": {},
   "source": [
    "Ambos metodos funcionaron correctamente.\n",
    "\n",
    "Ahora, cual seria una condicion razonable para la terminacion del algoritmo? Personalmente yo partiria que depende de la presicion del problema con el que estemos trabajando. Sin embargo a nivel programacion una posibilidad seria que itere hasta que la maquina ya no encuentre diferencia entre los puntos que esta encontrando. "
   ]
  },
  {
   "cell_type": "code",
   "execution_count": 6,
   "metadata": {
    "collapsed": false
   },
   "outputs": [
    {
     "name": "stdout",
     "output_type": "stream",
     "text": [
      "2.700000000000000000000000000000000000000000000000000000000000000000000000000007e+00\n",
      "1.720370370370370370370370370370370370370370370370370370370370370370370370370374e+00\n",
      "1.441455368177650201331579157198102300362795518877327273452138898855798748156119e+00\n",
      "1.414470981367771002489897732081078004626818681677764865359471489613456276420064e+00\n",
      "1.414213585796883763046612763594959906821153898169687041913305759284748693050093e+00\n",
      "1.414213562373095242787195312459616057558464165957223422194763723447978627999712e+00\n",
      "1.414213562373095048801688724209711382916966903076224562010519471194147205802683e+00\n"
     ]
    },
    {
     "data": {
      "text/plain": [
       "1.414213562373095048801688724209711382916966903076224562010519471194147205802683e+00 with 256 bits of precision"
      ]
     },
     "execution_count": 6,
     "metadata": {},
     "output_type": "execute_result"
    }
   ],
   "source": [
    "#Metodo de Newton para la raiz cuadrada de 2\n",
    "x=big(5)\n",
    "xn=x\n",
    "err=1\n",
    "while err >= 1e-10\n",
    "    xn=x-(x^2-2)/(2*x)\n",
    "    err=abs(xn-x)\n",
    "    x=xn\n",
    "    println(xn)\n",
    "end\n",
    "raiz=xn"
   ]
  },
  {
   "cell_type": "markdown",
   "metadata": {
    "collapsed": true
   },
   "source": [
    "La idea es que el algoritmo termine cuando la precision de la maquina ya no encuentre diferencias entre los dos ultimos puntos evaluados. Tambien puede ser una presicion dada por el usuario dependiendo de la aplicacion."
   ]
  },
  {
   "cell_type": "markdown",
   "metadata": {},
   "source": [
    "\n",
    "\n",
    "**[3]** Haz un módulo para llevar a cabo diferenciación automática (usando el código del notebook correspondiente) y utilízalo para implementar el método."
   ]
  },
  {
   "cell_type": "markdown",
   "metadata": {},
   "source": [
    "Empezamos probando un metodo donde introducimos tanto la funcion como la derivada."
   ]
  },
  {
   "cell_type": "code",
   "execution_count": 7,
   "metadata": {
    "collapsed": false
   },
   "outputs": [
    {
     "data": {
      "text/plain": [
       "g (generic function with 1 method)"
      ]
     },
     "execution_count": 7,
     "metadata": {},
     "output_type": "execute_result"
    }
   ],
   "source": [
    "g(x)=5x^2-9x+1#Es la funcion que vamos a introducir para encontrar su raiz"
   ]
  },
  {
   "cell_type": "code",
   "execution_count": 8,
   "metadata": {
    "collapsed": false
   },
   "outputs": [
    {
     "data": {
      "text/plain": [
       "newton1 (generic function with 1 method)"
      ]
     },
     "execution_count": 8,
     "metadata": {},
     "output_type": "execute_result"
    }
   ],
   "source": [
    "#Aqui va la funcion inicial donde se tiene que introducir como parametros:\n",
    "#funcion, derivada, punto inicial, error\n",
    "function newton1(f,g,x0,err)\n",
    "    xn=1#Este valor se inicializa en 1 y es el que se utilizara para guardar la \"siguiente\" iteracion\n",
    "    x=x0#Aqui cargamos el punto inicial\n",
    "    errc=1\n",
    "    while errc >= err#En el ciclo utilizaremos parametro de error introducido, el ciclo se detiene al obtener un error inferior \n",
    "        xn=x-f(x)/g(x)#Esta es la iteracion del metodo\n",
    "        errc=abs(xn-x)#Calculamos el error\n",
    "        x=xn#Guardamos en x la iteracion obtenida y reiniciamos el ciclo\n",
    "        println(xn)#Vamos imprimiendo las iteraciones (podria ser un inconveniente)\n",
    "    end\n",
    "    raiz=xn#Guarda y despliega la raiz obtenida\n",
    "end"
   ]
  },
  {
   "cell_type": "code",
   "execution_count": 9,
   "metadata": {
    "collapsed": false
   },
   "outputs": [
    {
     "data": {
      "text/plain": [
       "g (generic function with 1 method)"
      ]
     },
     "execution_count": 9,
     "metadata": {},
     "output_type": "execute_result"
    }
   ],
   "source": [
    "#Probamos la funcion creada con f(x) y su derivada g(x)\n",
    "f(x)=x^2-7\n",
    "g(x)=2x"
   ]
  },
  {
   "cell_type": "code",
   "execution_count": 10,
   "metadata": {
    "collapsed": false
   },
   "outputs": [
    {
     "name": "stdout",
     "output_type": "stream",
     "text": [
      "4.0\n",
      "2.875\n",
      "2.654891304347826\n",
      "2.6457670441902894\n",
      "2.6457513111113693\n"
     ]
    },
    {
     "data": {
      "text/plain": [
       "2.6457513111113693"
      ]
     },
     "execution_count": 10,
     "metadata": {},
     "output_type": "execute_result"
    }
   ],
   "source": [
    "newton1(f,g,1,0.0001)"
   ]
  },
  {
   "cell_type": "code",
   "execution_count": 11,
   "metadata": {
    "collapsed": false
   },
   "outputs": [
    {
     "data": {
      "text/plain": [
       "8.881784197001252e-16"
      ]
     },
     "execution_count": 11,
     "metadata": {},
     "output_type": "execute_result"
    }
   ],
   "source": [
    "f(2.6457513110645907)#Funciona, arroja algo casi cero, podemos decir que econtro una raiz conuna presicion de 10^-16"
   ]
  },
  {
   "cell_type": "markdown",
   "metadata": {},
   "source": [
    "Ahora vamos a usar el modulo de Derivadas (implementado en el notebook 4) para que el calculo sea automatico, es decir, sin tener que introducir como parametro la derivada."
   ]
  },
  {
   "cell_type": "code",
   "execution_count": 12,
   "metadata": {
    "collapsed": true
   },
   "outputs": [],
   "source": [
    "workspace()"
   ]
  },
  {
   "cell_type": "code",
   "execution_count": 13,
   "metadata": {
    "collapsed": false
   },
   "outputs": [],
   "source": [
    "using Derivadas#Cargamos el modulo"
   ]
  },
  {
   "cell_type": "code",
   "execution_count": 14,
   "metadata": {
    "collapsed": false
   },
   "outputs": [
    {
     "data": {
      "text/plain": [
       "f (generic function with 1 method)"
      ]
     },
     "execution_count": 14,
     "metadata": {},
     "output_type": "execute_result"
    }
   ],
   "source": [
    "f(x::DerValue)=x^2-7#Cargamos la funcion con su argumento"
   ]
  },
  {
   "cell_type": "code",
   "execution_count": 15,
   "metadata": {
    "collapsed": false
   },
   "outputs": [
    {
     "data": {
      "text/plain": [
       "DerValue(-3,4)"
      ]
     },
     "execution_count": 15,
     "metadata": {},
     "output_type": "execute_result"
    }
   ],
   "source": [
    "f(DerValue(2,1))#Probamos, funciona!"
   ]
  },
  {
   "cell_type": "code",
   "execution_count": 16,
   "metadata": {
    "collapsed": false
   },
   "outputs": [
    {
     "data": {
      "text/plain": [
       "newton2 (generic function with 1 method)"
      ]
     },
     "execution_count": 16,
     "metadata": {},
     "output_type": "execute_result"
    }
   ],
   "source": [
    "#Va de nuevo la funcion, los parametros solo son la funcion(cuyo argumento es DerValue), punto inicial y error)\n",
    "function newton2(f,x0,err)\n",
    "    xn=1#Definimos una variable solo para cargar el el valor de la iteracion calculada\n",
    "    y=f(DerValue(x0,1))#Cargamos el valor de la funcion y su derivada\n",
    "    x=x0#Cargamos el valor inicial que le proporcionamos para comenzar las iteraciones\n",
    "    errc=1#Definimos un error para comparar contra el dado como parametro\n",
    "    while errc >= err#Inicia el ciclo que correra hasta que el error no sea reducido al valor dado\n",
    "        xn=x-y.f_v/y.d_v#Ecuacion del metodo de Newton, guaramos la iteracion en xn\n",
    "        errc=abs(xn-x)#Calculamos el error\n",
    "        x=xn#Guardamos la iteracion en la variable x para encontrar el siguiente valor\n",
    "        y=f(DerValue(x,1))#Calculamos de nuevo la funcion y su derivada a partit del punto obtenido\n",
    "        #println(xn)#Vamos imprimiendo resultados\n",
    "    end\n",
    "    raiz=xn#Despliega la raiz obtenida\n",
    "end"
   ]
  },
  {
   "cell_type": "code",
   "execution_count": 17,
   "metadata": {
    "collapsed": false
   },
   "outputs": [
    {
     "data": {
      "text/plain": [
       "2.6457513110646933"
      ]
     },
     "execution_count": 17,
     "metadata": {},
     "output_type": "execute_result"
    }
   ],
   "source": [
    "#Lo probamos\n",
    "f(x::DerValue)=x^2-7\n",
    "newton2(f,2,0.001)#Funciona"
   ]
  },
  {
   "cell_type": "code",
   "execution_count": 18,
   "metadata": {
    "collapsed": false
   },
   "outputs": [
    {
     "data": {
      "text/plain": [
       "DerValue(8.881784197001252e-16,5.291502622129181)"
      ]
     },
     "execution_count": 18,
     "metadata": {},
     "output_type": "execute_result"
    }
   ],
   "source": [
    "f(DerValue(2.6457513110645907,1))#Al evaluar en f tenemos una raiz con precision de 10^-16 y el valor de su derivada"
   ]
  },
  {
   "cell_type": "code",
   "execution_count": 19,
   "metadata": {
    "collapsed": false
   },
   "outputs": [
    {
     "name": "stderr",
     "output_type": "stream",
     "text": [
      "INFO: Nothing to be done\n",
      "INFO: METADATA is out-of-date — you may not have the latest version of PyPlot\n",
      "INFO: Use `Pkg.update()` to get the latest versions of your packages\n",
      "Warning: Method definition IPv4(String,) in module Compat at /home/juser/.julia/v0.3/Compat/src/Compat.jl:31 overwritten in module Compat at /home/juser/.julia/v0.3/Compat/src/Compat.jl:31.\n",
      "Warning: Method definition IPv6(String,) in module Compat at /home/juser/.julia/v0.3/Compat/src/Compat.jl:32 overwritten in module Compat at /home/juser/.julia/v0.3/Compat/src/Compat.jl:32.\n",
      "Warning: Method definition isless(T<:IpAddr,T<:IpAddr) in module Compat at /home/juser/.julia/v0.3/Compat/src/Compat.jl:37 overwritten in module Compat at /home/juser/.julia/v0.3/Compat/src/Compat.jl:37.\n",
      "Warning: Method definition Dict(Any,) in module Compat at /home/juser/.julia/v0.3/Compat/src/Compat.jl:49 overwritten in module Compat at /home/juser/.julia/v0.3/Compat/src/Compat.jl:49.\n",
      "Warning: Method definition round(Type{T<:Integer},Integer) in module Compat at /home/juser/.julia/v0.3/Compat/src/Compat.jl:65 overwritten in module Compat at /home/juser/.julia/v0.3/Compat/src/Compat.jl:65.\n",
      "Warning: Method definition round(Type{T<:Integer},Any) in module Compat at /home/juser/.julia/v0.3/Compat/src/Compat.jl:66 overwritten in module Compat at /home/juser/.julia/v0.3/Compat/src/Compat.jl:66.\n",
      "Warning: Method definition round(Type{T<:Integer},Rational{T<:Integer}) in module Compat at /home/juser/.julia/v0.3/Compat/src/Compat.jl:67 overwritten in module Compat at /home/juser/.julia/v0.3/Compat/src/Compat.jl:67.\n",
      "Warning: Method definition ceil(Type{T<:Integer},Integer) in module Compat at /home/juser/.julia/v0.3/Compat/src/Compat.jl:65 overwritten in module Compat at /home/juser/.julia/v0.3/Compat/src/Compat.jl:65.\n",
      "Warning: Method definition ceil(Type{T<:Integer},Any) in module Compat at /home/juser/.julia/v0.3/Compat/src/Compat.jl:66 overwritten in module Compat at /home/juser/.julia/v0.3/Compat/src/Compat.jl:66.\n",
      "Warning: Method definition ceil(Type{T<:Integer},Rational{T<:Integer}) in module Compat at /home/juser/.julia/v0.3/Compat/src/Compat.jl:67 overwritten in module Compat at /home/juser/.julia/v0.3/Compat/src/Compat.jl:67.\n",
      "Warning: Method definition floor(Type{T<:Integer},Integer) in module Compat at /home/juser/.julia/v0.3/Compat/src/Compat.jl:65 overwritten in module Compat at /home/juser/.julia/v0.3/Compat/src/Compat.jl:65.\n",
      "Warning: Method definition floor(Type{T<:Integer},Any) in module Compat at /home/juser/.julia/v0.3/Compat/src/Compat.jl:66 overwritten in module Compat at /home/juser/.julia/v0.3/Compat/src/Compat.jl:66.\n",
      "Warning: Method definition floor(Type{T<:Integer},Rational{T<:Integer}) in module Compat at /home/juser/.julia/v0.3/Compat/src/Compat.jl:67 overwritten in module Compat at /home/juser/.julia/v0.3/Compat/src/Compat.jl:67.\n",
      "Warning: Method definition trunc(Type{T<:Integer},Integer) in module Compat at /home/juser/.julia/v0.3/Compat/src/Compat.jl:65 overwritten in module Compat at /home/juser/.julia/v0.3/Compat/src/Compat.jl:65.\n",
      "Warning: Method definition trunc(Type{T<:Integer},Any) in module Compat at /home/juser/.julia/v0.3/Compat/src/Compat.jl:66 overwritten in module Compat at /home/juser/.julia/v0.3/Compat/src/Compat.jl:66.\n",
      "Warning: Method definition trunc(Type{T<:Integer},Rational{T<:Integer}) in module Compat at /home/juser/.julia/v0.3/Compat/src/Compat.jl:67 overwritten in module Compat at /home/juser/.julia/v0.3/Compat/src/Compat.jl:67.\n",
      "Warning: Method definition rand(Type{Bool},) in module Compat at /home/juser/.julia/v0.3/Compat/src/Compat.jl:173 overwritten in module Compat at /home/juser/.julia/v0.3/Compat/src/Compat.jl:173.\n",
      "Warning: Method definition parse(Type{T<:Integer},Char) in module Compat at /home/juser/.julia/v0.3/Compat/src/Compat.jl:194 overwritten in module Compat at /home/juser/.julia/v0.3/Compat/src/Compat.jl:194.\n",
      "Warning: Method definition parse(Type{T<:Integer},Char,Integer) in module Compat at /home/juser/.julia/v0.3/Compat/src/Compat.jl:195 overwritten in module Compat at /home/juser/.julia/v0.3/Compat/src/Compat.jl:195.\n",
      "Warning: Method definition parse(Type{T<:Integer},String) in module Compat at /home/juser/.julia/v0.3/Compat/src/Compat.jl:196 overwritten in module Compat at /home/juser/.julia/v0.3/Compat/src/Compat.jl:196.\n",
      "Warning: Method definition parse(Type{T<:Integer},String,Integer) in module Compat at /home/juser/.julia/v0.3/Compat/src/Compat.jl:197 overwritten in module Compat at /home/juser/.julia/v0.3/Compat/src/Compat.jl:197.\n",
      "Warning: Method definition parse(Type{T<:Union(Float64,Float32)},String) in module Compat at /home/juser/.julia/v0.3/Compat/src/Compat.jl:198 overwritten in module Compat at /home/juser/.julia/v0.3/Compat/src/Compat.jl:198.\n",
      "INFO: Loading help data...\n"
     ]
    },
    {
     "data": {
      "image/png": "[encoded data removed]",
      "text/plain": [
       "Figure(PyObject <matplotlib.figure.Figure object at 0x7f90957a0d10>)"
      ]
     },
     "metadata": {},
     "output_type": "display_data"
    }
   ],
   "source": [
    "#Graficando la funcion y el resultado obtenido\n",
    "Pkg.add(\"PyPlot\")\n",
    "using PyPlot\n",
    "v=[-4, 4, -8, 4]\n",
    "x=[-9:0.05:9]\n",
    "r=[2.6457513110645907 for i=-9:0.05:9]\n",
    "g=x.^2-7\n",
    "plot(x,g,r,x)\n",
    "axis(v)\n",
    "title(\"g(x)=x^2-7\")\n",
    "xlabel(\"x\")\n",
    "ylabel(\"g(x)\")\n",
    "grid(\"on\")"
   ]
  },
  {
   "cell_type": "code",
   "execution_count": 19,
   "metadata": {
    "collapsed": false
   },
   "outputs": [
    {
     "data": {
      "text/plain": [
       "6.831144975639854"
      ]
     },
     "execution_count": 19,
     "metadata": {},
     "output_type": "execute_result"
    }
   ],
   "source": [
    "f(x::DerValue)=x^3-3x^2-25x-8\n",
    "f(DerValue(7,1))\n",
    "newton2(f,5,0.001)#Funciona?"
   ]
  },
  {
   "cell_type": "markdown",
   "metadata": {},
   "source": [
    "Busco ahora otra raiz del mismo polinomio, empezare en $x=-4$"
   ]
  },
  {
   "cell_type": "code",
   "execution_count": 20,
   "metadata": {
    "collapsed": false
   },
   "outputs": [
    {
     "data": {
      "text/plain": [
       "-3.4961771837547637"
      ]
     },
     "execution_count": 20,
     "metadata": {},
     "output_type": "execute_result"
    }
   ],
   "source": [
    "f(x::DerValue)=x^3-3x^2-25x-8\n",
    "f(DerValue(-4,1))\n",
    "newton2(f,-4,0.001)#Funciona?"
   ]
  },
  {
   "cell_type": "markdown",
   "metadata": {},
   "source": [
    "Para la ultima raiz comienzo en $x=0$"
   ]
  },
  {
   "cell_type": "code",
   "execution_count": 21,
   "metadata": {
    "collapsed": false
   },
   "outputs": [
    {
     "data": {
      "text/plain": [
       "-0.33496779161692886"
      ]
     },
     "execution_count": 21,
     "metadata": {},
     "output_type": "execute_result"
    }
   ],
   "source": [
    "f(x::DerValue)=x^3-3x^2-25x-8\n",
    "f(DerValue(0,1))\n",
    "newton2(f,0,0.001)#Funciona?"
   ]
  },
  {
   "cell_type": "markdown",
   "metadata": {},
   "source": [
    "Se calcularon todas las raices de manera satisfactoria.\n",
    "\n",
    "El método de Newton puede fallar:\n",
    "\n",
    "**[4]** Utiliza el mismo método para la función compleja $f(z)=z^3−1$. Empezando desde distintos números complejos a+bi, itera el algoritmo para ver a cuál raíz converge, y colorea el punto inicial de manera correspondiente. [Para esto, se recomienda construir una matriz y utilizar la función pcolor de PyPlot.]\n",
    "\n",
    "Interpreta el resultado.\n",
    "Dimensión superior"
   ]
  },
  {
   "cell_type": "code",
   "execution_count": 39,
   "metadata": {
    "collapsed": false
   },
   "outputs": [
    {
     "data": {
      "text/plain": [
       "1.0000000000060312"
      ]
     },
     "execution_count": 39,
     "metadata": {},
     "output_type": "execute_result"
    }
   ],
   "source": [
    "#Probando el metodo para la funcion compleja\n",
    "f(x::DerValue)=x^3-1\n",
    "f(DerValue(0.5,1))\n",
    "newton2(f,0.5,0.001)\n",
    "#funciona!"
   ]
  },
  {
   "cell_type": "code",
   "execution_count": 40,
   "metadata": {
    "collapsed": false
   },
   "outputs": [
    {
     "data": {
      "text/plain": [
       "-0.4999999113699129 - 0.8660249031568892im"
      ]
     },
     "execution_count": 40,
     "metadata": {},
     "output_type": "execute_result"
    }
   ],
   "source": [
    "#Probando el metodo para la funcion compleja\n",
    "f(x::DerValue)=x^3-1\n",
    "f(DerValue(-1-1im,1))\n",
    "newton2(f,-1-1im,0.001)#NO OLVIDAR INTRODUCIR EL x0\n",
    "#Funciona"
   ]
  },
  {
   "cell_type": "code",
   "execution_count": 32,
   "metadata": {
    "collapsed": false,
    "scrolled": true
   },
   "outputs": [
    {
     "data": {
      "text/plain": [
       "21x21 Array{Complex{Float64},2}:\n",
       " -1.0+1.0im  -0.9+1.0im  -0.8+1.0im  …  0.8+1.0im  0.9+1.0im  1.0+1.0im\n",
       " -1.0+0.9im  -0.9+0.9im  -0.8+0.9im     0.8+0.9im  0.9+0.9im  1.0+0.9im\n",
       " -1.0+0.8im  -0.9+0.8im  -0.8+0.8im     0.8+0.8im  0.9+0.8im  1.0+0.8im\n",
       " -1.0+0.7im  -0.9+0.7im  -0.8+0.7im     0.8+0.7im  0.9+0.7im  1.0+0.7im\n",
       " -1.0+0.6im  -0.9+0.6im  -0.8+0.6im     0.8+0.6im  0.9+0.6im  1.0+0.6im\n",
       " -1.0+0.5im  -0.9+0.5im  -0.8+0.5im  …  0.8+0.5im  0.9+0.5im  1.0+0.5im\n",
       " -1.0+0.4im  -0.9+0.4im  -0.8+0.4im     0.8+0.4im  0.9+0.4im  1.0+0.4im\n",
       " -1.0+0.3im  -0.9+0.3im  -0.8+0.3im     0.8+0.3im  0.9+0.3im  1.0+0.3im\n",
       " -1.0+0.2im  -0.9+0.2im  -0.8+0.2im     0.8+0.2im  0.9+0.2im  1.0+0.2im\n",
       " -1.0+0.1im  -0.9+0.1im  -0.8+0.1im     0.8+0.1im  0.9+0.1im  1.0+0.1im\n",
       " -1.0+0.0im  -0.9+0.0im  -0.8+0.0im  …  0.8+0.0im  0.9+0.0im  1.0+0.0im\n",
       " -1.0-0.1im  -0.9-0.1im  -0.8-0.1im     0.8-0.1im  0.9-0.1im  1.0-0.1im\n",
       " -1.0-0.2im  -0.9-0.2im  -0.8-0.2im     0.8-0.2im  0.9-0.2im  1.0-0.2im\n",
       " -1.0-0.3im  -0.9-0.3im  -0.8-0.3im     0.8-0.3im  0.9-0.3im  1.0-0.3im\n",
       " -1.0-0.4im  -0.9-0.4im  -0.8-0.4im     0.8-0.4im  0.9-0.4im  1.0-0.4im\n",
       " -1.0-0.5im  -0.9-0.5im  -0.8-0.5im  …  0.8-0.5im  0.9-0.5im  1.0-0.5im\n",
       " -1.0-0.6im  -0.9-0.6im  -0.8-0.6im     0.8-0.6im  0.9-0.6im  1.0-0.6im\n",
       " -1.0-0.7im  -0.9-0.7im  -0.8-0.7im     0.8-0.7im  0.9-0.7im  1.0-0.7im\n",
       " -1.0-0.8im  -0.9-0.8im  -0.8-0.8im     0.8-0.8im  0.9-0.8im  1.0-0.8im\n",
       " -1.0-0.9im  -0.9-0.9im  -0.8-0.9im     0.8-0.9im  0.9-0.9im  1.0-0.9im\n",
       " -1.0-1.0im  -0.9-1.0im  -0.8-1.0im  …  0.8-1.0im  0.9-1.0im  1.0-1.0im"
      ]
     },
     "execution_count": 32,
     "metadata": {},
     "output_type": "execute_result"
    }
   ],
   "source": [
    "M=[-1+(j-1)*0.1+1im-(i*1im-1im)*0.1 for i in 1:21, j in 1:21]#Matriz a evaluar en el algoritmo"
   ]
  },
  {
   "cell_type": "markdown",
   "metadata": {},
   "source": [
    "Iteré sobre una matriz M que barre los puntos de $-1-i$ a $1+i$, logro encontrar cualquiera de las tres raices en todos los casos salvo cuando se parte del $0$ ya que el metodo se queda estancado en 1."
   ]
  },
  {
   "cell_type": "code",
   "execution_count": 63,
   "metadata": {
    "collapsed": false
   },
   "outputs": [
    {
     "data": {
      "image/png": "[encoded data removed]",
      "text/plain": [
       "Figure(PyObject <matplotlib.figure.Figure object at 0x7f5e7a8f5d10>)"
      ]
     },
     "metadata": {},
     "output_type": "display_data"
    },
    {
     "data": {
      "text/plain": [
       "PyObject <matplotlib.collections.PolyCollection object at 0x7f5e79f94dd0>"
      ]
     },
     "execution_count": 63,
     "metadata": {},
     "output_type": "execute_result"
    }
   ],
   "source": [
    "f(x::DerValue)=x^3-1\n",
    "x=0\n",
    "M=[-1+(j-1)*0.1+1im-(i*1im-1im)*0.1 for i in 1:21, j in 1:21]#No borrar esta matriz\n",
    "A=zeros(Complex{Float64},21,21)#Este es el paso fino al declarar la matriz\n",
    "for i=1:21\n",
    "    for j=1:21\n",
    "        f(DerValue(M[i,j],1))\n",
    "        x=newton2(f,M[i,j],0.001)\n",
    "        if abs(x^3-1) < 0.01\n",
    "            A[i,j]=0\n",
    "        else\n",
    "            A[i,j]=1\n",
    "        end\n",
    "        #A[i,j]=abs(x^3-1)\n",
    "        #println(1)\n",
    "    end\n",
    "end\n",
    "using PyPlot\n",
    "pcolor(A)"
   ]
  },
  {
   "cell_type": "markdown",
   "metadata": {},
   "source": [
    "Finalmente en la grafica podemos ver que regiones nos llevan a las distintas raices."
   ]
  },
  {
   "cell_type": "code",
   "execution_count": 18,
   "metadata": {
    "collapsed": false,
    "scrolled": false
   },
   "outputs": [
    {
     "name": "stderr",
     "output_type": "stream",
     "text": [
      "Warning: Method definition IPv4(String,) in module Compat at /home/juser/.julia/v0.3/Compat/src/Compat.jl:31 overwritten in module Compat at /home/juser/.julia/v0.3/Compat/src/Compat.jl:31.\n",
      "Warning: Method definition IPv6(String,) in module Compat at /home/juser/.julia/v0.3/Compat/src/Compat.jl:32 overwritten in module Compat at /home/juser/.julia/v0.3/Compat/src/Compat.jl:32.\n",
      "Warning: Method definition isless(T<:IpAddr,T<:IpAddr) in module Compat at /home/juser/.julia/v0.3/Compat/src/Compat.jl:37 overwritten in module Compat at /home/juser/.julia/v0.3/Compat/src/Compat.jl:37.\n",
      "Warning: Method definition Dict(Any,) in module Compat at /home/juser/.julia/v0.3/Compat/src/Compat.jl:49 overwritten in module Compat at /home/juser/.julia/v0.3/Compat/src/Compat.jl:49.\n",
      "Warning: Method definition round(Type{T<:Integer},Integer) in module Compat at /home/juser/.julia/v0.3/Compat/src/Compat.jl:65 overwritten in module Compat at /home/juser/.julia/v0.3/Compat/src/Compat.jl:65.\n",
      "Warning: Method definition round(Type{T<:Integer},Any) in module Compat at /home/juser/.julia/v0.3/Compat/src/Compat.jl:66 overwritten in module Compat at /home/juser/.julia/v0.3/Compat/src/Compat.jl:66.\n",
      "Warning: Method definition round(Type{T<:Integer},Rational{T<:Integer}) in module Compat at /home/juser/.julia/v0.3/Compat/src/Compat.jl:67 overwritten in module Compat at /home/juser/.julia/v0.3/Compat/src/Compat.jl:67.\n",
      "Warning: Method definition ceil(Type{T<:Integer},Integer) in module Compat at /home/juser/.julia/v0.3/Compat/src/Compat.jl:65 overwritten in module Compat at /home/juser/.julia/v0.3/Compat/src/Compat.jl:65.\n",
      "Warning: Method definition ceil(Type{T<:Integer},Any) in module Compat at /home/juser/.julia/v0.3/Compat/src/Compat.jl:66 overwritten in module Compat at /home/juser/.julia/v0.3/Compat/src/Compat.jl:66.\n",
      "Warning: Method definition ceil(Type{T<:Integer},Rational{T<:Integer}) in module Compat at /home/juser/.julia/v0.3/Compat/src/Compat.jl:67 overwritten in module Compat at /home/juser/.julia/v0.3/Compat/src/Compat.jl:67.\n",
      "Warning: Method definition floor(Type{T<:Integer},Integer) in module Compat at /home/juser/.julia/v0.3/Compat/src/Compat.jl:65 overwritten in module Compat at /home/juser/.julia/v0.3/Compat/src/Compat.jl:65.\n",
      "Warning: Method definition floor(Type{T<:Integer},Any) in module Compat at /home/juser/.julia/v0.3/Compat/src/Compat.jl:66 overwritten in module Compat at /home/juser/.julia/v0.3/Compat/src/Compat.jl:66.\n",
      "Warning: Method definition floor(Type{T<:Integer},Rational{T<:Integer}) in module Compat at /home/juser/.julia/v0.3/Compat/src/Compat.jl:67 overwritten in module Compat at /home/juser/.julia/v0.3/Compat/src/Compat.jl:67.\n",
      "Warning: Method definition trunc(Type{T<:Integer},Integer) in module Compat at /home/juser/.julia/v0.3/Compat/src/Compat.jl:65 overwritten in module Compat at /home/juser/.julia/v0.3/Compat/src/Compat.jl:65.\n",
      "Warning: Method definition trunc(Type{T<:Integer},Any) in module Compat at /home/juser/.julia/v0.3/Compat/src/Compat.jl:66 overwritten in module Compat at /home/juser/.julia/v0.3/Compat/src/Compat.jl:66.\n",
      "Warning: Method definition trunc(Type{T<:Integer},Rational{T<:Integer}) in module Compat at /home/juser/.julia/v0.3/Compat/src/Compat.jl:67 overwritten in module Compat at /home/juser/.julia/v0.3/Compat/src/Compat.jl:67.\n",
      "Warning: Method definition rand(Type{Bool},) in module Compat at /home/juser/.julia/v0.3/Compat/src/Compat.jl:173 overwritten in module Compat at /home/juser/.julia/v0.3/Compat/src/Compat.jl:173.\n",
      "Warning: Method definition parse(Type{T<:Integer},Char) in module Compat at /home/juser/.julia/v0.3/Compat/src/Compat.jl:194 overwritten in module Compat at /home/juser/.julia/v0.3/Compat/src/Compat.jl:194.\n",
      "Warning: Method definition parse(Type{T<:Integer},Char,Integer) in module Compat at /home/juser/.julia/v0.3/Compat/src/Compat.jl:195 overwritten in module Compat at /home/juser/.julia/v0.3/Compat/src/Compat.jl:195.\n",
      "Warning: Method definition parse(Type{T<:Integer},String) in module Compat at /home/juser/.julia/v0.3/Compat/src/Compat.jl:196 overwritten in module Compat at /home/juser/.julia/v0.3/Compat/src/Compat.jl:196.\n",
      "Warning: Method definition parse(Type{T<:Integer},String,Integer) in module Compat at /home/juser/.julia/v0.3/Compat/src/Compat.jl:197 overwritten in module Compat at /home/juser/.julia/v0.3/Compat/src/Compat.jl:197.\n",
      "Warning: Method definition parse(Type{T<:Union(Float32,Float64)},String) in module Compat at /home/juser/.julia/v0.3/Compat/src/Compat.jl:198 overwritten in module Compat at /home/juser/.julia/v0.3/Compat/src/Compat.jl:198.\n",
      "INFO: Loading help data...\n"
     ]
    },
    {
     "data": {
      "image/png": "[encoded data removed]",
      "text/plain": [
       "Figure(PyObject <matplotlib.figure.Figure object at 0x7fccb91a2d10>)"
      ]
     },
     "metadata": {},
     "output_type": "display_data"
    },
    {
     "data": {
      "text/plain": [
       "PyObject <matplotlib.collections.PolyCollection object at 0x7fcce6600390>"
      ]
     },
     "execution_count": 18,
     "metadata": {},
     "output_type": "execute_result"
    },
    {
     "name": "stderr",
     "output_type": "stream",
     "text": [
      "/usr/lib/python2.7/dist-packages/numpy/ma/core.py:2965: ComplexWarning: Casting complex values to real discards the imaginary part\n",
      "  output = self._data.astype(newtype).view(type(self))\n",
      "/usr/lib/pymodules/python2.7/matplotlib/colors.py:909: ComplexWarning: Casting complex values to real discards the imaginary part\n",
      "  vmin = float(vmin)\n",
      "/usr/lib/pymodules/python2.7/matplotlib/colors.py:910: ComplexWarning: Casting complex values to real discards the imaginary part\n",
      "  vmax = float(vmax)\n"
     ]
    }
   ],
   "source": [
    "f(x::DerValue)=x^3-1\n",
    "x=0\n",
    "M=[-1+(j-1)*0.1+1im-(i*1im-1im)*0.1 for i in 1:21, j in 1:21]#No borrar esta matriz\n",
    "A=zeros(Complex{Float64},21,21)#Este es el paso fino al declarar la matriz\n",
    "for i=1:21\n",
    "    for j=1:21\n",
    "        f(DerValue(M[i,j],1))\n",
    "        x=newton2(f,M[i,j],0.001)\n",
    "        if abs(x^3-1) < 0.01\n",
    "            if real(x) > 0\n",
    "                A[i,j]=100\n",
    "                elseif imag(x) < 0\n",
    "                A[i,j]=0\n",
    "            else\n",
    "                A[i,j]=-100\n",
    "            end\n",
    "        else\n",
    "            A[i,j]=1\n",
    "        end\n",
    "        #A[i,j]=abs(x^3-1)\n",
    "        #println(1)\n",
    "    end\n",
    "end\n",
    "using PyPlot\n",
    "pcolor(A)"
   ]
  },
  {
   "cell_type": "code",
   "execution_count": null,
   "metadata": {
    "collapsed": true
   },
   "outputs": [],
   "source": []
  }
 ],
 "metadata": {
  "kernelspec": {
   "display_name": "Julia 0.3.6",
   "language": "julia",
   "name": "julia 0.3"
  },
  "language_info": {
   "name": "julia",
   "version": "0.3.6"
  }
 },
 "nbformat": 4,
 "nbformat_minor": 0
}
