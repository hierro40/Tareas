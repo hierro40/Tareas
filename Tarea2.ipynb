{
 "metadata": {
  "kernelspec": {
   "codemirror_mode": "julia",
   "display_name": "Julia",
   "language": "julia",
   "name": "julia"
  },
  "language": "Julia",
  "name": "",
  "signature": "sha256:074b0b7ead9ef4d6906f30aac0fc7eac25cf8d80dc4650a05ec1b3f647887731"
 },
 "nbformat": 3,
 "nbformat_minor": 0,
 "worksheets": [
  {
   "cells": [
    {
     "cell_type": "heading",
     "level": 1,
     "metadata": {},
     "source": [
      "Pr\u00e1ctica sobre n\u00fameros enteros y reales"
     ]
    },
    {
     "cell_type": "raw",
     "metadata": {},
     "source": [
      "Las funciones creadas fueron:\n",
      "    1. ChrisConv() Ingresamos un entero binario y devuelve un entero en base diez\n",
      "    2. ChrisConv2() Ingresamos un entero en base diez y devuelve un entero binario\n",
      "    3. ChrisConv3() Ingresamos un binario fraccionario y devuelve un real base diez\n",
      "    4. ChrisConv4() Ingresamos un real en base diez y devuelve un binario fraccionario (llama a la funcion ChrisConv2())\n",
      "Se incluyen algunas pruebas de funciones que considere utiles"
     ]
    },
    {
     "cell_type": "code",
     "collapsed": false,
     "input": [
      "### TRABAJANDO CON ENTEROS\n",
      "bits(10)"
     ],
     "language": "python",
     "metadata": {},
     "outputs": []
    },
    {
     "cell_type": "code",
     "collapsed": false,
     "input": [
      "f(x)=bits(x)"
     ],
     "language": "python",
     "metadata": {},
     "outputs": [
      {
       "metadata": {},
       "output_type": "pyout",
       "prompt_number": 9,
       "text": [
        "f (generic function with 1 method)"
       ]
      }
     ],
     "prompt_number": 9
    },
    {
     "cell_type": "code",
     "collapsed": false,
     "input": [
      "f(30)"
     ],
     "language": "python",
     "metadata": {},
     "outputs": [
      {
       "metadata": {},
       "output_type": "pyout",
       "prompt_number": 10,
       "text": [
        "\"0000000000000000000000000000000000000000000000000000000000011110\""
       ]
      }
     ],
     "prompt_number": 10
    },
    {
     "cell_type": "code",
     "collapsed": false,
     "input": [
      "# Crear funciones"
     ],
     "language": "python",
     "metadata": {},
     "outputs": [
      {
       "ename": "LoadError",
       "evalue": "input not defined\nwhile loading In[16], in expression starting on line 1",
       "output_type": "pyerr",
       "traceback": [
        "input not defined\nwhile loading In[16], in expression starting on line 1",
        ""
       ]
      }
     ],
     "prompt_number": 16
    },
    {
     "cell_type": "code",
     "collapsed": false,
     "input": [
      "# Primer intento rudimentario\n",
      "x=1100001\n",
      "y=string(x)\n",
      "n=length(y)\n",
      "z=zeros(1,n)\n",
      "for i=1:n\n",
      "    z[i]=int(y[i])-48\n",
      "end\n",
      "w=0\n",
      "for i=1:n\n",
      "    w+=(z[i])*2^(n-i)\n",
      "end\n",
      "println(w)\n",
      "# Funciona"
     ],
     "language": "python",
     "metadata": {},
     "outputs": [
      {
       "output_type": "stream",
       "stream": "stdout",
       "text": [
        "97.0\n"
       ]
      }
     ],
     "prompt_number": 52
    },
    {
     "cell_type": "code",
     "collapsed": false,
     "input": [
      "#### Ahora vamos con una funcion ###\n",
      "function ChrisConv(x)\n",
      "    y=string(x)\n",
      "    n=length(y)\n",
      "    z=zeros(1,n)\n",
      "    for i=1:n\n",
      "        z[i]=int(y[i])-48\n",
      "    end\n",
      "    w=0\n",
      "    for i=1:n\n",
      "        w+=(z[i])*2^(n-i)\n",
      "    end\n",
      "    println(w)\n",
      "end    "
     ],
     "language": "python",
     "metadata": {},
     "outputs": [
      {
       "metadata": {},
       "output_type": "pyout",
       "prompt_number": 54,
       "text": [
        "ChrisConv (generic function with 1 method)"
       ]
      }
     ],
     "prompt_number": 54
    },
    {
     "cell_type": "code",
     "collapsed": false,
     "input": [
      "### Prueba ###\n",
      "ChrisConv(10)\n",
      "#Funciona!"
     ],
     "language": "python",
     "metadata": {},
     "outputs": [
      {
       "output_type": "stream",
       "stream": "stdout",
       "text": [
        "2.0\n"
       ]
      }
     ],
     "prompt_number": 55
    },
    {
     "cell_type": "code",
     "collapsed": false,
     "input": [
      "### Ahora vamos con el ejercicio 2 Introducir un decimal y entregar un binario ###\n",
      "function ChrisConv2(x)\n",
      "    #x=64\n",
      "    y=0\n",
      "    z=x\n",
      "    w=\"0\"\n",
      "    r=\"\"\n",
      "    while z>1\n",
      "        y=rem(z,2)\n",
      "        z=int(floor(z/2))# Importante funcion Floor\n",
      "        w=string(y)\n",
      "        r*=w# Importante el *= que nos permite concatenar\n",
      "    end\n",
      "    r*=\"1\"\n",
      "    r=reverse(r)# Util para voltear la cadena\n",
      "    #print(r)\n",
      "    r\n",
      "end"
     ],
     "language": "python",
     "metadata": {},
     "outputs": [
      {
       "metadata": {},
       "output_type": "pyout",
       "prompt_number": 151,
       "text": [
        "ChrisConv2 (generic function with 1 method)"
       ]
      }
     ],
     "prompt_number": 151
    },
    {
     "cell_type": "code",
     "collapsed": false,
     "input": [
      "### Prueba ###\n",
      "ChrisConv2(64)\n",
      "# Funciona (Ojo esta devolviendo una cadena)"
     ],
     "language": "python",
     "metadata": {},
     "outputs": [
      {
       "metadata": {},
       "output_type": "pyout",
       "prompt_number": 152,
       "text": [
        "\"1000000\""
       ]
      }
     ],
     "prompt_number": 152
    },
    {
     "cell_type": "code",
     "collapsed": false,
     "input": [
      "# Comprobacion\n",
      "bits(64)"
     ],
     "language": "python",
     "metadata": {},
     "outputs": [
      {
       "metadata": {},
       "output_type": "pyout",
       "prompt_number": 123,
       "text": [
        "\"0000000000000000000000000000000000000000000000000000000001000000\""
       ]
      }
     ],
     "prompt_number": 123
    },
    {
     "cell_type": "code",
     "collapsed": false,
     "input": [
      "### TRABAJANDO CON REALES\n",
      "p=31.4159\n"
     ],
     "language": "python",
     "metadata": {},
     "outputs": [
      {
       "metadata": {},
       "output_type": "pyout",
       "prompt_number": 124,
       "text": [
        "31.4159"
       ]
      }
     ],
     "prompt_number": 124
    },
    {
     "cell_type": "code",
     "collapsed": false,
     "input": [
      "#El numero binario 101.0101 a decimal es:\n",
      "1*2^2+0*2^1+1*2^0+0*2^(1)+1/2^(2)+0/2^(3)+1/2^(4)"
     ],
     "language": "python",
     "metadata": {},
     "outputs": [
      {
       "metadata": {},
       "output_type": "pyout",
       "prompt_number": 131,
       "text": [
        "5.3125"
       ]
      }
     ],
     "prompt_number": 131
    },
    {
     "cell_type": "code",
     "collapsed": false,
     "input": [
      "#Para tomar cadena binaria y entregar la cadena real\n",
      "x=101.0101\n",
      "CadenaCompleta=string(x)\n",
      "LongitudCadenaCompleta=length(CadenaCompleta)#Primero tomamos toda la longitud\n",
      "ParteEntera=int(x)\n",
      "CadenaEntera=string(ParteEntera)\n",
      "LongitudCadenaEntera=length(CadenaEntera)#Luego tomamos la longitud de la parte entera\n",
      "#Primer ciclo\n",
      "ContadorCicloEntero=LongitudCadenaEntera\n",
      "SolucionEntera=0\n",
      "for i=1:ContadorCicloEntero\n",
      "    if CadenaCompleta[i]=='1'\n",
      "        Num=1\n",
      "    else\n",
      "        Num=0\n",
      "    end\n",
      "    SolucionEntera=SolucionEntera+Num*2^(ContadorCicloEntero-i)\n",
      "    #println(Solucion)\n",
      "end\n",
      "#Hasta aqui pude convertir la parte entera (Funciona)\n",
      "SolucionDecimal=0\n",
      "ContadorCicloDecimal=LongitudCadenaCompleta-LongitudCadenaEntera-1\n",
      "for i=1:ContadorCicloDecimal\n",
      "    if CadenaCompleta[i+LongitudCadenaEntera+1]=='1'\n",
      "        Num=1\n",
      "    else\n",
      "        Num=0\n",
      "    end\n",
      "    SolucionDecimal=SolucionDecimal+Num*2.0^(-1*i)#Recordar el punto fino en el 2.0\n",
      "end\n",
      "SolucionFinal=SolucionDecimal+SolucionEntera#Juntamos las dos coluciones\n",
      "#Funciona"
     ],
     "language": "python",
     "metadata": {},
     "outputs": [
      {
       "metadata": {},
       "output_type": "pyout",
       "prompt_number": 57,
       "text": [
        "5.3125"
       ]
      }
     ],
     "prompt_number": 57
    },
    {
     "cell_type": "code",
     "collapsed": false,
     "input": [
      "#Quizas sea util saber truncar\n",
      "?trunc\n"
     ],
     "language": "python",
     "metadata": {},
     "outputs": [
      {
       "output_type": "stream",
       "stream": "stdout",
       "text": [
        "Base.trunc(x[, digits[, base]])\n",
        "\n",
        "\n",
        "   Returns the nearest integral value of the same type as \"x\" not\n",
        "   greater in magnitude than \"x\". \"digits\" and \"base\" work as\n",
        "   above.\n"
       ]
      }
     ],
     "prompt_number": 5
    },
    {
     "cell_type": "code",
     "collapsed": false,
     "input": [
      "### Funcion Definitiva ###\n",
      "function ChrisConv3(x)#Toma un binario con punto decimal y entrega el real correspondiente\n",
      "    CadenaCompleta=string(x)\n",
      "    LongitudCadenaCompleta=length(CadenaCompleta)#Primero tomamos toda la longitud\n",
      "    ParteEntera=int(x)\n",
      "    CadenaEntera=string(ParteEntera)\n",
      "    LongitudCadenaEntera=length(CadenaEntera)#Luego tomamos la longitud de la parte entera\n",
      "    #Primer ciclo\n",
      "    ContadorCicloEntero=LongitudCadenaEntera\n",
      "    SolucionEntera=0\n",
      "    for i=1:ContadorCicloEntero\n",
      "        if CadenaCompleta[i]=='1'\n",
      "            Num=1\n",
      "        else\n",
      "            Num=0\n",
      "        end\n",
      "        SolucionEntera=SolucionEntera+Num*2^(ContadorCicloEntero-i)\n",
      "        #println(Solucion)\n",
      "    end\n",
      "    #Hasta aqui pude convertir la parte entera (Funciona)\n",
      "    SolucionDecimal=0\n",
      "    ContadorCicloDecimal=LongitudCadenaCompleta-LongitudCadenaEntera-1\n",
      "    for i=1:ContadorCicloDecimal\n",
      "        if CadenaCompleta[i+LongitudCadenaEntera+1]=='1'\n",
      "            Num=1\n",
      "        else\n",
      "            Num=0\n",
      "        end\n",
      "        SolucionDecimal=SolucionDecimal+Num*2.0^(-1*i)#Recordar el punto fino en el 2.0\n",
      "    end\n",
      "    SolucionFinal=SolucionDecimal+SolucionEntera#Juntamos las dos coluciones\n",
      "    #Funciona\n",
      "end"
     ],
     "language": "python",
     "metadata": {},
     "outputs": [
      {
       "metadata": {},
       "output_type": "pyout",
       "prompt_number": 2,
       "text": [
        "ChrisConv3 (generic function with 1 method)"
       ]
      }
     ],
     "prompt_number": 2
    },
    {
     "cell_type": "code",
     "collapsed": false,
     "input": [
      "### Prueba ###\n",
      "ChrisConv3(101.0101)\n",
      "#Probamos de nuevo y vuelve a funcionar correctamente"
     ],
     "language": "python",
     "metadata": {},
     "outputs": [
      {
       "metadata": {},
       "output_type": "pyout",
       "prompt_number": 141,
       "text": [
        "5.3125"
       ]
      }
     ],
     "prompt_number": 141
    },
    {
     "cell_type": "code",
     "collapsed": false,
     "input": [
      "#Vamos con la funcion real a binaria con punto decimal\n",
      "x=5.3125\n",
      "ParteEntera=int(x)\n",
      "ParteDecimal=x-ParteEntera\n",
      "CadenaEnteraBinaria=ChrisConv2(ParteEntera)#LLama la funcion que convierte entero decimal en binario (pero aqui es una cadena)\n",
      "LongitudParteEnteraBinaria=length(CadenaEnteraBinaria)\n",
      "ParteEnteraBinaria=0#Inicializamos en 0\n",
      "for i=1:LongitudParteEnteraBinaria\n",
      "    if CadenaEnteraBinaria[i]=='1'\n",
      "        Num=1\n",
      "    else\n",
      "        Num=0\n",
      "    end\n",
      "    ParteEnteraBinaria=ParteEnteraBinaria+Num*10^(LongitudParteEnteraBinaria-i)\n",
      "    #println(ParteEnteraBinaria)\n",
      "end\n",
      "ParteFraccionariaBinaria=0#Inicializamos en 0\n",
      "Ciclo=ParteDecimal\n",
      "for i=1:10\n",
      "    Ciclo=Ciclo*2\n",
      "    Valor=trunc(Ciclo)\n",
      "    Ciclo=Ciclo-Valor\n",
      "    ParteFraccionariaBinaria=ParteFraccionariaBinaria+Valor*10.0^(-1*i)\n",
      "    #println(Valor)\n",
      "end\n",
      "SolucionFinal=ParteEnteraBinaria+ParteFraccionariaBinaria"
     ],
     "language": "python",
     "metadata": {},
     "outputs": [
      {
       "metadata": {},
       "output_type": "pyout",
       "prompt_number": 139,
       "text": [
        "101.0101"
       ]
      }
     ],
     "prompt_number": 139
    },
    {
     "cell_type": "code",
     "collapsed": false,
     "input": [
      "#Uso de la funcion Trunc\n",
      "trunc(2.3528)"
     ],
     "language": "python",
     "metadata": {},
     "outputs": [
      {
       "metadata": {},
       "output_type": "pyout",
       "prompt_number": 67,
       "text": [
        "2.0"
       ]
      }
     ],
     "prompt_number": 67
    },
    {
     "cell_type": "code",
     "collapsed": false,
     "input": [
      "### Finalmente colocandolo en una funcion ###\n",
      "function ChrisConv4(x)\n",
      "    ParteEntera=int(x)\n",
      "    ParteDecimal=x-ParteEntera\n",
      "    CadenaEnteraBinaria=ChrisConv2(ParteEntera)#LLama la funcion que convierte entero decimal en binario (pero aqui es una cadena)\n",
      "    LongitudParteEnteraBinaria=length(CadenaEnteraBinaria)\n",
      "    ParteEnteraBinaria=0#Inicializamos en 0\n",
      "    for i=1:LongitudParteEnteraBinaria\n",
      "        if CadenaEnteraBinaria[i]=='1'\n",
      "            Num=1\n",
      "        else\n",
      "            Num=0\n",
      "        end\n",
      "        ParteEnteraBinaria=ParteEnteraBinaria+Num*10^(LongitudParteEnteraBinaria-i)\n",
      "        #println(ParteEnteraBinaria)\n",
      "    end\n",
      "    ParteFraccionariaBinaria=0#Inicializamos en 0\n",
      "    Ciclo=ParteDecimal\n",
      "    for i=1:15\n",
      "        Ciclo=Ciclo*2\n",
      "        Valor=trunc(Ciclo)\n",
      "        Ciclo=Ciclo-Valor\n",
      "        ParteFraccionariaBinaria=ParteFraccionariaBinaria+Valor*10.0^(-1*i)\n",
      "        #println(Valor)\n",
      "    end\n",
      "    SolucionFinal=ParteEnteraBinaria+ParteFraccionariaBinaria\n",
      "end"
     ],
     "language": "python",
     "metadata": {},
     "outputs": [
      {
       "metadata": {},
       "output_type": "pyout",
       "prompt_number": 149,
       "text": [
        "ChrisConv4 (generic function with 1 method)"
       ]
      }
     ],
     "prompt_number": 149
    },
    {
     "cell_type": "code",
     "collapsed": false,
     "input": [
      "### Prueba ###\n",
      "ChrisConv4(5.3125)\n",
      "#Funciona"
     ],
     "language": "python",
     "metadata": {},
     "outputs": [
      {
       "metadata": {},
       "output_type": "pyout",
       "prompt_number": 150,
       "text": [
        "101.0101"
       ]
      }
     ],
     "prompt_number": 150
    },
    {
     "cell_type": "code",
     "collapsed": false,
     "input": [
      "### Prueba ###\n",
      "ChrisConv3(101.0101)"
     ],
     "language": "python",
     "metadata": {},
     "outputs": [
      {
       "metadata": {},
       "output_type": "pyout",
       "prompt_number": 3,
       "text": [
        "5.3125"
       ]
      }
     ],
     "prompt_number": 3
    },
    {
     "cell_type": "code",
     "collapsed": false,
     "input": [
      "bits(1/2)"
     ],
     "language": "python",
     "metadata": {},
     "outputs": [
      {
       "metadata": {},
       "output_type": "pyout",
       "prompt_number": 4,
       "text": [
        "\"0011111111100000000000000000000000000000000000000000000000000000\""
       ]
      }
     ],
     "prompt_number": 4
    },
    {
     "cell_type": "code",
     "collapsed": false,
     "input": [
      "bits(0.5)"
     ],
     "language": "python",
     "metadata": {},
     "outputs": [
      {
       "metadata": {},
       "output_type": "pyout",
       "prompt_number": 5,
       "text": [
        "\"0011111111100000000000000000000000000000000000000000000000000000\""
       ]
      }
     ],
     "prompt_number": 5
    },
    {
     "cell_type": "code",
     "collapsed": false,
     "input": [
      "bits(1//2)\n",
      "#Interesante"
     ],
     "language": "python",
     "metadata": {},
     "outputs": [
      {
       "ename": "LoadError",
       "evalue": "`bits` has no method matching bits(::Rational{Int64})\nwhile loading In[6], in expression starting on line 1",
       "output_type": "pyerr",
       "traceback": [
        "`bits` has no method matching bits(::Rational{Int64})\nwhile loading In[6], in expression starting on line 1",
        ""
       ]
      }
     ],
     "prompt_number": 6
    },
    {
     "cell_type": "code",
     "collapsed": false,
     "input": [
      "bits(0.6)\n",
      "#En Binario se vuelve peri\u00f3dico"
     ],
     "language": "python",
     "metadata": {},
     "outputs": [
      {
       "metadata": {},
       "output_type": "pyout",
       "prompt_number": 7,
       "text": [
        "\"0011111111100011001100110011001100110011001100110011001100110011\""
       ]
      }
     ],
     "prompt_number": 7
    },
    {
     "cell_type": "code",
     "collapsed": false,
     "input": [],
     "language": "python",
     "metadata": {},
     "outputs": []
    }
   ],
   "metadata": {}
  }
 ]
}