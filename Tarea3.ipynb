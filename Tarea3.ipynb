{
 "metadata": {
  "kernelspec": {
   "codemirror_mode": "julia",
   "display_name": "Julia",
   "language": "julia",
   "name": "julia"
  },
  "language": "Julia",
  "name": "",
  "signature": "sha256:55f98f263f9754fdcdbb68004ce3cec3fbcc60a461903a2d0b7df52cc069c064"
 },
 "nbformat": 3,
 "nbformat_minor": 0,
 "worksheets": [
  {
   "cells": [
    {
     "cell_type": "code",
     "collapsed": false,
     "input": [
      "(2^63-1)"
     ],
     "language": "python",
     "metadata": {},
     "outputs": [
      {
       "metadata": {},
       "output_type": "pyout",
       "prompt_number": 2,
       "text": [
        "9223372036854775807"
       ]
      }
     ],
     "prompt_number": 2
    },
    {
     "cell_type": "code",
     "collapsed": false,
     "input": [
      "bits(0.1)"
     ],
     "language": "python",
     "metadata": {},
     "outputs": [
      {
       "metadata": {},
       "output_type": "pyout",
       "prompt_number": 4,
       "text": [
        "\"0011111110111001100110011001100110011001100110011001100110011010\""
       ]
      }
     ],
     "prompt_number": 4
    },
    {
     "cell_type": "code",
     "collapsed": false,
     "input": [
      "big(0.1)"
     ],
     "language": "python",
     "metadata": {},
     "outputs": [
      {
       "metadata": {},
       "output_type": "pyout",
       "prompt_number": 5,
       "text": [
        "1.000000000000000055511151231257827021181583404541015625e-01 with 256 bits of precision"
       ]
      }
     ],
     "prompt_number": 5
    },
    {
     "cell_type": "heading",
     "level": 1,
     "metadata": {},
     "source": [
      "Numeros de punto flotante"
     ]
    },
    {
     "cell_type": "markdown",
     "metadata": {},
     "source": [
      "**Ejercicio 1**\n",
      "\n",
      "Dados p, emin y emax, usando el sistema binario, \u00bfde cu\u00e1ntos n\u00fameros normales consiste el conjunto? \u00bfY si se trata de otra base \u03b2? \u00bfEst\u00e1n uniformemente distribuidos los n\u00fameros normales? \u00bfCu\u00e1l es la distancia entre el 0 y el primer n\u00famero positivo distinto de cero? NOTA Para guiar la respuesta, uno puede jugar con $\u03b2=2$, $p=2$, $emin=\u22121$ y $emax=2$, pero la idea es obtener expresiones generales.\n",
      "\n",
      "**R:**\n",
      "1. Para el caso binario serian:\n",
      "$[(2^p)(emax-emin+1)]2+1$\n",
      "(considerando el cero)\n",
      "2. Para otra base B\n",
      "$[(B^p)(emax-emin+1)]2+1$\n",
      "3. No estan uniformemente distribuidos los numeros\n",
      "4. Calculando la distancia de 0 al primer numero positivo obtenemos 0.5"
     ]
    },
    {
     "cell_type": "markdown",
     "metadata": {},
     "source": [
      "**Ejercicio 2**\n",
      "\n",
      "\u00bfC\u00f3mo se representa al $x=0$ en el conjunto anterior? \u00bfFunciona la regla del bit escondido para una base $\u03b2>3$?\n",
      "\n",
      "**R:** No tiene representacion, seria un numero subnormal.\n"
     ]
    },
    {
     "cell_type": "markdown",
     "metadata": {},
     "source": [
      "**Ejercicio 3**\n",
      "\n",
      "En el ejemplo de juguete anterior ($\u03b2=2$, $p=2$, $emin=\u22121$ y $emax=2$) enumera los posibles n\u00fameros subnormales. \u00bfC\u00f3mo cambia la distancia de 0 al n\u00famero positivo m\u00e1s pr\u00f3ximo? \u00bfEl espaciamiento entre los n\u00fameros subnormales, es uniforme?\n",
      "\n",
      "**R:** La distancia se vuelve mas corta sin embargo el espaciamiento seguira sin ser uniforme, aqu\u00ed vemos una lista para ese caso:"
     ]
    },
    {
     "cell_type": "markdown",
     "metadata": {},
     "source": [
      "1. $(0.01)*(2^{-1})=0.005$\n",
      "2. $(0.01)*(2^{-1})=0.05$\n",
      "3. $(0.01)*(2^{-1})=0.55$\n",
      "4. $(0.01)*(2^{0})=0.01$\n",
      "5. $(0.01)*(2^{0})=0.10$\n",
      "6. $(0.01)*(2^{0})=0.11$\n",
      "7. $(0.01)*(2^{1})=0.02$\n",
      "8. $(0.01)*(2^{1})=0.20$\n",
      "9. $(0.01)*(2^{1})=0.22$\n",
      "10. $(0.01)*(2^{2})=0.04$\n",
      "11. $(0.01)*(2^{2})=0.040$\n",
      "12. $(0.01)*(2^{2})=0.44$"
     ]
    },
    {
     "cell_type": "markdown",
     "metadata": {},
     "source": [
      "**Ejercicio 4**\n",
      "\n",
      "\u00bfQu\u00e9 expresiones definen a $Nmin$ y $Nmax$, los n\u00fameros de punto flotante (positivos) m\u00ednimo y m\u00e1ximo? Obt\u00e9n los resultados para los n\u00fameros normales y los subnormales."
     ]
    },
    {
     "cell_type": "code",
     "collapsed": false,
     "input": [
      "1.01*(1/2)"
     ],
     "language": "python",
     "metadata": {},
     "outputs": [
      {
       "metadata": {},
       "output_type": "pyout",
       "prompt_number": 10,
       "text": [
        "0.505"
       ]
      }
     ],
     "prompt_number": 10
    },
    {
     "cell_type": "code",
     "collapsed": false,
     "input": [
      "1.11*(2^2)"
     ],
     "language": "python",
     "metadata": {},
     "outputs": [
      {
       "metadata": {},
       "output_type": "pyout",
       "prompt_number": 12,
       "text": [
        "4.44"
       ]
      }
     ],
     "prompt_number": 12
    },
    {
     "cell_type": "code",
     "collapsed": false,
     "input": [
      "0.01*(1/2)"
     ],
     "language": "python",
     "metadata": {},
     "outputs": [
      {
       "metadata": {},
       "output_type": "pyout",
       "prompt_number": 13,
       "text": [
        "0.005"
       ]
      }
     ],
     "prompt_number": 13
    },
    {
     "cell_type": "code",
     "collapsed": false,
     "input": [
      "0.11*(2^2)"
     ],
     "language": "python",
     "metadata": {},
     "outputs": [
      {
       "metadata": {},
       "output_type": "pyout",
       "prompt_number": 14,
       "text": [
        "0.44"
       ]
      }
     ],
     "prompt_number": 14
    },
    {
     "cell_type": "markdown",
     "metadata": {},
     "source": [
      "**R:** La expresiones serian: \n",
      "\n",
      "$Nmin=\u03b2^{e_{min}}$\n",
      "\n",
      "$Nmax=(\u03b2-1)\u03b2^{e_{max}}\\sum_{n=-m+1}^{0}\u03b2^n$\n",
      "\n",
      "para los normalizados.\n",
      "\n",
      "$Nmin=\u03b2^{e_{min}-m+1}$\n",
      "\n",
      "$Nmax=(\u03b2-1)\u03b2^{e_{max}-1}\\sum_{n=-m+2}^{0}\u03b2^n$\n",
      "\n",
      "para los subnormales.\n",
      "\n",
      "\n",
      "$\\sum_{i=1}^{n}x_{i}$"
     ]
    },
    {
     "cell_type": "markdown",
     "metadata": {},
     "source": [
      "**Ejercicio 5**\n",
      "\n",
      "Usando bits y un poco de imaginaci\u00f3n, cu\u00e1les son las reglas para representar\n",
      "\n",
      "    x=NaN\n",
      "\n",
      "    x=Inf\n",
      "\n",
      "    un n\u00famero x>0 normal\n",
      "\n",
      "    un n\u00famero x subnormal\n",
      "\n",
      "    x=0.0 y x=\u22120.0"
     ]
    },
    {
     "cell_type": "code",
     "collapsed": false,
     "input": [
      "0/0"
     ],
     "language": "python",
     "metadata": {},
     "outputs": [
      {
       "metadata": {},
       "output_type": "pyout",
       "prompt_number": 2,
       "text": [
        "NaN"
       ]
      }
     ],
     "prompt_number": 2
    },
    {
     "cell_type": "code",
     "collapsed": false,
     "input": [
      "bits(0/0)"
     ],
     "language": "python",
     "metadata": {},
     "outputs": [
      {
       "metadata": {},
       "output_type": "pyout",
       "prompt_number": 3,
       "text": [
        "\"1111111111111000000000000000000000000000000000000000000000000000\""
       ]
      }
     ],
     "prompt_number": 3
    },
    {
     "cell_type": "code",
     "collapsed": false,
     "input": [
      "bits(1/0)"
     ],
     "language": "python",
     "metadata": {},
     "outputs": [
      {
       "metadata": {},
       "output_type": "pyout",
       "prompt_number": 4,
       "text": [
        "\"0111111111110000000000000000000000000000000000000000000000000000\""
       ]
      }
     ],
     "prompt_number": 4
    },
    {
     "cell_type": "code",
     "collapsed": false,
     "input": [
      "bits(2)"
     ],
     "language": "python",
     "metadata": {},
     "outputs": [
      {
       "metadata": {},
       "output_type": "pyout",
       "prompt_number": 11,
       "text": [
        "\"0000000000000000000000000000000000000000000000000000000000000010\""
       ]
      }
     ],
     "prompt_number": 11
    },
    {
     "cell_type": "code",
     "collapsed": false,
     "input": [
      "bits(3/7)"
     ],
     "language": "python",
     "metadata": {},
     "outputs": [
      {
       "metadata": {},
       "output_type": "pyout",
       "prompt_number": 4,
       "text": [
        "\"0011111111011011011011011011011011011011011011011011011011011011\""
       ]
      }
     ],
     "prompt_number": 4
    },
    {
     "cell_type": "code",
     "collapsed": false,
     "input": [
      "bits(0.0)"
     ],
     "language": "python",
     "metadata": {},
     "outputs": [
      {
       "metadata": {},
       "output_type": "pyout",
       "prompt_number": 1,
       "text": [
        "\"0000000000000000000000000000000000000000000000000000000000000000\""
       ]
      }
     ],
     "prompt_number": 1
    },
    {
     "cell_type": "code",
     "collapsed": false,
     "input": [
      "bits(-0.0)"
     ],
     "language": "python",
     "metadata": {},
     "outputs": [
      {
       "metadata": {},
       "output_type": "pyout",
       "prompt_number": 2,
       "text": [
        "\"1000000000000000000000000000000000000000000000000000000000000000\""
       ]
      }
     ],
     "prompt_number": 2
    },
    {
     "cell_type": "markdown",
     "metadata": {},
     "source": [
      "**R:** Aparentemente lara el NaN se enciende el bit de signo y el \u00faltimo bit del exponente, mientras que para el Inf se encienden los primeros 11 bits del exponente. Para el $0.0$ y $-0.0$ la diferencia es solo el primer bit, que corresponde al signo."
     ]
    },
    {
     "cell_type": "markdown",
     "metadata": {},
     "source": [
      "**Ejercicio 6**\n",
      "\n",
      "    Dado que los n\u00fameros de punto flotante son finitos, construye la representaci\u00f3n decimal de dos n\u00fameros normales de punto flotante consecutivos, y dos subnormales consecutivos.\n",
      "\n",
      "    \u00bfCu\u00e1l es la representaci\u00f3n binaria del promedio de esos dos n\u00fameros? \u00bfQu\u00e9 obtienes a partir de tus programas?\n",
      "\n",
      "    \u00bfCu\u00e1l es la representaci\u00f3n binaria de la diferencia?\n"
     ]
    },
    {
     "cell_type": "markdown",
     "metadata": {},
     "source": [
      "**R:** Primero llamo algunas de las funciones realizadas en la practica anterior:"
     ]
    },
    {
     "cell_type": "code",
     "collapsed": false,
     "input": [
      "### Funcion Definitiva ###\n",
      "function ChrisConv3(x)#Toma un binario con punto decimal y entrega el real correspondiente\n",
      "    CadenaCompleta=string(x)\n",
      "    LongitudCadenaCompleta=length(CadenaCompleta)#Primero tomamos toda la longitud\n",
      "    ParteEntera=int(x)\n",
      "    CadenaEntera=string(ParteEntera)\n",
      "    LongitudCadenaEntera=length(CadenaEntera)#Luego tomamos la longitud de la parte entera\n",
      "    #Primer ciclo\n",
      "    ContadorCicloEntero=LongitudCadenaEntera\n",
      "    SolucionEntera=0\n",
      "    for i=1:ContadorCicloEntero\n",
      "        if CadenaCompleta[i]=='1'\n",
      "            Num=1\n",
      "        else\n",
      "            Num=0\n",
      "        end\n",
      "        SolucionEntera=SolucionEntera+Num*2^(ContadorCicloEntero-i)\n",
      "        #println(Solucion)\n",
      "    end\n",
      "    #Hasta aqui pude convertir la parte entera (Funciona)\n",
      "    SolucionDecimal=0\n",
      "    ContadorCicloDecimal=LongitudCadenaCompleta-LongitudCadenaEntera-1\n",
      "    for i=1:ContadorCicloDecimal\n",
      "        if CadenaCompleta[i+LongitudCadenaEntera+1]=='1'\n",
      "            Num=1\n",
      "        else\n",
      "            Num=0\n",
      "        end\n",
      "        SolucionDecimal=SolucionDecimal+Num*2.0^(-1*i)#Recordar el punto fino en el 2.0\n",
      "    end\n",
      "    SolucionFinal=SolucionDecimal+SolucionEntera#Juntamos las dos coluciones\n",
      "    #Funciona\n",
      "end"
     ],
     "language": "python",
     "metadata": {},
     "outputs": [
      {
       "metadata": {},
       "output_type": "pyout",
       "prompt_number": 18,
       "text": [
        "ChrisConv3 (generic function with 1 method)"
       ]
      }
     ],
     "prompt_number": 18
    },
    {
     "cell_type": "code",
     "collapsed": false,
     "input": [
      "### Ahora vamos con el ejercicio 2 Introducir un decimal y entregar un binario ###\n",
      "function ChrisConv2(x)\n",
      "    #x=64\n",
      "    y=0\n",
      "    z=x\n",
      "    w=\"0\"\n",
      "    r=\"\"\n",
      "    while z>1\n",
      "        y=rem(z,2)\n",
      "        z=int(floor(z/2))# Importante funcion Floor\n",
      "        w=string(y)\n",
      "        r*=w# Importante el *= que nos permite concatenar\n",
      "    end\n",
      "    r*=\"1\"\n",
      "    r=reverse(r)# Util para voltear la cadena\n",
      "    #print(r)\n",
      "    r\n",
      "end"
     ],
     "language": "python",
     "metadata": {},
     "outputs": [
      {
       "metadata": {},
       "output_type": "pyout",
       "prompt_number": 6,
       "text": [
        "ChrisConv2 (generic function with 1 method)"
       ]
      }
     ],
     "prompt_number": 6
    },
    {
     "cell_type": "code",
     "collapsed": false,
     "input": [
      "### Finalmente colocandolo en una funcion ###\n",
      "function ChrisConv4(x)\n",
      "    ParteEntera=int(x)\n",
      "    ParteDecimal=x-ParteEntera\n",
      "    CadenaEnteraBinaria=ChrisConv2(ParteEntera)#LLama la funcion que convierte entero decimal en binario (pero aqui es una cadena)\n",
      "    LongitudParteEnteraBinaria=length(CadenaEnteraBinaria)\n",
      "    ParteEnteraBinaria=0#Inicializamos en 0\n",
      "    for i=1:LongitudParteEnteraBinaria\n",
      "        if CadenaEnteraBinaria[i]=='1'\n",
      "            Num=1\n",
      "        else\n",
      "            Num=0\n",
      "        end\n",
      "        ParteEnteraBinaria=ParteEnteraBinaria+Num*10^(LongitudParteEnteraBinaria-i)\n",
      "        #println(ParteEnteraBinaria)\n",
      "    end\n",
      "    ParteFraccionariaBinaria=0#Inicializamos en 0\n",
      "    Ciclo=ParteDecimal\n",
      "    for i=1:15\n",
      "        Ciclo=Ciclo*2\n",
      "        Valor=trunc(Ciclo)\n",
      "        Ciclo=Ciclo-Valor\n",
      "        ParteFraccionariaBinaria=ParteFraccionariaBinaria+Valor*10.0^(-1*i)\n",
      "        #println(Valor)\n",
      "    end\n",
      "    SolucionFinal=ParteEnteraBinaria+ParteFraccionariaBinaria\n",
      "end"
     ],
     "language": "python",
     "metadata": {},
     "outputs": [
      {
       "metadata": {},
       "output_type": "pyout",
       "prompt_number": 4,
       "text": [
        "ChrisConv4 (generic function with 1 method)"
       ]
      }
     ],
     "prompt_number": 4
    },
    {
     "cell_type": "code",
     "collapsed": false,
     "input": [
      "h=ChrisConv3(1.000101)"
     ],
     "language": "python",
     "metadata": {},
     "outputs": [
      {
       "metadata": {},
       "output_type": "pyout",
       "prompt_number": 26,
       "text": [
        "1.078125"
       ]
      }
     ],
     "prompt_number": 26
    },
    {
     "cell_type": "code",
     "collapsed": false,
     "input": [
      "j=ChrisConv3(1.000110)"
     ],
     "language": "python",
     "metadata": {},
     "outputs": [
      {
       "metadata": {},
       "output_type": "pyout",
       "prompt_number": 27,
       "text": [
        "1.09375"
       ]
      }
     ],
     "prompt_number": 27
    },
    {
     "cell_type": "code",
     "collapsed": false,
     "input": [
      "t=(h+j)/2"
     ],
     "language": "python",
     "metadata": {},
     "outputs": [
      {
       "metadata": {},
       "output_type": "pyout",
       "prompt_number": 29,
       "text": [
        "1.0859375"
       ]
      }
     ],
     "prompt_number": 29
    },
    {
     "cell_type": "code",
     "collapsed": false,
     "input": [
      "ChrisConv4(t)"
     ],
     "language": "python",
     "metadata": {},
     "outputs": [
      {
       "metadata": {},
       "output_type": "pyout",
       "prompt_number": 30,
       "text": [
        "1.0001011"
       ]
      }
     ],
     "prompt_number": 30
    },
    {
     "cell_type": "code",
     "collapsed": false,
     "input": [
      "r=j-h"
     ],
     "language": "python",
     "metadata": {},
     "outputs": [
      {
       "metadata": {},
       "output_type": "pyout",
       "prompt_number": 31,
       "text": [
        "0.015625"
       ]
      }
     ],
     "prompt_number": 31
    },
    {
     "cell_type": "code",
     "collapsed": false,
     "input": [
      "ChrisConv4(r)"
     ],
     "language": "python",
     "metadata": {},
     "outputs": [
      {
       "metadata": {},
       "output_type": "pyout",
       "prompt_number": 32,
       "text": [
        "1.000001"
       ]
      }
     ],
     "prompt_number": 32
    },
    {
     "cell_type": "markdown",
     "metadata": {},
     "source": [
      "**Ejercicio 7** \n",
      "\n",
      "Donde todo esto, y mucho m\u00e1s, puede ser importante...\n",
      "\n",
      "Escribe una funci\u00f3n que eval\u00fae\n",
      "\n",
      "$f(x,y)=333.75y6+x2(11x2y2\u2212y6\u2212121y4\u22122)+5.5y8+x2y$\n",
      "\n",
      "Usando esta funci\u00f3n, demuestra que $f(x=77617,y=33096)=\u22120.8273960599468214$.\n",
      "\n",
      "NOTA Los n\u00fameros jan sido verificados y son correctos :-)"
     ]
    },
    {
     "cell_type": "code",
     "collapsed": false,
     "input": [
      "#Primer intento introduciendo la funci\u00f3n \"inocentemente\"\n",
      "x=77617.0\n",
      "y=33096.0\n",
      "f=333.75*big(y^6)+big(x^2)*(11*big((x^2))*big((y^2))-big(y^6)-121*big(y^4)-2)+5.5*big(y^8)+x/(2*y)\n",
      "#El resultado no se acerca para nada al buscado"
     ],
     "language": "python",
     "metadata": {},
     "outputs": [
      {
       "metadata": {},
       "output_type": "pyout",
       "prompt_number": 1,
       "text": [
        "1.789380096100378214391726039400531786949244406059733591973781585693359375e+20 with 256 bits of precision"
       ]
      }
     ],
     "prompt_number": 1
    },
    {
     "cell_type": "code",
     "collapsed": false,
     "input": [
      "function Chris(x,y)\n",
      "    a=333.75+5.5*y^2\n",
      "    b=y^2+121\n",
      "    c=x/(2*y)\n",
      "    d=11*(x^2)*(y^2)-b*y^2\n",
      "    e=(x^2)*d-2*x^2\n",
      "    f=a*y^6+e+c\n",
      "    println(a)\n",
      "    println(b)\n",
      "    println(c)\n",
      "    println(d)\n",
      "    println(e)\n",
      "    #println(e2)\n",
      "    #println(e3)#Este elemento se esta volviendo cero\n",
      "    println(f)\n",
      "end\n"
     ],
     "language": "python",
     "metadata": {},
     "outputs": [
      {
       "metadata": {},
       "output_type": "pyout",
       "prompt_number": 11,
       "text": [
        "Chris (generic function with 1 method)"
       ]
      }
     ],
     "prompt_number": 11
    },
    {
     "cell_type": "code",
     "collapsed": false,
     "input": [
      "Chris(77617,33096)"
     ],
     "language": "python",
     "metadata": {},
     "outputs": [
      {
       "output_type": "stream",
       "stream": "stdout",
       "text": [
        "6.02439902175e9\n",
        "1095345337\n",
        "1.1726039400531787\n",
        "66268385577\n",
        "7.227960336986664e27\n",
        "7.91711177655609e36\n"
       ]
      }
     ],
     "prompt_number": 5
    },
    {
     "cell_type": "code",
     "collapsed": false,
     "input": [
      "Chris(77617.0,33096.0)"
     ],
     "language": "python",
     "metadata": {},
     "outputs": [
      {
       "output_type": "stream",
       "stream": "stdout",
       "text": [
        "6.02439902175e9\n",
        "1.095345337e9\n",
        "1.1726039400531787\n",
        "7.138697784125018e19\n",
        "4.300636157184996e29\n",
        "7.917112209338329e36\n"
       ]
      }
     ],
     "prompt_number": 12
    },
    {
     "cell_type": "markdown",
     "metadata": {},
     "source": [
      "Notar que el problema esta en la suma de los elementos e1 y e2"
     ]
    },
    {
     "cell_type": "markdown",
     "metadata": {},
     "source": [
      "**Ejercicio 8**\n",
      "\n",
      "Pensando en que vas a generar datos para hacer una gr\u00e1fica (con suficientes puntos), genera dichos datos para los polinomios $f(x)=(1\u2212x)^6$ y $g(x)=x^6\u22126x^5+15x^4\u221220x^3+15x^2\u22126x+1$ , en el dominio $0.995\u2264x\u22641.005$ \n",
      "\n",
      "\u00bfHay algo sorprendente en esto?"
     ]
    },
    {
     "cell_type": "code",
     "collapsed": false,
     "input": [
      "function Poli1(x)\n",
      "    X=[0.995:0.001:1.005]\n",
      "    L=ones(11)\n",
      "    f=(L-X).^x\n",
      "    println(X)\n",
      "    println(L)\n",
      "    println(f)\n",
      "end"
     ],
     "language": "python",
     "metadata": {},
     "outputs": [
      {
       "metadata": {},
       "output_type": "pyout",
       "prompt_number": 9,
       "text": [
        "Poli1 (generic function with 1 method)"
       ]
      }
     ],
     "prompt_number": 9
    },
    {
     "cell_type": "code",
     "collapsed": false,
     "input": [
      "Poli1(6)"
     ],
     "language": "python",
     "metadata": {},
     "outputs": [
      {
       "output_type": "stream",
       "stream": "stdout",
       "text": [
        "[0.995,0.996,0.997,0.998,0.999,1.0,1.001,1.002,1.003,1.004,1.005]\n",
        "[1.0,1.0,1.0,1.0,1.0,1.0,1.0,1.0,1.0,1.0,1.0]\n",
        "[1.5625000000000082e-14,4.0960000000000216e-15,7.290000000000039e-16,6.400000000000034e-17,1.0000000000000053e-18,0.0,9.999999999993393e-19,6.400000000000034e-17,7.28999999999842e-16,4.0960000000000216e-15,1.5624999999998002e-14]\n"
       ]
      }
     ],
     "prompt_number": 10
    },
    {
     "cell_type": "code",
     "collapsed": false,
     "input": [
      "#Pkg.update(\"PyPlot\")\n",
      "Pkg.add(\"PyPlot\")\n",
      "using PyPlot\n",
      "plot(f)"
     ],
     "language": "python",
     "metadata": {},
     "outputs": [
      {
       "output_type": "stream",
       "stream": "stderr",
       "text": [
        "INFO: Nothing to be done\n",
        "INFO: METADATA is out-of-date \u2014 you may not have the latest version of PyPlot\n",
        "INFO: Use `Pkg.update()` to get the latest versions of your packages\n",
        "INFO: Loading help data...\n"
       ]
      },
      {
       "ename": "LoadError",
       "evalue": "f not defined\nwhile loading In[3], in expression starting on line 4",
       "output_type": "pyerr",
       "traceback": [
        "f not defined\nwhile loading In[3], in expression starting on line 4",
        ""
       ]
      }
     ],
     "prompt_number": 3
    },
    {
     "cell_type": "code",
     "collapsed": false,
     "input": [
      "function Poli2(x)\n",
      "    X=[0.995:0.001:1.005]\n",
      "    L=ones(11)\n",
      "    f=X.^x-6*X.^5+15*X.^4-20*X.^3+15*X.^2-6*X+L\n",
      "    println(X)\n",
      "    println(L)\n",
      "    println(f)\n",
      "end"
     ],
     "language": "python",
     "metadata": {},
     "outputs": [
      {
       "metadata": {},
       "output_type": "pyout",
       "prompt_number": 1,
       "text": [
        "Poli2 (generic function with 1 method)"
       ]
      }
     ],
     "prompt_number": 1
    },
    {
     "cell_type": "code",
     "collapsed": false,
     "input": [
      "Poli2(6)"
     ],
     "language": "python",
     "metadata": {},
     "outputs": [
      {
       "output_type": "stream",
       "stream": "stdout",
       "text": [
        "[0.995,0.996,0.997,0.998,0.999,1.0,1.001,1.002,1.003,1.004,1.005]\n",
        "[1.0,1.0,1.0,1.0,1.0,1.0,1.0,1.0,1.0,1.0,1.0]\n",
        "[1.509903313490213e-14,6.217248937900877e-15,2.6645352591003757e-15,1.7763568394002505e-15,0.0,0.0,-2.6645352591003757e-15,1.7763568394002505e-15,-1.7763568394002505e-15,6.217248937900877e-15,1.9539925233402755e-14]\n"
       ]
      }
     ],
     "prompt_number": 2
    },
    {
     "cell_type": "markdown",
     "metadata": {},
     "source": [
      "**R:** En ninguno de los casos fue posible graficar el resultado, posiblemente por los valores tan peque\u00f1os que arroja"
     ]
    },
    {
     "cell_type": "markdown",
     "metadata": {},
     "source": [
      "**Ejercicio 9**\n",
      "\n",
      "Explica por qu\u00e9 es mala idea usar como paso de integraci\u00f3n $0.10$ o $0.010$, u otros valores de este estilo. \u00bfQu\u00e9 pasa con el tiempo que vas calculando en cada paso de la integraci\u00f3n?"
     ]
    },
    {
     "cell_type": "markdown",
     "metadata": {},
     "source": [
      "**R:** Porque el valor 1/10 o 1/100 en binario tiene una representaci\u00f3n peri\u00f3dica, es decir, su representaci\u00f3n en flotante no ser\u00e1 exacta, por lo tanto para integraciones muy largas o para algun otro m\u00e9todo tendremos problemas ya que iremos acumulando el error de precisi\u00f3n."
     ]
    },
    {
     "cell_type": "code",
     "collapsed": false,
     "input": [
      "ChrisConv4(0.10)"
     ],
     "language": "python",
     "metadata": {},
     "outputs": [
      {
       "metadata": {},
       "output_type": "pyout",
       "prompt_number": 7,
       "text": [
        "1.0001100110011"
       ]
      }
     ],
     "prompt_number": 7
    },
    {
     "cell_type": "code",
     "collapsed": false,
     "input": [
      "ChrisConv4(0.010)"
     ],
     "language": "python",
     "metadata": {},
     "outputs": [
      {
       "metadata": {},
       "output_type": "pyout",
       "prompt_number": 8,
       "text": [
        "1.000000101000111"
       ]
      }
     ],
     "prompt_number": 8
    },
    {
     "cell_type": "code",
     "collapsed": false,
     "input": [],
     "language": "python",
     "metadata": {},
     "outputs": []
    }
   ],
   "metadata": {}
  }
 ]
}