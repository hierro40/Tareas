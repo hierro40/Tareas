{
 "cells": [
  {
   "cell_type": "markdown",
   "metadata": {},
   "source": [
    "# Tipos Compositos"
   ]
  },
  {
   "cell_type": "markdown",
   "metadata": {},
   "source": [
    "Son variables con nombres dentro de una sola estructura."
   ]
  },
  {
   "cell_type": "markdown",
   "metadata": {},
   "source": [
    "http://en.wikibooks.org/wiki/Introducing_Julia/Types"
   ]
  },
  {
   "cell_type": "markdown",
   "metadata": {},
   "source": [
    "## Ejercicio 1"
   ]
  },
  {
   "cell_type": "markdown",
   "metadata": {},
   "source": [
    "(i) ¿Cómo representarías a una partícula en 1D con posición, velocidad y masa en Julia?\n",
    "\n",
    "(ii) ¿Cómo moverías la partícula en un paso δt?\n",
    "\n",
    "(iii) ¿Si necesitas otra partícula con las mismas propiedades, qué harías?\n",
    "\n",
    "(iv) Para N tales partículas, ¿qué podrías hacer?"
   ]
  },
  {
   "cell_type": "markdown",
   "metadata": {},
   "source": [
    "**R:** \n",
    "\n",
    "(i) A mi se me ocurre representarla en 3 ejes. Utilizaria uno para la posicion, otro para la velocidad y el tercero para la masa. Particula = $(x,v,m)$\n",
    "\n",
    "(ii) Con un ciclo que mueva la particula con ese paso δt y grafique el resultado en cada paso.\n",
    "\n",
    "(iii) Generaria un segundo vector con la misma informacion y estructura mencionada en (i)\n",
    "\n",
    "(iv) Para la representacion de N particulas utilizaria N vectores."
   ]
  },
  {
   "cell_type": "markdown",
   "metadata": {},
   "source": [
    "## Ejercicio 2"
   ]
  },
  {
   "cell_type": "markdown",
   "metadata": {},
   "source": [
    "Define un tipo que se llama Particula, que tiene variables para la posición, velocidad y masa en una dimensión."
   ]
  },
  {
   "cell_type": "code",
   "execution_count": 10,
   "metadata": {
    "collapsed": false
   },
   "outputs": [
    {
     "ename": "LoadError",
     "evalue": "invalid redefinition of constant MiTipo\nwhile loading In[10], in expression starting on line 1",
     "output_type": "error",
     "traceback": [
      "invalid redefinition of constant MiTipo\nwhile loading In[10], in expression starting on line 1",
      ""
     ]
    }
   ],
   "source": [
    "type MiTipo\n",
    "    a\n",
    "    b::Int\n",
    "    c\n",
    "end"
   ]
  },
  {
   "cell_type": "markdown",
   "metadata": {},
   "source": [
    "**R:** Para el tipo particula que buscamos:"
   ]
  },
  {
   "cell_type": "code",
   "execution_count": 2,
   "metadata": {
    "collapsed": true
   },
   "outputs": [],
   "source": [
    "type particula\n",
    "    posicion::Float64\n",
    "    velocidad::Float64\n",
    "    masa::Float64\n",
    "end"
   ]
  },
  {
   "cell_type": "markdown",
   "metadata": {
    "collapsed": true
   },
   "source": [
    "## Ejercicio 3"
   ]
  },
  {
   "cell_type": "markdown",
   "metadata": {},
   "source": [
    "Experimenta para ver cómo crear un objeto de tipo Particula. [Pista: piensa en funciones]"
   ]
  },
  {
   "cell_type": "code",
   "execution_count": 3,
   "metadata": {
    "collapsed": false
   },
   "outputs": [
    {
     "data": {
      "text/plain": [
       "particula(25.0,7.0,1.0)"
      ]
     },
     "execution_count": 3,
     "metadata": {},
     "output_type": "execute_result"
    }
   ],
   "source": [
    "x=particula(25,7,1)"
   ]
  },
  {
   "cell_type": "code",
   "execution_count": 4,
   "metadata": {
    "collapsed": false
   },
   "outputs": [
    {
     "name": "stdout",
     "output_type": "stream",
     "text": [
      "25.07.01.0\n"
     ]
    }
   ],
   "source": [
    "println(x.posicion,x.velocidad,x.masa)"
   ]
  },
  {
   "cell_type": "markdown",
   "metadata": {},
   "source": [
    "**R:** La funcion para crear objetos tipo particula seria:"
   ]
  },
  {
   "cell_type": "code",
   "execution_count": 5,
   "metadata": {
    "collapsed": false
   },
   "outputs": [
    {
     "data": {
      "text/plain": [
       "PartMake (generic function with 1 method)"
      ]
     },
     "execution_count": 5,
     "metadata": {},
     "output_type": "execute_result"
    }
   ],
   "source": [
    "function PartMake(a,b,c)\n",
    "    particula(a,b,c)\n",
    "end"
   ]
  },
  {
   "cell_type": "code",
   "execution_count": 94,
   "metadata": {
    "collapsed": false
   },
   "outputs": [
    {
     "data": {
      "text/plain": [
       "particula (constructor with 2 methods)"
      ]
     },
     "execution_count": 94,
     "metadata": {},
     "output_type": "execute_result"
    }
   ],
   "source": [
    "typeof(ans)"
   ]
  },
  {
   "cell_type": "code",
   "execution_count": 17,
   "metadata": {
    "collapsed": false
   },
   "outputs": [
    {
     "data": {
      "text/plain": [
       "particula(8.0,5.0,9.0)"
      ]
     },
     "execution_count": 17,
     "metadata": {},
     "output_type": "execute_result"
    }
   ],
   "source": [
    "particula1=PartMake(8,5,9)"
   ]
  },
  {
   "cell_type": "code",
   "execution_count": 8,
   "metadata": {
    "collapsed": false
   },
   "outputs": [
    {
     "data": {
      "text/plain": [
       "8.0"
      ]
     },
     "execution_count": 8,
     "metadata": {},
     "output_type": "execute_result"
    }
   ],
   "source": [
    "particula1.posicion"
   ]
  },
  {
   "cell_type": "code",
   "execution_count": 146,
   "metadata": {
    "collapsed": false
   },
   "outputs": [
    {
     "data": {
      "text/plain": [
       "Function"
      ]
     },
     "execution_count": 146,
     "metadata": {},
     "output_type": "execute_result"
    }
   ],
   "source": [
    "typeof(PartMake)"
   ]
  },
  {
   "cell_type": "markdown",
   "metadata": {},
   "source": [
    "## Ejercicio 4"
   ]
  },
  {
   "cell_type": "markdown",
   "metadata": {},
   "source": [
    "¿Cómo podemos definir una función mover que mueve la partícula en un paso de tiempo δt? [Pista: Para especificar que un objeto t es de tipo MiTipo, usamos la sintaxis t::MiTipo.]"
   ]
  },
  {
   "cell_type": "markdown",
   "metadata": {},
   "source": [
    "**R:** Creamos la funcion para mover la particula un paso $\\delta t$ introducido al momento de ejecutar la funcion:"
   ]
  },
  {
   "cell_type": "code",
   "execution_count": 9,
   "metadata": {
    "collapsed": false
   },
   "outputs": [
    {
     "data": {
      "text/plain": [
       "Move (generic function with 1 method)"
      ]
     },
     "execution_count": 9,
     "metadata": {},
     "output_type": "execute_result"
    }
   ],
   "source": [
    "function Move(dt)\n",
    "    particula1.posicion=particula1.posicion+dt*particula1.velocidad\n",
    "end"
   ]
  },
  {
   "cell_type": "code",
   "execution_count": 10,
   "metadata": {
    "collapsed": false
   },
   "outputs": [
    {
     "data": {
      "text/plain": [
       "9.0"
      ]
     },
     "execution_count": 10,
     "metadata": {},
     "output_type": "execute_result"
    }
   ],
   "source": [
    "Move(0.2)"
   ]
  },
  {
   "cell_type": "code",
   "execution_count": 11,
   "metadata": {
    "collapsed": false
   },
   "outputs": [
    {
     "data": {
      "text/plain": [
       "particula(9.0,5.0,9.0)"
      ]
     },
     "execution_count": 11,
     "metadata": {},
     "output_type": "execute_result"
    }
   ],
   "source": [
    "particula1"
   ]
  },
  {
   "cell_type": "code",
   "execution_count": 15,
   "metadata": {
    "collapsed": false
   },
   "outputs": [
    {
     "data": {
      "text/plain": [
       "mover! (generic function with 1 method)"
      ]
     },
     "execution_count": 15,
     "metadata": {},
     "output_type": "execute_result"
    }
   ],
   "source": [
    "function mover!(particula1,dt)\n",
    "    particula1.posicion+=particula1.velocidad*dt\n",
    "end"
   ]
  },
  {
   "cell_type": "code",
   "execution_count": 18,
   "metadata": {
    "collapsed": false
   },
   "outputs": [
    {
     "data": {
      "text/plain": [
       "18.0"
      ]
     },
     "execution_count": 18,
     "metadata": {},
     "output_type": "execute_result"
    }
   ],
   "source": [
    "mover!(particula1,2)"
   ]
  },
  {
   "cell_type": "code",
   "execution_count": 19,
   "metadata": {
    "collapsed": false
   },
   "outputs": [
    {
     "data": {
      "text/plain": [
       "particula(18.0,5.0,9.0)"
      ]
     },
     "execution_count": 19,
     "metadata": {},
     "output_type": "execute_result"
    }
   ],
   "source": [
    "particula1"
   ]
  },
  {
   "cell_type": "code",
   "execution_count": null,
   "metadata": {
    "collapsed": true
   },
   "outputs": [],
   "source": [
    "workspace()###Limpia el espacio de trabajo"
   ]
  },
  {
   "cell_type": "markdown",
   "metadata": {},
   "source": [
    "## Ejercicio 5"
   ]
  },
  {
   "cell_type": "markdown",
   "metadata": {},
   "source": [
    "Define un objeto Gas que representa N partículas, así como una función mover que mueve el gas."
   ]
  },
  {
   "cell_type": "markdown",
   "metadata": {},
   "source": [
    "**R:** Primero generamos el gas con $N$ particulas"
   ]
  },
  {
   "cell_type": "code",
   "execution_count": 4,
   "metadata": {
    "collapsed": false
   },
   "outputs": [
    {
     "data": {
      "text/plain": [
       "GasMake (generic function with 1 method)"
      ]
     },
     "execution_count": 4,
     "metadata": {},
     "output_type": "execute_result"
    }
   ],
   "source": [
    "function GasMake(N)\n",
    "    W=Array(particula,N)\n",
    "    for n=1:N\n",
    "        W[n]=PartMake(rand(),rand(),rand())\n",
    "    end\n",
    "    return W\n",
    "end\n"
   ]
  },
  {
   "cell_type": "code",
   "execution_count": 9,
   "metadata": {
    "collapsed": false
   },
   "outputs": [
    {
     "data": {
      "text/plain": [
       "10-element Array{particula,1}:\n",
       " particula(0.8056896676921788,0.9987358504235349,0.6594747350656525)   \n",
       " particula(0.8306290613363483,0.8353630585420195,0.9577120281561258)   \n",
       " particula(0.2988106466247631,0.6028119107506751,0.12836796012436147)  \n",
       " particula(0.0064336548693686435,0.6613227493499554,0.8049367711037092)\n",
       " particula(0.08639357280861826,0.6318790914584491,0.7773580073831796)  \n",
       " particula(0.5966914268728851,0.12817424464345772,0.622868058769706)   \n",
       " particula(0.8633525324775799,0.9698537317394074,0.3656647532164341)   \n",
       " particula(0.8769474147595435,0.9147253593063642,0.8441984822806716)   \n",
       " particula(0.9660823961858735,0.17680826902216817,0.9531294615001846)  \n",
       " particula(0.12820568796939646,0.21582862566252947,0.6133559550061733) "
      ]
     },
     "execution_count": 9,
     "metadata": {},
     "output_type": "execute_result"
    }
   ],
   "source": [
    "gas1=GasMake(10)"
   ]
  },
  {
   "cell_type": "code",
   "execution_count": 22,
   "metadata": {
    "collapsed": false,
    "scrolled": true
   },
   "outputs": [
    {
     "data": {
      "text/plain": [
       "10-element Array{particula,1}:\n",
       " particula(0.8056896676921788,0.9987358504235349,0.6594747350656525)   \n",
       " particula(0.8306290613363483,0.8353630585420195,0.9577120281561258)   \n",
       " particula(0.2988106466247631,0.6028119107506751,0.12836796012436147)  \n",
       " particula(0.0064336548693686435,0.6613227493499554,0.8049367711037092)\n",
       " particula(0.08639357280861826,0.6318790914584491,0.7773580073831796)  \n",
       " particula(0.5966914268728851,0.12817424464345772,0.622868058769706)   \n",
       " particula(0.8633525324775799,0.9698537317394074,0.3656647532164341)   \n",
       " particula(0.8769474147595435,0.9147253593063642,0.8441984822806716)   \n",
       " particula(0.9660823961858735,0.17680826902216817,0.9531294615001846)  \n",
       " particula(0.12820568796939646,0.21582862566252947,0.6133559550061733) "
      ]
     },
     "execution_count": 22,
     "metadata": {},
     "output_type": "execute_result"
    }
   ],
   "source": [
    "gas1"
   ]
  },
  {
   "cell_type": "markdown",
   "metadata": {
    "collapsed": true
   },
   "source": [
    "Para mover el gas que hemos generado:"
   ]
  },
  {
   "cell_type": "code",
   "execution_count": 29,
   "metadata": {
    "collapsed": false
   },
   "outputs": [
    {
     "data": {
      "text/plain": [
       "MoveGas (generic function with 1 method)"
      ]
     },
     "execution_count": 29,
     "metadata": {},
     "output_type": "execute_result"
    }
   ],
   "source": [
    "function MoveGas(dt)#El argumento de esta funcion sera el paso de tiempo\n",
    "    N=length(gas1)\n",
    "    for n=1:N\n",
    "        gas1[n].posicion=gas1[n].posicion+dt*gas1[n].velocidad\n",
    "    end\n",
    "end"
   ]
  },
  {
   "cell_type": "code",
   "execution_count": 30,
   "metadata": {
    "collapsed": false
   },
   "outputs": [
    {
     "data": {
      "text/plain": [
       "particula (constructor with 2 methods)"
      ]
     },
     "execution_count": 30,
     "metadata": {},
     "output_type": "execute_result"
    }
   ],
   "source": [
    "typeof(gas1[2])"
   ]
  },
  {
   "cell_type": "code",
   "execution_count": 31,
   "metadata": {
    "collapsed": true
   },
   "outputs": [],
   "source": [
    "MoveGas(2)"
   ]
  },
  {
   "cell_type": "markdown",
   "metadata": {},
   "source": [
    "Verificamos que ha cambiado la posicion de las particulas de gas con el paso de tiempo dado:"
   ]
  },
  {
   "cell_type": "code",
   "execution_count": 32,
   "metadata": {
    "collapsed": false
   },
   "outputs": [
    {
     "data": {
      "text/plain": [
       "10-element Array{particula,1}:\n",
       " particula(2.8031613685392482,0.9987358504235349,0.6594747350656525) \n",
       " particula(2.501355178420387,0.8353630585420195,0.9577120281561258)  \n",
       " particula(1.5044344681261133,0.6028119107506751,0.12836796012436147)\n",
       " particula(1.3290791535692794,0.6613227493499554,0.8049367711037092) \n",
       " particula(1.3501517557255165,0.6318790914584491,0.7773580073831796) \n",
       " particula(0.8530399161598006,0.12817424464345772,0.622868058769706) \n",
       " particula(2.803059995956395,0.9698537317394074,0.3656647532164341)  \n",
       " particula(2.706398133372272,0.9147253593063642,0.8441984822806716)  \n",
       " particula(1.31969893423021,0.17680826902216817,0.9531294615001846)  \n",
       " particula(0.5598629392944554,0.21582862566252947,0.6133559550061733)"
      ]
     },
     "execution_count": 32,
     "metadata": {},
     "output_type": "execute_result"
    }
   ],
   "source": [
    "gas1"
   ]
  },
  {
   "cell_type": "markdown",
   "metadata": {},
   "source": [
    "## Ejercicio 6"
   ]
  },
  {
   "cell_type": "markdown",
   "metadata": {},
   "source": [
    "Considera una estructura compuesta que denotaremos $v¯=(f_v,d_v)$, que consta de dos campos $f_v$ y $d_v$, que son flotantes. Esta estructura está definida de tal manera que se cumplen las siguientes propiedades:\n",
    "\n",
    "i. Implementa esto usando Julia.\n",
    "\n",
    "ii. Define un polinomio p(x) cuya variable independiente es x. Evalúa el polinomio en x¯¯¯ (variable independiente x), en x0=0. ¿Qué interpretación tiene el valor obtenido para dx? Y si en lugar de un polinomio utilizas un cociente de polinomios r(x¯¯¯)=p(x¯¯¯)/q(x¯¯¯)?\n",
    "\n",
    "iii. Pensando en la interpretación que le diste a dx, cómo definirías la acción sobre x¯¯¯ de las siguientes funciones:\n",
    "\n",
    "    exp(x¯¯¯)\n",
    "    log(x¯¯¯)\n",
    "    sin(x¯¯¯)\n",
    "    cos(x¯¯¯)\n",
    "    tan(x¯¯¯)\n",
    "\n",
    "iv. ¿Cómo podemos definir las cosas en Julia de tal manera que v¯¯¯+c, y las demás posibles operaciones entre una variable compósita y un flotante c, tengan sentido?"
   ]
  },
  {
   "cell_type": "markdown",
   "metadata": {},
   "source": [
    "*R:* Iremos por partes, primero con los propiedades solicitadas en (i)"
   ]
  },
  {
   "cell_type": "code",
   "execution_count": 1,
   "metadata": {
    "collapsed": true
   },
   "outputs": [],
   "source": [
    "type DerValue\n",
    "    f_v::Float64\n",
    "    d_v::Float64\n",
    "end"
   ]
  },
  {
   "cell_type": "code",
   "execution_count": 2,
   "metadata": {
    "collapsed": false
   },
   "outputs": [
    {
     "data": {
      "text/plain": [
       "DerValue(3.0,8.0)"
      ]
     },
     "execution_count": 2,
     "metadata": {},
     "output_type": "execute_result"
    }
   ],
   "source": [
    "#Algunas funciones evaluadas\n",
    "x=DerValue(2,2)\n",
    "y=DerValue(3,8)\n"
   ]
  },
  {
   "cell_type": "code",
   "execution_count": 3,
   "metadata": {
    "collapsed": false
   },
   "outputs": [
    {
     "data": {
      "text/plain": [
       "+ (generic function with 218 methods)"
      ]
     },
     "execution_count": 3,
     "metadata": {},
     "output_type": "execute_result"
    }
   ],
   "source": [
    "#Para la suma\n",
    "+(x::DerValue,y::DerValue)=DerValue(x.f_v+y.f_v,x.d_v+y.d_v)"
   ]
  },
  {
   "cell_type": "code",
   "execution_count": 4,
   "metadata": {
    "collapsed": false
   },
   "outputs": [
    {
     "data": {
      "text/plain": [
       "DerValue(5.0,10.0)"
      ]
     },
     "execution_count": 4,
     "metadata": {},
     "output_type": "execute_result"
    }
   ],
   "source": [
    "x+y#Se sumaron los argumentos correctamente"
   ]
  },
  {
   "cell_type": "code",
   "execution_count": 4,
   "metadata": {
    "collapsed": false
   },
   "outputs": [
    {
     "data": {
      "text/plain": [
       "* (generic function with 282 methods)"
      ]
     },
     "execution_count": 4,
     "metadata": {},
     "output_type": "execute_result"
    }
   ],
   "source": [
    "#Multiplicación por un escalar\n",
    "*(a::Number,x::DerValue)=DerValue(a*x.f_v,a*x.d_v)"
   ]
  },
  {
   "cell_type": "code",
   "execution_count": 6,
   "metadata": {
    "collapsed": false
   },
   "outputs": [
    {
     "data": {
      "text/plain": [
       "DerValue(4.0,4.0)"
      ]
     },
     "execution_count": 6,
     "metadata": {},
     "output_type": "execute_result"
    }
   ],
   "source": [
    "2*x#El producto por un escalar funciona"
   ]
  },
  {
   "cell_type": "code",
   "execution_count": 7,
   "metadata": {
    "collapsed": false
   },
   "outputs": [
    {
     "data": {
      "text/plain": [
       "* (generic function with 283 methods)"
      ]
     },
     "execution_count": 7,
     "metadata": {},
     "output_type": "execute_result"
    }
   ],
   "source": [
    "#Para el producto de dos funciones\n",
    "*(x::DerValue,y::DerValue)=DerValue(x.f_v*y.f_v,x.f_v*y.d_v+y.f_v*x.d_v)"
   ]
  },
  {
   "cell_type": "code",
   "execution_count": 8,
   "metadata": {
    "collapsed": false
   },
   "outputs": [
    {
     "data": {
      "text/plain": [
       "DerValue(6.0,22.0)"
      ]
     },
     "execution_count": 8,
     "metadata": {},
     "output_type": "execute_result"
    }
   ],
   "source": [
    "x*y#El producto de dos funciones jala correctamente"
   ]
  },
  {
   "cell_type": "code",
   "execution_count": 10,
   "metadata": {
    "collapsed": false
   },
   "outputs": [
    {
     "data": {
      "text/plain": [
       "/ (generic function with 74 methods)"
      ]
     },
     "execution_count": 10,
     "metadata": {},
     "output_type": "execute_result"
    }
   ],
   "source": [
    "#Para el cociente de dos funciones\n",
    "/(x::DerValue,y::DerValue)=DerValue(x.f_v/y.f_v,(y.f_v*x.d_v-x.f_v*y.d_v)/(y.f_v*y.f_v))"
   ]
  },
  {
   "cell_type": "code",
   "execution_count": 11,
   "metadata": {
    "collapsed": false
   },
   "outputs": [
    {
     "data": {
      "text/plain": [
       "DerValue(0.6666666666666666,-1.1111111111111112)"
      ]
     },
     "execution_count": 11,
     "metadata": {},
     "output_type": "execute_result"
    }
   ],
   "source": [
    "x/y#El cociente de dos funciones jala correctamente"
   ]
  },
  {
   "cell_type": "code",
   "execution_count": 12,
   "metadata": {
    "collapsed": false
   },
   "outputs": [
    {
     "data": {
      "text/plain": [
       "^ (generic function with 54 methods)"
      ]
     },
     "execution_count": 12,
     "metadata": {},
     "output_type": "execute_result"
    }
   ],
   "source": [
    "#Para la potencia de una función\n",
    "^(a::Number,x::DerValue)=DerValue(a*x.f_v,a*x.d_v*x.f_v^(a-1))"
   ]
  },
  {
   "cell_type": "code",
   "execution_count": 13,
   "metadata": {
    "collapsed": false
   },
   "outputs": [
    {
     "data": {
      "text/plain": [
       "DerValue(4.0,8.0)"
      ]
     },
     "execution_count": 13,
     "metadata": {},
     "output_type": "execute_result"
    }
   ],
   "source": [
    "x^2#La potencia de una función jala correctamente"
   ]
  },
  {
   "cell_type": "code",
   "execution_count": 14,
   "metadata": {
    "collapsed": false
   },
   "outputs": [
    {
     "data": {
      "text/plain": [
       "p (generic function with 1 method)"
      ]
     },
     "execution_count": 14,
     "metadata": {},
     "output_type": "execute_result"
    }
   ],
   "source": [
    "#Ahora la prueba de fuego\n",
    "p(x)=x^2+3x"
   ]
  },
  {
   "cell_type": "code",
   "execution_count": 16,
   "metadata": {
    "collapsed": false
   },
   "outputs": [
    {
     "data": {
      "text/plain": [
       "10"
      ]
     },
     "execution_count": 16,
     "metadata": {},
     "output_type": "execute_result"
    }
   ],
   "source": [
    "p(2)"
   ]
  },
  {
   "cell_type": "code",
   "execution_count": 20,
   "metadata": {
    "collapsed": false
   },
   "outputs": [
    {
     "data": {
      "text/plain": [
       "DerValue(2.0,1.0)"
      ]
     },
     "execution_count": 20,
     "metadata": {},
     "output_type": "execute_result"
    }
   ],
   "source": [
    "x=DerValue(2,1)"
   ]
  },
  {
   "cell_type": "code",
   "execution_count": 21,
   "metadata": {
    "collapsed": false
   },
   "outputs": [
    {
     "data": {
      "text/plain": [
       "DerValue(10.0,7.0)"
      ]
     },
     "execution_count": 21,
     "metadata": {},
     "output_type": "execute_result"
    }
   ],
   "source": [
    "p(x)#Hemos calculado la derivada"
   ]
  },
  {
   "cell_type": "markdown",
   "metadata": {},
   "source": [
    "# Ejercicio 7"
   ]
  },
  {
   "cell_type": "markdown",
   "metadata": {},
   "source": [
    " En el resto del curso, trataremos con aritmética de intervalos. En este nuevo tipo de aritmética, ocupamos intervalos [a,b] de la recta real:\n",
    "\n",
    "(i) Define un tipo composito para representar un intervalo de dos números reales.\n",
    "\n",
    "(ii) ¿Cómo podríamos tener operaciones sensatas sobre los intervalos? La idea básica es que el resultado de la operación sobre dos intervalos contenga los valores posibles resultantes de operar con los miembros de los dos intervalos respectivos.\n",
    "\n",
    "(iii) Implementa estas operaciones, sin tomar en cuenta cuestiones de redondeo.\n",
    "\n",
    "(iv) ¿Cómo nos puede ayudar el redondeo? Impleméntalo."
   ]
  },
  {
   "cell_type": "markdown",
   "metadata": {},
   "source": [
    "*R:* Definimos un nuevo tipo para los intervalos:"
   ]
  },
  {
   "cell_type": "code",
   "execution_count": 22,
   "metadata": {
    "collapsed": true
   },
   "outputs": [],
   "source": [
    "type Intervalo\n",
    "    limite_inf::Float64\n",
    "    limite_sup::Float64\n",
    "end"
   ]
  },
  {
   "cell_type": "code",
   "execution_count": 26,
   "metadata": {
    "collapsed": false
   },
   "outputs": [
    {
     "data": {
      "text/plain": [
       "Intervalo(3.0,6.0)"
      ]
     },
     "execution_count": 26,
     "metadata": {},
     "output_type": "execute_result"
    }
   ],
   "source": [
    "A=Intervalo(5,8)\n",
    "B=Intervalo(3,6)"
   ]
  },
  {
   "cell_type": "code",
   "execution_count": 27,
   "metadata": {
    "collapsed": false,
    "scrolled": true
   },
   "outputs": [
    {
     "ename": "LoadError",
     "evalue": "`+` has no method matching +(::Intervalo, ::Intervalo)\nwhile loading In[27], in expression starting on line 1",
     "output_type": "error",
     "traceback": [
      "`+` has no method matching +(::Intervalo, ::Intervalo)\nwhile loading In[27], in expression starting on line 1",
      ""
     ]
    }
   ],
   "source": [
    "A+B"
   ]
  },
  {
   "cell_type": "markdown",
   "metadata": {},
   "source": [
    "Definiré un par de funciones que me permitan sumar y restar los objetos tipo intervalo:"
   ]
  },
  {
   "cell_type": "code",
   "execution_count": 28,
   "metadata": {
    "collapsed": false
   },
   "outputs": [
    {
     "data": {
      "text/plain": [
       "suma_int (generic function with 1 method)"
      ]
     },
     "execution_count": 28,
     "metadata": {},
     "output_type": "execute_result"
    }
   ],
   "source": [
    "function suma_int(A,B)\n",
    "    C=Intervalo(0,0)\n",
    "    C.limite_inf=min(A.limite_inf,B.limite_inf)\n",
    "    C.limite_sup=max(A.limite_sup,B.limite_sup)\n",
    "    return C\n",
    "end"
   ]
  },
  {
   "cell_type": "code",
   "execution_count": 33,
   "metadata": {
    "collapsed": false
   },
   "outputs": [
    {
     "data": {
      "text/plain": [
       "resta_int (generic function with 1 method)"
      ]
     },
     "execution_count": 33,
     "metadata": {},
     "output_type": "execute_result"
    }
   ],
   "source": [
    "function resta_int(A,B)\n",
    "    C=Intervalo(0,0)\n",
    "    C.limite_inf=max(A.limite_inf,B.limite_inf)\n",
    "    C.limite_sup=min(A.limite_sup,B.limite_sup)\n",
    "    return C\n",
    "end"
   ]
  },
  {
   "cell_type": "code",
   "execution_count": 31,
   "metadata": {
    "collapsed": false
   },
   "outputs": [
    {
     "data": {
      "text/plain": [
       "Intervalo(3.0,8.0)"
      ]
     },
     "execution_count": 31,
     "metadata": {},
     "output_type": "execute_result"
    }
   ],
   "source": [
    "suma_int(A,B)"
   ]
  },
  {
   "cell_type": "code",
   "execution_count": 34,
   "metadata": {
    "collapsed": false
   },
   "outputs": [
    {
     "data": {
      "text/plain": [
       "Intervalo(5.0,6.0)"
      ]
     },
     "execution_count": 34,
     "metadata": {},
     "output_type": "execute_result"
    }
   ],
   "source": [
    "resta_int(A,B)"
   ]
  },
  {
   "cell_type": "markdown",
   "metadata": {},
   "source": [
    "Respecto a obtener operaciones sensatas en intervalos, dado que es muy importante saber si lo números en cuestión estan dentro del intervalo con el que queremos trabajar, se vuelve muy importante el redondeo de las cotas. \n",
    "\n",
    "Por lo tanto sería importante considerar el redondeo hacia abajo en la cota inferior y redondeo hacia arriba en la cota superior, así garantizamos que los numeros con los que estemos trabajando SI se encuentren en dicho intervalo."
   ]
  },
  {
   "cell_type": "code",
   "execution_count": null,
   "metadata": {
    "collapsed": true
   },
   "outputs": [],
   "source": []
  }
 ],
 "metadata": {
  "kernelspec": {
   "display_name": "Julia 0.3.6",
   "language": "julia",
   "name": "julia 0.3"
  },
  "language_info": {
   "name": "julia",
   "version": "0.3.6"
  }
 },
 "nbformat": 4,
 "nbformat_minor": 0
}
