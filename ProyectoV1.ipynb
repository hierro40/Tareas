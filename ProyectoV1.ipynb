{
 "cells": [
  {
   "cell_type": "markdown",
   "metadata": {},
   "source": [
    "# Introducción"
   ]
  },
  {
   "cell_type": "markdown",
   "metadata": {},
   "source": [
    "Los problemas de optimización en escencia corresponden a obtener el valor mínimo $y*$ de una función dada $f$ en un dominio $D$, ($f:D\\rightarrow R $). Es decir:\n",
    "\n",
    "$y^* = y^*(f:D) = inf \\{f(x): x \\epsilon D \\}$\n",
    "\n",
    "así como el conjunto de puntos del dominio $D$ donde el mínimo se encuentra contenido:\n",
    "\n",
    "$E^* = E^*(f:D) = \\{ x^* \\epsilon D: f(x^*) = y^* \\}$\n",
    "\n",
    "Para el caso en el problema de optimización requiera encontrar un valor máximo en vez de un mínimo entonces basta con minimizar la función $-f$ . Se asume que $f$ es continua en su dominio $D$, el cuál es un compacto.\n",
    "\n",
    "Utilizaremos técnicas de análisis de intervalos para enontrar $y^*$ y $E^*$. Comenzando con el valor extremo $y^*$ podemos expresarlo como:\n",
    "\n",
    "$y^*=inf \\{ y:y \\epsilon R(f:D) \\}$\n",
    "\n",
    "Por lo tanto, si podemos encerrar $R(f:D)$ fuertemente, entonces inmediatamente tendremos un intervalo que encierre fuertemente $y^*$ . Incluso la optimización se volverá más sencilla dado que solo es necesario enfocar la atención en el menor punto final del rango $R(f:D)$.\n",
    "\n",
    "Las técnicas a utilizar conocidas son muy similares a los métodos para encontrar ceros, como el método de Newton para intervalos visto en clase. Excluyendo los subconjuntos de $D$, se tratará de resolver el problema:\n",
    "\n",
    "$f(x) \\leq \\bar{y} $\n",
    "\n",
    "pero con una $\\bar{y}$ variable, que es la cota superior actual de $y^*$.Durante el rpoceso de resolver esta última expresión encontraremos un valor cada vez más pequeño para $\\bar{y}$ , la meta será hacre $\\bar{y}$ lo más cercano posible a $y^*$, ya que estaríamos llegando al conjunto deseado:\n",
    "\n",
    "$E^* = \\{ x^* \\epsilon D:f(x^*)\\leq y^*\\} = \\{ x^* \\epsilon D:f(x^*)=y^* \\}$\n",
    "\n",
    "Buscaremos encontrar un intervalo $y^*$ que contenga a $y^*$, y un intervalo cada vez más pequeño del conjunto $E^*$. Se pueden utilizar distintos criterios para descartar los subintervalos en la búsqueda. Ahora asumiremos que el dominio $D$ es un intervalo $x$. Para dominions más complicados podemos utilizares uniones de intervalos."
   ]
  },
  {
   "cell_type": "markdown",
   "metadata": {},
   "source": [
    "**Aquí puedo explicar cualquiera de los 3 metodos para descartar subintervalos, dependiendo del que vayamos a implementar**"
   ]
  },
  {
   "cell_type": "markdown",
   "metadata": {},
   "source": [
    "# Método de Krawcyk"
   ]
  },
  {
   "cell_type": "markdown",
   "metadata": {},
   "source": [
    "EL método de Krawcyk es una alternativa atractiva al método de Newton para intervalos, pues Krawczyk evita los problemas de dividir entre el intervalo $F'(x)$ cuando estamos haciendo las iteraciones del método de Newton. \n",
    "\n",
    "La idea principal es muy simple, se asume que $f \\epsilon C^1 (x,R)$ tiene un cero en $x^* \\epsilon x$, expandimos en Taylor alrededor de $x^*$ para obtener $f(x)=f(x^*)+f(\\xi)(x-x^*)$ para algún $\\xi$ entre $x$ y $x^*$. Después multiplicamos la expansión por alguna constante $C$:\n",
    "\n",
    "$Cf(x)=Cf'(\\xi)(x-x^*)$\n",
    "\n",
    "añadiendo $x^*-x$ en ambos lados de la ecuación:\n",
    "\n",
    "$x^*-x+Cf(x)=x^*-x+Cf'(\\xi)(x-x^*)$\n",
    "\n",
    "reacomodando términos:\n",
    "\n",
    "$x^*=x-Cf(x)-(1-Cf'(\\xi))(x-x^*)$\n",
    "\n",
    "Ahora aunque no conocemos el cero $x^*$ ni el punto $\\xi$, sabemos que ambos puntos pertenecen al dominio $X$. Por lo que podremos acotar el cero vía:\n",
    "\n",
    "$x^* \\epsilon x-Cf(x)-(1-CF'(X))(x-X)=K(X,x,C)$\n",
    "\n",
    "HEmos probado que cualquier cero $x^* \\epsilon x$ de $f$ esta acotada por el operador de Krawczyk $K(X,x,C)$ para cualquier $x \\epsilon X$ y una $C$ finita. \n",
    "\n",
    "Algunas elecciones sugeridas para $x$ y $C$ son $x = m = mid(X)$ y $C=1/f(m)$."
   ]
  },
  {
   "cell_type": "code",
   "execution_count": null,
   "metadata": {
    "collapsed": true
   },
   "outputs": [],
   "source": []
  }
 ],
 "metadata": {
  "kernelspec": {
   "display_name": "Julia 0.3.8",
   "language": "julia",
   "name": "julia-0.3"
  },
  "language_info": {
   "name": "julia",
   "version": "0.3.8"
  }
 },
 "nbformat": 4,
 "nbformat_minor": 0
}
