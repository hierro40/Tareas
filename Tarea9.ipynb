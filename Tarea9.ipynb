{
 "cells": [
  {
   "cell_type": "markdown",
   "metadata": {},
   "source": [
    "\n",
    "**El método de Newton para intervalos**\n",
    "\n",
    "Igual que en la clase anterior, supondremos que $f(x)$ es una función continuamente diferenciable y que existe un valor $x∗$ donde $f(x∗)=0$ (es decir, $x∗$ es una raíz de $f$ ). Aquí abordaremos de nuevo cómo encontrar las raíces de f dentro de un intervalo inicial $X$. Supondremos además que existe una extensión del intervalo $F′$ para la derivada $f′$, y que (por el momento) éste no contiene al cero: $0∉F′(X)$.\n",
    "\n",
    "La clave del método de Newton para intervalos está en aplicar el teorema del valor medio, que nos asegura que para cualquier $x∈X$ se cumple que\n",
    "$f(x)=f(x∗)+f′(ξ)⋅(x−x∗)$,\n",
    "\n",
    "para algúna $ξ$ entre $x$ y $x∗$. Aquí, $ξ$ es un valor desconocido, pero podemos utilizar el hecho de que está contenido en el intervalo: $ξ∈X$.\n",
    "\n",
    "Por lo tanto, obtenemos\n",
    "$x∗=x−f(x)f′(ξ)∈x−f(x)F′(X)=:N(X,x)$,\n",
    "\n",
    "donde hemos definido un operador $N$ que actúa sobre un intervalo y cualquier punto en el intervalo.\n",
    "\n",
    "Si suponemos que $x∗∈X$, entonces $x∗∈N(X,x)∩X$ para toda $x∈X$.\n",
    "\n",
    "Una elección particular es $x=m:=mid(X)$, el punto medio del intervalo $X$. Entonces obtenemos el llamado operador de Newton para intervalos:\n",
    "$N(X):=N(X,m)=m−f(m)/F′(X)$.\n",
    "\n",
    "Nota que cuando implementamos esto en la computadora, en general $f(m)$ no se podrá calcular exactamente, por lo cual es necesario convertir $m$ en un intervalo $M:=[m,m]$, y usar la extensión natural $F(M)$, así que tenemos finalmente\n",
    "$N(X):=M−F(M)/F′(X)$,\n",
    "\n",
    "donde ahora todos son intervalos.\n",
    "\n",
    "Ahora podemos definir una sucesión de intervalos a partir de un intervalo inicial $X_0$, dada por $X_{k+1}:=Xk∩N(Xk)$. Por construcción, si $x∗∈X_0$ entonces $x∗∈Xk$ para toda $k$. Entonces, si $X_0$ contiene a una raíz, la raíz se mantiene dentro de la secuencia de intervalos, que de hecho forman una secuencia anidada que converge a $x∗$. Entonces, si controlamos que de alguna manera el diámetro de los intervalos $x_k$ disminuya, obtendremos cotas precisas para $x∗$. Esto es el contenido del Teorema del método de Newton para intervalos.\n",
    "\n",
    "Más aún, si $f(x)$ es doblemente continua y diferenciable y $N(X)$ está bien definida en el intervalo $X$, se puede demostrar que:\n",
    "\n",
    "$N(X)∩X=∅$, es decir, $N(X)$ no se intersecta con $X$, entonces $X$ no contiene ninguna raíz de $f$.\n",
    "\n",
    "Si $N(X)⊆X$, entonces $X$ contiene exactamente una raíz de $f$.\n",
    "\n"
   ]
  },
  {
   "cell_type": "markdown",
   "metadata": {},
   "source": [
    "**[1]** Escribe una función que calcule el operador de Newton para un intervalo $X$, dadas $f(x)$ y $f′(x)$."
   ]
  },
  {
   "cell_type": "code",
   "execution_count": 1,
   "metadata": {
    "collapsed": false
   },
   "outputs": [
    {
     "name": "stderr",
     "output_type": "stream",
     "text": [
      "Warning: New definition \n",
      "    ^(Intervalo,Real) at /home/juser/Intervalos.jl:116\n",
      "is ambiguous with: \n",
      "    ^(Any,Integer) at intfuncs.jl:86.\n",
      "To fix, define \n",
      "    ^(Intervalo,Integer)\n",
      "before the new definition.\n"
     ]
    }
   ],
   "source": [
    "using Intervalos"
   ]
  },
  {
   "cell_type": "markdown",
   "metadata": {
    "collapsed": true
   },
   "source": [
    "Primero necesito crear una funcion para interseccion:"
   ]
  },
  {
   "cell_type": "code",
   "execution_count": 30,
   "metadata": {
    "collapsed": false
   },
   "outputs": [
    {
     "data": {
      "text/plain": [
       "interseccion (generic function with 1 method)"
      ]
     },
     "execution_count": 30,
     "metadata": {},
     "output_type": "execute_result"
    }
   ],
   "source": [
    "#Intersección\n",
    "function interseccion(A::Intervalo,B::Intervalo)\n",
    "    C=Intervalo(0.0,0.1)\n",
    "    #Primero los casos en los que no existe la interseccion\n",
    "    if A.sup < B.inf\n",
    "        println(\"No existe intersección entre los intervalos dados\")\n",
    "        return C=\"Vacio\"\n",
    "    elseif B.sup < A.inf\n",
    "        println(\"No existe intersección entre los intervalos dados\")\n",
    "        return C=\"Vacio\"\n",
    "        #Despues evaluamos los casos de interseccion que tenemos\n",
    "        elseif A.sup > B.inf && A.sup < B.sup && A.inf < B.inf\n",
    "        C.inf=B.inf\n",
    "        C.sup=A.sup\n",
    "        return C\n",
    "        elseif B.sup > A.inf && B.sup < A.sup && B.inf < A.inf\n",
    "        C.inf=A.inf\n",
    "        C.sup=B.sup\n",
    "        return C\n",
    "    elseif B.inf > A.inf && B.sup < A.sup\n",
    "        C=B\n",
    "        return C\n",
    "    elseif A.inf > B.inf && A.sup < B.sup\n",
    "        C=A\n",
    "        return C\n",
    "    end\n",
    "end"
   ]
  },
  {
   "cell_type": "markdown",
   "metadata": {},
   "source": [
    "Pruebo que tal trabaja mi nueva funcion:"
   ]
  },
  {
   "cell_type": "code",
   "execution_count": 31,
   "metadata": {
    "collapsed": false
   },
   "outputs": [
    {
     "name": "stdout",
     "output_type": "stream",
     "text": [
      "No existe intersección entre los intervalos dados\n"
     ]
    },
    {
     "data": {
      "text/plain": [
       "\"Vacio\""
      ]
     },
     "execution_count": 31,
     "metadata": {},
     "output_type": "execute_result"
    }
   ],
   "source": [
    "#Probando mi función para intersección\n",
    "A=Intervalo(2.5,3.3)\n",
    "B=Intervalo(3.5,4)\n",
    "interseccion(A,B)#Funciona!"
   ]
  },
  {
   "cell_type": "markdown",
   "metadata": {},
   "source": [
    "Intentamos construir la funcion, primero probe con un ciclo for donde establezco el numero de iteraciones de manera arbitraria."
   ]
  },
  {
   "cell_type": "code",
   "execution_count": 4,
   "metadata": {
    "collapsed": false
   },
   "outputs": [
    {
     "data": {
      "text/plain": [
       "Intervalo(2.64685738516134941474000630279306278680451214313507080078125e+00 with 256 bits of precision,2.6468782050416227347340580866585924013634212315082550048828125e+00 with 256 bits of precision)"
      ]
     },
     "execution_count": 4,
     "metadata": {},
     "output_type": "execute_result"
    }
   ],
   "source": [
    "#Parametros f(x)=x^2-7 y f´(x)=2x\n",
    "#Sabemos que existe una raiz en 2.646 (aprox)\n",
    "X=Intervalo(1,3)\n",
    "m=(X.inf+X.sup)/2\n",
    "M=Intervalo(m,m)\n",
    "N=M\n",
    "for i=1:3\n",
    "    N=M-(M^2.0-7)/(X^2.0)#Esta es la expresion relevante de Newton para intervalos\n",
    "    X=interseccion(N,X)#Calculamos la interseccion\n",
    "    m=(X.inf+X.sup)/2#Recalculamos el parametro m\n",
    "    M=Intervalo(m,m)#Recalculamos el intervalo M\n",
    "end\n",
    "X"
   ]
  },
  {
   "cell_type": "markdown",
   "metadata": {},
   "source": [
    "Que tan bueno es el resultado obtenido?"
   ]
  },
  {
   "cell_type": "code",
   "execution_count": 5,
   "metadata": {
    "collapsed": false
   },
   "outputs": [
    {
     "data": {
      "text/plain": [
       "5.909124745402470735126643561454311258239854960353742384478378329834065297742794e-03 with 256 bits of precision"
      ]
     },
     "execution_count": 5,
     "metadata": {},
     "output_type": "execute_result"
    }
   ],
   "source": [
    "x=(X.inf+X.sup)/2\n",
    "f=x^2.0-7"
   ]
  },
  {
   "cell_type": "markdown",
   "metadata": {},
   "source": [
    "Obtuvimos 3 decimales de precision para el mismo numero de iteraciones. Ya estoy listo para implementar la funcion."
   ]
  },
  {
   "cell_type": "code",
   "execution_count": 6,
   "metadata": {
    "collapsed": false
   },
   "outputs": [
    {
     "data": {
      "text/plain": [
       "NewInt (generic function with 1 method)"
      ]
     },
     "execution_count": 6,
     "metadata": {},
     "output_type": "execute_result"
    }
   ],
   "source": [
    "#Ahora creamos la funcion\n",
    "function NewInt(F,G,X::Intervalo,err)#Parametros de entrada, función, derivada, intervalo y error\n",
    "    m=(X.inf+X.sup)/2\n",
    "    M=Intervalo(m,m)\n",
    "    N=M\n",
    "    c=1\n",
    "    while c >= err\n",
    "        N=M-F(M)/G(X)\n",
    "        X=interseccion(N,X)\n",
    "        m=(X.inf+X.sup)/2\n",
    "        M=Intervalo(m,m)\n",
    "        c=abs(X.sup-X.inf)\n",
    "    end\n",
    "    X\n",
    "end"
   ]
  },
  {
   "cell_type": "markdown",
   "metadata": {},
   "source": [
    "Probamos la funcion, la diferencia es que ahora podemos introducir un error."
   ]
  },
  {
   "cell_type": "code",
   "execution_count": 7,
   "metadata": {
    "collapsed": false
   },
   "outputs": [
    {
     "data": {
      "text/plain": [
       "Intervalo(2.6457475562796209148617998518915328531875275075435638427734375e+00 with 256 bits of precision,2.645755514705882415101012572478111906093545258045196533203125e+00 with 256 bits of precision)"
      ]
     },
     "execution_count": 7,
     "metadata": {},
     "output_type": "execute_result"
    }
   ],
   "source": [
    "#Probamos para f(x)=x^2-7 y g(x)=2x\n",
    "#X=Intervalo(1,3)\n",
    "F(M::Intervalo)=M^2.0-7\n",
    "G(X::Intervalo)=X*2.0\n",
    "X=Intervalo(1,3)\n",
    "NewInt(F,G,X,0.001)"
   ]
  },
  {
   "cell_type": "code",
   "execution_count": 8,
   "metadata": {
    "collapsed": false
   },
   "outputs": [
    {
     "data": {
      "text/plain": [
       "1.187562253149143878341874962438776496885721556976152194808060702513330397778191e-06 with 256 bits of precision"
      ]
     },
     "execution_count": 8,
     "metadata": {},
     "output_type": "execute_result"
    }
   ],
   "source": [
    "X=Intervalo(2.6457475562796209148617998518915328531875275075435638427734375,2.645755514705882415101012572478111906093545258045196533203125)\n",
    "x=(X.inf+X.sup)/2\n",
    "f=x^2.0-7\n",
    "#Funciona"
   ]
  },
  {
   "cell_type": "markdown",
   "metadata": {},
   "source": [
    "Mejoramos la precision en 3 decimales mas para un total de 6, esto dependerá siempre del error."
   ]
  },
  {
   "cell_type": "markdown",
   "metadata": {},
   "source": [
    "**[2]** Implementa el método de Newton para intervalos para encontrar las raíces de $f(x)=x^3−1$ a partir de $X=[−3,3]$. Muestra gráficamente la implementación del método. En cada iteración subsecuente del método, ilustra qué le pasa al diámetro de la refincación del intervalo que vas obteniendo.\n"
   ]
  },
  {
   "cell_type": "code",
   "execution_count": 10,
   "metadata": {
    "collapsed": false
   },
   "outputs": [
    {
     "data": {
      "text/plain": [
       "Intervalo(9.99998791591044934069787419872454847791232168674468994140625e-01 with 256 bits of precision,1.0000014625886583745210424434279872230035834945738315582275390625e+00 with 256 bits of precision)"
      ]
     },
     "execution_count": 10,
     "metadata": {},
     "output_type": "execute_result"
    }
   ],
   "source": [
    "#Ahora probamos para f(x)=x^3-1 y g(x)=3x^2\n",
    "#Parte positiva del intervalo\n",
    "F(M::Intervalo)=M^3.0-1\n",
    "G(X::Intervalo)=(X^2.0)*3\n",
    "X=Intervalo(-3,3)\n",
    "NewInt(F,G,X,0.0001)"
   ]
  },
  {
   "cell_type": "code",
   "execution_count": 11,
   "metadata": {
    "collapsed": false
   },
   "outputs": [
    {
     "data": {
      "text/plain": [
       "Intervalo(-2.8284385326955462287325249182146080784150399267673492431640625e+00 with 256 bits of precision,-2.82841843430375746402949399538329089409671723842620849609375e+00 with 256 bits of precision)"
      ]
     },
     "execution_count": 11,
     "metadata": {},
     "output_type": "execute_result"
    }
   ],
   "source": [
    "F(M::Intervalo)=(M^2.0)*(1/8)-1\n",
    "G(X::Intervalo)=(X)*(1/4)\n",
    "X=Intervalo(-3,-eps(BigFloat))\n",
    "NewInt(F,G,X,0.0001)"
   ]
  },
  {
   "cell_type": "code",
   "execution_count": 12,
   "metadata": {
    "collapsed": false
   },
   "outputs": [
    {
     "name": "stdout",
     "output_type": "stream",
     "text": [
      "No existe intersección entre los intervalos dados\n"
     ]
    },
    {
     "ename": "LoadError",
     "evalue": "type Nothing has no field inf\nwhile loading In[12], in expression starting on line 6",
     "output_type": "error",
     "traceback": [
      "type Nothing has no field inf\nwhile loading In[12], in expression starting on line 6",
      "",
      " in NewInt at In[6]:10"
     ]
    }
   ],
   "source": [
    "#Ahora probamos para f(x)=x^3-1 y g(x)=3x^2\n",
    "#Parte negativa del intervalo\n",
    "F(M::Intervalo)=M^3.0-1\n",
    "G(X::Intervalo)=(X^2.0)*3\n",
    "X=Intervalo(-3,-eps(BigFloat))\n",
    "NewInt(F,G,X,0.0001)"
   ]
  },
  {
   "cell_type": "code",
   "execution_count": 9,
   "metadata": {
    "collapsed": false
   },
   "outputs": [
    {
     "data": {
      "text/plain": [
       "Intervalo(9.999987651812378688042336205565874251988134346902370452880859375e-01 with 256 bits of precision,1.00000150686430814249427978523954152478836476802825927734375e+00 with 256 bits of precision)"
      ]
     },
     "execution_count": 9,
     "metadata": {},
     "output_type": "execute_result"
    }
   ],
   "source": [
    "#Ahora probamos para f(x)=x^3-1 y g(x)=3x^2\n",
    "#Parte positiva del intervalo\n",
    "F(M::Intervalo)=M^3.0-1\n",
    "G(X::Intervalo)=(X^2.0)*3\n",
    "X=Intervalo(0.00001,3)\n",
    "NewInt(F,G,X,0.0001)"
   ]
  },
  {
   "cell_type": "markdown",
   "metadata": {},
   "source": [
    "Dividiendo si encontró la raiz que estoy buscando. ($x=1$)"
   ]
  },
  {
   "cell_type": "code",
   "execution_count": 10,
   "metadata": {
    "collapsed": false
   },
   "outputs": [
    {
     "name": "stdout",
     "output_type": "stream",
     "text": [
      "No existe intersección entre los intervalos dados\n"
     ]
    },
    {
     "ename": "LoadError",
     "evalue": "type Nothing has no field inf\nwhile loading In[10], in expression starting on line 6",
     "output_type": "error",
     "traceback": [
      "type Nothing has no field inf\nwhile loading In[10], in expression starting on line 6",
      "",
      " in NewInt at In[5]:10"
     ]
    }
   ],
   "source": [
    "#Ahora probamos para f(x)=x^2+1 y g(x)=2x\n",
    "#Parte negativa del intervalo\n",
    "F(M::Intervalo)=M^2.0+1\n",
    "G(X::Intervalo)=X*2.0\n",
    "X=Intervalo(-3,-0.1)\n",
    "NewInt(F,G,X,0.01)"
   ]
  },
  {
   "cell_type": "code",
   "execution_count": 11,
   "metadata": {
    "collapsed": false
   },
   "outputs": [
    {
     "name": "stdout",
     "output_type": "stream",
     "text": [
      "No existe intersección entre los intervalos dados\n"
     ]
    },
    {
     "ename": "LoadError",
     "evalue": "type Nothing has no field inf\nwhile loading In[11], in expression starting on line 6",
     "output_type": "error",
     "traceback": [
      "type Nothing has no field inf\nwhile loading In[11], in expression starting on line 6",
      "",
      " in NewInt at In[5]:10"
     ]
    }
   ],
   "source": [
    "#Ahora probamos para f(x)=x^2+1 y g(x)=2x\n",
    "#Parte positiva del intervalo\n",
    "F(M::Intervalo)=M^2.0+1\n",
    "G(X::Intervalo)=X*2.0\n",
    "X=Intervalo(0.1,3)\n",
    "NewInt(F,G,X,0.01)"
   ]
  },
  {
   "cell_type": "markdown",
   "metadata": {},
   "source": [
    "Obviamente no se encontro la raiz para ninguno de los intervalos probados. (Por teorema)"
   ]
  },
  {
   "cell_type": "code",
   "execution_count": 27,
   "metadata": {
    "collapsed": false
   },
   "outputs": [
    {
     "name": "stdout",
     "output_type": "stream",
     "text": [
      "El intervalo dado cotiene al cero\n"
     ]
    },
    {
     "data": {
      "text/plain": [
       "2-element Array{Intervalo,1}:\n",
       " Intervalo(-3e+00 with 256 bits of precision,-1.727233711018888925077270372560079914223200072887256277004740694033718360632485e-77 with 256 bits of precision)\n",
       " Intervalo(1.727233711018888925077270372560079914223200072887256277004740694033718360632485e-77 with 256 bits of precision,3e+00 with 256 bits of precision)  "
      ]
     },
     "execution_count": 27,
     "metadata": {},
     "output_type": "execute_result"
    }
   ],
   "source": [
    "#¿El intervalo contiene al cero?\n",
    "X=Intervalo(-3,3)\n",
    "if 0 > X.inf && 0 < X.sup\n",
    "    println(\"El intervalo dado cotiene al cero\")\n",
    "    X=[Intervalo(X.inf,-eps(BigFloat));Intervalo(eps(BigFloat),X.sup)]\n",
    "else\n",
    "    X\n",
    "end"
   ]
  },
  {
   "cell_type": "markdown",
   "metadata": {},
   "source": [
    "Probando para encontrar la raiz de $2$."
   ]
  },
  {
   "cell_type": "code",
   "execution_count": 13,
   "metadata": {
    "collapsed": false
   },
   "outputs": [
    {
     "data": {
      "text/plain": [
       "Intervalo(1.41421100867420163928189769109167173155583441257476806640625e+00 with 256 bits of precision,1.414216921726997716439455654580115151475183665752410888671875e+00 with 256 bits of precision)"
      ]
     },
     "execution_count": 13,
     "metadata": {},
     "output_type": "execute_result"
    }
   ],
   "source": [
    "F(M::Intervalo)=M^2.0-2\n",
    "G(X::Intervalo)=(X*2)\n",
    "X=Intervalo(0.1,3)\n",
    "NewInt(F,G,X,0.0001)"
   ]
  },
  {
   "cell_type": "code",
   "execution_count": 14,
   "metadata": {
    "collapsed": false
   },
   "outputs": [
    {
     "data": {
      "text/plain": [
       "2.553698893459355e-6"
      ]
     },
     "execution_count": 14,
     "metadata": {},
     "output_type": "execute_result"
    }
   ],
   "source": [
    "sqrt(2)-1.41421100867420163928189769109167173155583441257476806640625#Seis decimales de precision"
   ]
  },
  {
   "cell_type": "markdown",
   "metadata": {},
   "source": [
    "Finalmente va la función que parte al Intervalo en dos secciones cuando este contiene al cero y encuentra las respectivas raices:"
   ]
  },
  {
   "cell_type": "code",
   "execution_count": 48,
   "metadata": {
    "collapsed": false
   },
   "outputs": [
    {
     "data": {
      "text/plain": [
       "NewInt2 (generic function with 1 method)"
      ]
     },
     "execution_count": 48,
     "metadata": {},
     "output_type": "execute_result"
    }
   ],
   "source": [
    "#Ahora creamos la nueva funcion que divide el intervalo cuando este contiene al cero\n",
    "function NewInt2(F,G,X::Intervalo,err)#Parametros de entrada, función, derivada, intervalo y error\n",
    "    m=(X.inf+X.sup)/2\n",
    "    M=Intervalo(m,m)\n",
    "    N=M\n",
    "    c=1\n",
    "    if 0 > X.inf && 0 < X.sup\n",
    "        println(\"El intervalo dado contiene al cero\")\n",
    "        X=[Intervalo(X.inf,-eps(BigFloat));Intervalo(eps(BigFloat),X.sup)]\n",
    "        Xn1=X[1]\n",
    "        Xn2=X[2]\n",
    "        mn1=(Xn1.inf+Xn1.sup)/2\n",
    "        Mn1=Intervalo(mn1,mn1)\n",
    "        mn2=(Xn2.inf+Xn2.sup)/2\n",
    "        Mn2=Intervalo(mn2,mn2)\n",
    "        Nn1=Mn1\n",
    "        Nn2=Mn2\n",
    "        cn1=c\n",
    "        cn2=c\n",
    "        while cn1 >= err && typeof(Xn1) == Intervalo\n",
    "            Nn1=Mn1-F(Mn1)/G(Xn1)\n",
    "            Xn1=interseccion(Nn1,Xn1)\n",
    "            if Xn1 == \"Vacio\"\n",
    "                Xn1=\"Vacio\"\n",
    "            else\n",
    "                mn1=(Xn1.inf+Xn1.sup)/2\n",
    "                Mn1=Intervalo(mn1,mn1)\n",
    "                cn1=abs(Xn1.sup-Xn1.inf)\n",
    "            end\n",
    "        end\n",
    "        if Xn1 == \"Vacio\"\n",
    "            println(\"La parte negativa del intervalo evaluado no contiene raices\")\n",
    "        else\n",
    "            println(\"La parte negativa del intervalo evaluado contiene una raíz en:\")\n",
    "            println(Xn1)\n",
    "        end\n",
    "        while cn2 >= err && typeof(Xn2) == Intervalo\n",
    "            Nn2=Mn2-F(Mn2)/G(Xn2)\n",
    "            Xn2=interseccion(Nn2,Xn2)\n",
    "            if Xn2 == \"Vacio\"\n",
    "                Xn2=\"Vacio\"\n",
    "            else\n",
    "                mn2=(Xn2.inf+Xn2.sup)/2\n",
    "                Mn2=Intervalo(mn2,mn2)\n",
    "                cn2=abs(Xn2.sup-Xn2.inf)\n",
    "            end\n",
    "        end\n",
    "        if Xn2 == \"Vacio\"\n",
    "            println(\"La parte positiva del intervalo evaluado no contiene raices\")\n",
    "        else\n",
    "            println(\"La parte positiva del intervalo evaluado contiene una raíz en:\")\n",
    "            println(Xn2)\n",
    "        end\n",
    "    else\n",
    "        println(\"El intervalo dado no contiene al cero\")\n",
    "        while c >= err\n",
    "            N=M-F(M)/G(X)\n",
    "            X=interseccion(N,X)\n",
    "            m=(X.inf+X.sup)/2\n",
    "            M=Intervalo(m,m)\n",
    "            c=abs(X.sup-X.inf)\n",
    "        end\n",
    "        println(\"El intervalo evaluado contiene una raíz en:\")\n",
    "        println(X)\n",
    "    end\n",
    "end"
   ]
  },
  {
   "cell_type": "code",
   "execution_count": 49,
   "metadata": {
    "collapsed": false
   },
   "outputs": [
    {
     "name": "stdout",
     "output_type": "stream",
     "text": [
      "El intervalo dado contiene al cero\n",
      "La parte negativa del intervalo evaluado contiene una raíz en:\n",
      "Intervalo(-1.0000015068486091409879525093717944628224358893930912017822265625e+00 with 256 bits of precision,-9.999987651967248599425321098355112781064235605299472808837890625e-01 with 256 bits of precision)\n",
      "No existe intersección entre los intervalos dados\n",
      "La parte positiva del intervalo evaluado no contiene raices\n"
     ]
    }
   ],
   "source": [
    "#Ahora probamos para f(x)=x^3-1 y g(x)=3x^2\n",
    "#Parte positiva del intervalo\n",
    "F(M::Intervalo)=M^3.0+1\n",
    "G(X::Intervalo)=(X^2.0)*3\n",
    "X=Intervalo(-3,3)\n",
    "NewInt2(F,G,X,0.0001)"
   ]
  },
  {
   "cell_type": "code",
   "execution_count": 50,
   "metadata": {
    "collapsed": false
   },
   "outputs": [
    {
     "name": "stdout",
     "output_type": "stream",
     "text": [
      "El intervalo dado contiene al cero\n",
      "La parte negativa del intervalo evaluado contiene una raíz en:\n",
      "Intervalo(-1.00000003448786996642879123186296863590172279145917855203151702880859375e+00 with 256 bits of precision,-9.9999996659255086112027597722122507217790143840829841792583465576171875e-01 with 256 bits of precision)\n",
      "La parte positiva del intervalo evaluado contiene una raíz en:\n",
      "Intervalo(9.9999996659255086112027597722122507217790143840829841792583465576171875e-01 with 256 bits of precision,1.00000003448786996642879123186296863590172279145917855203151702880859375e+00 with 256 bits of precision)\n"
     ]
    }
   ],
   "source": [
    "#Ahora probamos para f(x)=x^2-1 y g(x)=2x\n",
    "#Parte positiva del intervalo\n",
    "F(M::Intervalo)=M^2.0-1\n",
    "G(X::Intervalo)=(X)*2\n",
    "X=Intervalo(-3,3)\n",
    "NewInt2(F,G,X,0.0001)"
   ]
  },
  {
   "cell_type": "markdown",
   "metadata": {},
   "source": [
    "Funciona correctamente."
   ]
  },
  {
   "cell_type": "markdown",
   "metadata": {},
   "source": [
    "**[3]** Usando tu implementación, demuestra que en el mismo intervalo $X=[−3,3 ]$ que $g(x)=x^2+1$ no tiene ninguna raíz. Ilustra gráficamente esto.\n",
    "\n",
    "Hint: En el caso en que $0∈F′(x)$ las hipótesis del teorema no se cumplen. En ese caso hay que dividir el intervalo (bisección por ejemplo) y tratar de que las hipótesis del teorema se cumplan, para poder aplicarlo. Extiende tus funciones para que incluyan esta situación. En ese caso, cada subdivisión debe ser probada si puede o no tener una raíz."
   ]
  },
  {
   "cell_type": "code",
   "execution_count": 53,
   "metadata": {
    "collapsed": false
   },
   "outputs": [
    {
     "name": "stdout",
     "output_type": "stream",
     "text": [
      "El intervalo dado contiene al cero\n",
      "No existe intersección entre los intervalos dados\n",
      "La parte negativa del intervalo evaluado no contiene raices\n",
      "No existe intersección entre los intervalos dados\n",
      "La parte positiva del intervalo evaluado no contiene raices\n"
     ]
    }
   ],
   "source": [
    "#Ahora probamos para f(x)=x^2+1 y g(x)=2x\n",
    "#Todo el intervalo\n",
    "F(M::Intervalo)=M^2.0+1\n",
    "G(X::Intervalo)=X*2.0\n",
    "X=Intervalo(-3,3)\n",
    "NewInt2(F,G,X,0.0001)"
   ]
  },
  {
   "cell_type": "markdown",
   "metadata": {},
   "source": [
    "Funciona correctamente."
   ]
  },
  {
   "cell_type": "markdown",
   "metadata": {},
   "source": [
    "**[4]** Considera la familia de polinomios de Wilkinson definidos por $W_n(x)=∏ni=1(x−i)$. Partiendo de un intervalo simétrico alrededor de cero, implementa el método de Newton para encontrar sus raíces, utilizando diferenciación automática.\n",
    "División extendida\n"
   ]
  },
  {
   "cell_type": "code",
   "execution_count": null,
   "metadata": {
    "collapsed": true
   },
   "outputs": [],
   "source": []
  },
  {
   "cell_type": "markdown",
   "metadata": {},
   "source": [
    "**[5]** Supón que $F'(X)$ sea un intervalo, digamos $F'(X)=[−a,b]$, que contiene $0$ (con $a,b>0$).\n",
    "\n",
    "(i) Definiendo $1/A$ como el conjunto $1/x:x∈A$, evalúa $1/F'(X)$.\n",
    "\n",
    "(ii) Define una función que implementa esta \"división extendida\" de intervalos (o, más bien, inversa extendida)."
   ]
  },
  {
   "cell_type": "markdown",
   "metadata": {},
   "source": [
    "**R:** A continuación genero la función de división extendida y hago algunas pruebas."
   ]
  },
  {
   "cell_type": "code",
   "execution_count": 54,
   "metadata": {
    "collapsed": false
   },
   "outputs": [
    {
     "data": {
      "text/plain": [
       "Intervalo(-3e+00 with 256 bits of precision,2e+00 with 256 bits of precision)"
      ]
     },
     "execution_count": 54,
     "metadata": {},
     "output_type": "execute_result"
    }
   ],
   "source": [
    "FX=Intervalo(-3,2)"
   ]
  },
  {
   "cell_type": "code",
   "execution_count": 55,
   "metadata": {
    "collapsed": false
   },
   "outputs": [
    {
     "data": {
      "text/plain": [
       "extend (generic function with 1 method)"
      ]
     },
     "execution_count": 55,
     "metadata": {},
     "output_type": "execute_result"
    }
   ],
   "source": [
    "#Division extendida\n",
    "function extend(A::Intervalo)\n",
    "    D=Intervalo(0,0)\n",
    "    C=[Intervalo(0,0);Intervalo(0,0)]\n",
    "    if (A.inf <= 0.0) & (A.sup > 0.0)\n",
    "        C=[Intervalo(-Inf,1/A.inf);Intervalo(1/A.sup,Inf)]\n",
    "        return C\n",
    "    else\n",
    "        D=Intervalo(1/A.sup,1/A.inf)\n",
    "        return D\n",
    "    end\n",
    "end"
   ]
  },
  {
   "cell_type": "code",
   "execution_count": 56,
   "metadata": {
    "collapsed": false
   },
   "outputs": [
    {
     "data": {
      "text/plain": [
       "2-element Array{Intervalo,1}:\n",
       " Intervalo(-inf with 256 bits of precision,-3.33333333333333314829616256247390992939472198486328125e-01 with 256 bits of precision)\n",
       " Intervalo(5e-01 with 256 bits of precision,inf with 256 bits of precision)                                                        "
      ]
     },
     "execution_count": 56,
     "metadata": {},
     "output_type": "execute_result"
    }
   ],
   "source": [
    "EX=extend(FX)"
   ]
  },
  {
   "cell_type": "code",
   "execution_count": 46,
   "metadata": {
    "collapsed": false
   },
   "outputs": [
    {
     "data": {
      "text/plain": [
       "Intervalo(5e-01 with 256 bits of precision,inf with 256 bits of precision)"
      ]
     },
     "execution_count": 46,
     "metadata": {},
     "output_type": "execute_result"
    }
   ],
   "source": [
    "EX[2]"
   ]
  },
  {
   "cell_type": "code",
   "execution_count": 41,
   "metadata": {
    "collapsed": false
   },
   "outputs": [
    {
     "data": {
      "text/plain": [
       "Intervalo(1e+00 with 256 bits of precision,3e+00 with 256 bits of precision)"
      ]
     },
     "execution_count": 41,
     "metadata": {},
     "output_type": "execute_result"
    }
   ],
   "source": [
    "X=Intervalo(1,3)"
   ]
  },
  {
   "cell_type": "code",
   "execution_count": 42,
   "metadata": {
    "collapsed": false
   },
   "outputs": [
    {
     "data": {
      "text/plain": [
       "Intervalo(5e-01 with 256 bits of precision,inf with 256 bits of precision)"
      ]
     },
     "execution_count": 42,
     "metadata": {},
     "output_type": "execute_result"
    }
   ],
   "source": [
    "X*EX[2]"
   ]
  }
 ],
 "metadata": {
  "kernelspec": {
   "display_name": "Python 2",
   "language": "python",
   "name": "python2"
  },
  "language_info": {
   "name": "julia",
   "version": "0.3.6"
  }
 },
 "nbformat": 4,
 "nbformat_minor": 0
}
