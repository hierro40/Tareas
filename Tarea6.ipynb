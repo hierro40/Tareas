{
 "cells": [
  {
   "cell_type": "markdown",
   "metadata": {},
   "source": [
    "# Intervalos"
   ]
  },
  {
   "cell_type": "markdown",
   "metadata": {},
   "source": [
    "**[1]** (i) Define un tipo compósito de Julia Intervalo para representar un intervalo de dos números reales, que incluya redondeo dirigido. Por el momento supongamos que todos los elementos serán de tipo BigFloat.\n",
    "\n",
    "Para ello, deberás definir constructores que acepten cadenas y/o números.\n",
    "\n",
    "(ii) Implementa las operaciones básicas sobre intervalos.\n",
    "\n",
    "(iii) Limpia tu código para reducir la repetición de código, al sacar cada vez código en común a una función por separado."
   ]
  },
  {
   "cell_type": "markdown",
   "metadata": {},
   "source": [
    "**R:** Para la primera parte este es el codigo que nos crea el intervalo ya considerando el redondeo."
   ]
  },
  {
   "cell_type": "code",
   "execution_count": 2,
   "metadata": {
    "collapsed": false
   },
   "outputs": [],
   "source": [
    "type Intervalo\n",
    "    inf::BigFloat\n",
    "    sup::BigFloat\n",
    "\n",
    "    function Intervalo(x,y)\n",
    "        #En esta parte simplemente nos aseguramos que las entradas sean intervalos\n",
    "        if x>=y\n",
    "            error(\"Las entradas no corresponden a un intervalo\")\n",
    "        end\n",
    "        #Esta es la parte fina del codigo donde vamos a redondear\n",
    "        xs=string(x)\n",
    "        ys=string(y)\n",
    "        set_rounding(Float64,RoundDown)\n",
    "        x=BigFloat(float(xs))\n",
    "        set_rounding(Float64,RoundUp)\n",
    "        y=BigFloat(float(ys))\n",
    "        new(x,y)\n",
    "    end\n",
    "end"
   ]
  },
  {
   "cell_type": "code",
   "execution_count": 17,
   "metadata": {
    "collapsed": false
   },
   "outputs": [
    {
     "name": "stdout",
     "output_type": "stream",
     "text": [
      "9.999999999999999167332731531132594682276248931884765625e-02\n",
      "1.000000000000000055511151231257827021181583404541015625e-01\n"
     ]
    }
   ],
   "source": [
    "#Razonamiento para crear la funcion\n",
    "x=0.1\n",
    "BigFloat(x)\n",
    "y=string(x)\n",
    "set_rounding(Float64,RoundDown)\n",
    "println(BigFloat(float(y)))\n",
    "set_rounding(Float64,RoundUp)\n",
    "println(BigFloat(float(y)))"
   ]
  },
  {
   "cell_type": "code",
   "execution_count": 5,
   "metadata": {
    "collapsed": false
   },
   "outputs": [
    {
     "data": {
      "text/plain": [
       "Intervalo(9.999999999999999167332731531132594682276248931884765625e-02 with 256 bits of precision,3.000000000000000444089209850062616169452667236328125e-01 with 256 bits of precision)"
      ]
     },
     "execution_count": 5,
     "metadata": {},
     "output_type": "execute_result"
    }
   ],
   "source": [
    "A=Intervalo(0.1,0.3)#Funciona el redondeo"
   ]
  },
  {
   "cell_type": "markdown",
   "metadata": {},
   "source": [
    "Ahora vamos a definir las operaciones con intervalos:"
   ]
  },
  {
   "cell_type": "code",
   "execution_count": 3,
   "metadata": {
    "collapsed": false
   },
   "outputs": [
    {
     "data": {
      "text/plain": [
       "+ (generic function with 216 methods)"
      ]
     },
     "execution_count": 3,
     "metadata": {},
     "output_type": "execute_result"
    }
   ],
   "source": [
    "#Suma\n",
    "function +(A::Intervalo,B::Intervalo)\n",
    "    C=Intervalo(0.0,0.1)\n",
    "    C.inf=A.inf+B.inf\n",
    "    C.sup=A.sup+B.sup\n",
    "    return C\n",
    "end"
   ]
  },
  {
   "cell_type": "code",
   "execution_count": 4,
   "metadata": {
    "collapsed": false
   },
   "outputs": [
    {
     "data": {
      "text/plain": [
       "- (generic function with 242 methods)"
      ]
     },
     "execution_count": 4,
     "metadata": {},
     "output_type": "execute_result"
    }
   ],
   "source": [
    "#Resta\n",
    "function -(A::Intervalo,B::Intervalo)\n",
    "    C=Intervalo(0.0,0.1)\n",
    "    C.inf=A.inf-B.sup\n",
    "    C.sup=A.sup-B.inf\n",
    "    return C\n",
    "end"
   ]
  },
  {
   "cell_type": "code",
   "execution_count": 6,
   "metadata": {
    "collapsed": false
   },
   "outputs": [
    {
     "data": {
      "text/plain": [
       "* (generic function with 278 methods)"
      ]
     },
     "execution_count": 6,
     "metadata": {},
     "output_type": "execute_result"
    }
   ],
   "source": [
    "#Producto\n",
    "function *(A::Intervalo,B::Intervalo)\n",
    "    C=Intervalo(0.0,0.1)\n",
    "    #Primer caso: A positivo, B positivo\n",
    "    if (A.inf > 0.0) & (A.sup > 0.0) & (B.inf > 0.0) & (B.sup > 0.0)    \n",
    "        C.inf=A.sup*B.sup\n",
    "        C.sup=A.inf*B.inf\n",
    "    #Segundo caso: A positivo, B negativo\n",
    "    elseif (A.inf > 0.0) & (A.sup > 0.0) & (B.inf < 0.0) & (B.sup < 0.0)\n",
    "        C.inf=A.sup*B.inf\n",
    "        C.sup=A.inf*B.sup\n",
    "    #Tercer caso: A positivo, B negativo y positivo\n",
    "    elseif (A.inf > 0.0) & (A.sup > 0.0) & (B.inf < 0.0) & (B.sup > 0.0)\n",
    "        C.inf=A.sup*B.inf\n",
    "        C.sup=A.sup*B.sup\n",
    "    #Cuarto caso: A negativo, B negativo\n",
    "    elseif (A.inf < 0.0) & (A.sup < 0.0) & (B.inf < 0.0) & (B.sup < 0.0)\n",
    "        C.inf=A.sup*B.sup\n",
    "        C.sup=A.inf*B.inf\n",
    "    #Quinto caso: A negativo y positivo, B negativo y positivo\n",
    "    elseif (A.inf < 0.0) & (A.sup > 0.0) & (B.inf < 0.0) & (B.sup > 0.0)\n",
    "        if abs(A.sup)>=abs(A.inf)\n",
    "            C.inf=A.sup*B.inf\n",
    "            C.sup=A.sup*B.sup\n",
    "        else\n",
    "            C.inf=A.inf*B.sup\n",
    "            C.sup=A.inf*B.inf\n",
    "        end\n",
    "    #Sexto caso: A negativo, B positivo\n",
    "    elseif (A.inf < 0.0) & (A.sup < 0.0) & (B.inf > 0.0) & (B.sup > 0.0)\n",
    "        C.inf=A.inf*B.sup\n",
    "        C.sup=A.sup*B.inf\n",
    "    #Septimo caso: A negativo y positivo, B positivo\n",
    "    elseif (A.inf < 0.0) & (A.sup > 0.0) & (B.inf > 0.0) & (B.sup > 0.0)\n",
    "        C.inf=A.inf*B.sup\n",
    "        C.sup=A.sup*B.sup\n",
    "    #Ultimo caso: A negativo y positivo, B negativo\n",
    "    else\n",
    "        C.inf=A.sup*B.inf\n",
    "        C.sup=A.inf*B.inf\n",
    "    end\n",
    "    return C\n",
    "end"
   ]
  },
  {
   "cell_type": "markdown",
   "metadata": {},
   "source": [
    "La funcion anterior falla en una de las condiciones, se propone la siguiente solucion alternativa \"ligeramente\" mas corta:"
   ]
  },
  {
   "cell_type": "code",
   "execution_count": 5,
   "metadata": {
    "collapsed": false
   },
   "outputs": [
    {
     "data": {
      "text/plain": [
       "* (generic function with 278 methods)"
      ]
     },
     "execution_count": 5,
     "metadata": {},
     "output_type": "execute_result"
    }
   ],
   "source": [
    "function *(A::Intervalo,B::Intervalo)\n",
    "    Valores=[A.inf*B.inf A.inf*B.sup A.sup*B.inf A.sup*B.sup]\n",
    "    C=Intervalo(minimum(Valores),maximum(Valores))\n",
    "    return C\n",
    "end"
   ]
  },
  {
   "cell_type": "code",
   "execution_count": 21,
   "metadata": {
    "collapsed": false
   },
   "outputs": [
    {
     "data": {
      "text/plain": [
       "Intervalo(-9.999999999999999167332731531132594682276248931884765625e-02 with 256 bits of precision,2e+00 with 256 bits of precision)"
      ]
     },
     "execution_count": 21,
     "metadata": {},
     "output_type": "execute_result"
    }
   ],
   "source": [
    "A=Intervalo(-1,0.1)\n",
    "B=Intervalo(-0.1,2)"
   ]
  },
  {
   "cell_type": "code",
   "execution_count": 27,
   "metadata": {
    "collapsed": false
   },
   "outputs": [
    {
     "data": {
      "text/plain": [
       "Intervalo(-2e+00 with 256 bits of precision,2.00000000000000011102230246251565404236316680908203125e-01 with 256 bits of precision)"
      ]
     },
     "execution_count": 27,
     "metadata": {},
     "output_type": "execute_result"
    }
   ],
   "source": [
    "A*B#Aqui funciona incluso el caso que destruia mi codigo anterior"
   ]
  },
  {
   "cell_type": "code",
   "execution_count": 6,
   "metadata": {
    "collapsed": false
   },
   "outputs": [
    {
     "data": {
      "text/plain": [
       "/ (generic function with 73 methods)"
      ]
     },
     "execution_count": 6,
     "metadata": {},
     "output_type": "execute_result"
    }
   ],
   "source": [
    "function /(A::Intervalo,B::Intervalo)\n",
    "    if (B.inf < 0.0) & (B.sup > 0.0)#podria ahorrarme una operacion, Como?\n",
    "        println(\"Tu intervalo del denominador contiene al 0, no se puede calcular el intervalo\")\n",
    "    else\n",
    "    Valores=[A.inf/B.inf A.inf/B.sup A.sup/B.inf A.sup/B.sup]\n",
    "    C=Intervalo(minimum(Valores),maximum(Valores))\n",
    "    end\n",
    "    return C\n",
    "end"
   ]
  },
  {
   "cell_type": "code",
   "execution_count": 41,
   "metadata": {
    "collapsed": false
   },
   "outputs": [
    {
     "data": {
      "text/plain": [
       "Intervalo(-inf with 256 bits of precision,3e+00 with 256 bits of precision)"
      ]
     },
     "execution_count": 41,
     "metadata": {},
     "output_type": "execute_result"
    }
   ],
   "source": [
    "D=Intervalo(-9,-1)\n",
    "E=Intervalo(-3,0)\n",
    "D/E"
   ]
  },
  {
   "cell_type": "markdown",
   "metadata": {},
   "source": [
    "**[2]** Haz un módulo de Julia llamado Intervalos en un archivo intervalos.jl, que contiene todas las definiciones anteriores."
   ]
  },
  {
   "cell_type": "markdown",
   "metadata": {},
   "source": [
    "**R:** El modulo fue creado con el nombre intervalos.jl"
   ]
  },
  {
   "cell_type": "markdown",
   "metadata": {},
   "source": [
    "**[3]** (i) Escribe tests (\"pruebas\") usando FactCheck.jl.\n",
    "\n",
    "Estos tests se deberán correr cada vez que modifiques tu código, ¡para verificar que no lo hayas estropeado entre tanto!\n",
    "\n",
    "(ii) ¡Intenta destruir el código de alguien más! O sea, escribe tests que realmente prueben el código del otro (¡\"extreme testing\"!)"
   ]
  },
  {
   "cell_type": "code",
   "execution_count": 47,
   "metadata": {
    "collapsed": false
   },
   "outputs": [
    {
     "name": "stderr",
     "output_type": "stream",
     "text": [
      "INFO: Nothing to be done\n"
     ]
    }
   ],
   "source": [
    "Pkg.add(\"FactCheck\")"
   ]
  },
  {
   "cell_type": "code",
   "execution_count": 50,
   "metadata": {
    "collapsed": false
   },
   "outputs": [
    {
     "name": "stdout",
     "output_type": "stream",
     "text": [
      "Esto es una prueba\n",
      "0 facts verified.\n"
     ]
    },
    {
     "data": {
      "text/plain": [
       "delayed_handler (generic function with 4 methods)"
      ]
     },
     "execution_count": 50,
     "metadata": {},
     "output_type": "execute_result"
    }
   ],
   "source": [
    "using FactCheck\n",
    "facts(\"Esto es una prueba\") do\n",
    "    1>=1\n",
    "    2*2>=4\n",
    "end\n"
   ]
  },
  {
   "cell_type": "markdown",
   "metadata": {},
   "source": [
    "# Operaciones con intervalos"
   ]
  },
  {
   "cell_type": "markdown",
   "metadata": {
    "collapsed": true
   },
   "source": [
    "\n",
    "\n",
    "**[5]** \n",
    "\n",
    "(i) Define la potencia para intervalos.\n",
    "\n",
    "(ii) Para el intervalo X=[−1,1], calcula X⋅X y $X^2$ (donde ⋅ denota la multiplicación de intervalos). ¿Qué observas?\n",
    "\n",
    "(iii) Calcula [−1,1]⋅([−1,0]+[3,4]) y [−1,1]⋅[−1,0]+[−1,1]⋅[3,4]. ¿Qué observas?\n"
   ]
  },
  {
   "cell_type": "markdown",
   "metadata": {},
   "source": [
    "**R:** Definiremos la potencia a partir de la multiplicación que ya programé. "
   ]
  },
  {
   "cell_type": "code",
   "execution_count": 7,
   "metadata": {
    "collapsed": false
   },
   "outputs": [
    {
     "data": {
      "text/plain": [
       "^ (generic function with 54 methods)"
      ]
     },
     "execution_count": 7,
     "metadata": {},
     "output_type": "execute_result"
    }
   ],
   "source": [
    "function ^(A::Intervalo)\n",
    "    C=A\n",
    "    for i=1:n\n",
    "        C=C*A#Utilizamos la operacion multiplicación programada previamente\n",
    "    end\n",
    "    return C\n",
    "end"
   ]
  },
  {
   "cell_type": "code",
   "execution_count": 8,
   "metadata": {
    "collapsed": false
   },
   "outputs": [
    {
     "data": {
      "text/plain": [
       "Intervalo(9.99999999999999673871986516360266250558197498321533203125e-03 with 256 bits of precision,9.000000000000003830269434956790064461529254913330078125e-02 with 256 bits of precision)"
      ]
     },
     "execution_count": 8,
     "metadata": {},
     "output_type": "execute_result"
    }
   ],
   "source": [
    "A^2"
   ]
  },
  {
   "cell_type": "code",
   "execution_count": 9,
   "metadata": {
    "collapsed": false
   },
   "outputs": [
    {
     "data": {
      "text/plain": [
       "Intervalo(9.99999999999999673871986516360266250558197498321533203125e-03 with 256 bits of precision,9.000000000000003830269434956790064461529254913330078125e-02 with 256 bits of precision)"
      ]
     },
     "execution_count": 9,
     "metadata": {},
     "output_type": "execute_result"
    }
   ],
   "source": [
    "A*A#Comprobamos que hace lo que queremos"
   ]
  },
  {
   "cell_type": "markdown",
   "metadata": {},
   "source": [
    "Ahora Realizamos las operaciones con el intervalo X dado $( X=[-1,1] )$"
   ]
  },
  {
   "cell_type": "code",
   "execution_count": 9,
   "metadata": {
    "collapsed": false
   },
   "outputs": [
    {
     "data": {
      "text/plain": [
       "Intervalo(-1e+00 with 256 bits of precision,1e+00 with 256 bits of precision)"
      ]
     },
     "execution_count": 9,
     "metadata": {},
     "output_type": "execute_result"
    }
   ],
   "source": [
    "X=Intervalo(-1,1)"
   ]
  },
  {
   "cell_type": "code",
   "execution_count": 11,
   "metadata": {
    "collapsed": false
   },
   "outputs": [
    {
     "data": {
      "text/plain": [
       "Intervalo(-1e+00 with 256 bits of precision,1e+00 with 256 bits of precision)"
      ]
     },
     "execution_count": 11,
     "metadata": {},
     "output_type": "execute_result"
    }
   ],
   "source": [
    "X*X"
   ]
  },
  {
   "cell_type": "code",
   "execution_count": 12,
   "metadata": {
    "collapsed": false
   },
   "outputs": [
    {
     "data": {
      "text/plain": [
       "Intervalo(-1e+00 with 256 bits of precision,1e+00 with 256 bits of precision)"
      ]
     },
     "execution_count": 12,
     "metadata": {},
     "output_type": "execute_result"
    }
   ],
   "source": [
    "X^2"
   ]
  },
  {
   "cell_type": "markdown",
   "metadata": {},
   "source": [
    "Los resultados son los mismos y esto era de esperarse, pues para programar la función potencia se utilizó la función producto programad apreviamente.\n",
    "\n",
    "Finalmente para los cálculos que nos solicitan:"
   ]
  },
  {
   "cell_type": "code",
   "execution_count": 21,
   "metadata": {
    "collapsed": false
   },
   "outputs": [
    {
     "data": {
      "text/plain": [
       "Intervalo(-4e+00 with 256 bits of precision,4e+00 with 256 bits of precision)"
      ]
     },
     "execution_count": 21,
     "metadata": {},
     "output_type": "execute_result"
    }
   ],
   "source": [
    "Q=Intervalo(-1,0)\n",
    "R=Intervalo(3,4)\n",
    "X*(Q+R)"
   ]
  },
  {
   "cell_type": "code",
   "execution_count": 22,
   "metadata": {
    "collapsed": false
   },
   "outputs": [
    {
     "data": {
      "text/plain": [
       "Intervalo(-5e+00 with 256 bits of precision,5e+00 with 256 bits of precision)"
      ]
     },
     "execution_count": 22,
     "metadata": {},
     "output_type": "execute_result"
    }
   ],
   "source": [
    "X*Q+X*R"
   ]
  },
  {
   "cell_type": "markdown",
   "metadata": {},
   "source": [
    "No se satisface la distributividad, es decir $A(B+C)$ es distinto de $AB+AC$"
   ]
  },
  {
   "cell_type": "markdown",
   "metadata": {},
   "source": [
    "**[6]** Con las operaciones definidas en Julia, podemos insertar intervalos en cálculos sencillos.\n",
    "\n",
    "(i) Define una función polinomial $p_1(x):=(x−1)(x−2)$.\n",
    "\n",
    "(ii) ¿Cómo se puede mandar a $p_1$ un intervalo como argumento?\n",
    "\n",
    "(iii) ¿Qué representa el resultado?\n",
    "\n",
    "(iv) Juega con distintos intervalos como entrada y dibuja los resultados. ¿Qué observas?\n",
    "\n",
    "(v) ¿Qué pasa si reescribes $p_1$ en una forma equivalente? ¿En otra forma equivalente?\n",
    "\n",
    "(vi) Pensando en este ejemplo de polinomios, ¿para qué nos sirven los intervalos?"
   ]
  },
  {
   "cell_type": "markdown",
   "metadata": {},
   "source": [
    "**R:** Primero definimos la función polinomial conocida:"
   ]
  },
  {
   "cell_type": "code",
   "execution_count": 18,
   "metadata": {
    "collapsed": false
   },
   "outputs": [
    {
     "data": {
      "text/plain": [
       "poli (generic function with 1 method)"
      ]
     },
     "execution_count": 18,
     "metadata": {},
     "output_type": "execute_result"
    }
   ],
   "source": [
    "function poli(x)\n",
    "    p=(x-1)*(x-2)\n",
    "    return p\n",
    "end"
   ]
  },
  {
   "cell_type": "code",
   "execution_count": 33,
   "metadata": {
    "collapsed": false
   },
   "outputs": [
    {
     "data": {
      "text/plain": [
       "2"
      ]
     },
     "execution_count": 33,
     "metadata": {},
     "output_type": "execute_result"
    }
   ],
   "source": [
    "poli(3)"
   ]
  },
  {
   "cell_type": "markdown",
   "metadata": {},
   "source": [
    "Intentamos probar un Intervalo en nuestra función:"
   ]
  },
  {
   "cell_type": "code",
   "execution_count": 35,
   "metadata": {
    "collapsed": false
   },
   "outputs": [
    {
     "ename": "LoadError",
     "evalue": "`-` has no method matching -(::Intervalo, ::Int64)\nwhile loading In[35], in expression starting on line 1",
     "output_type": "error",
     "traceback": [
      "`-` has no method matching -(::Intervalo, ::Int64)\nwhile loading In[35], in expression starting on line 1",
      "",
      " in poli at In[31]:2"
     ]
    }
   ],
   "source": [
    "poli(X)"
   ]
  },
  {
   "cell_type": "markdown",
   "metadata": {},
   "source": [
    "Proponemos una nueva función polinomial que tiene como argumento un intervalo y devuelve otro intervalo:"
   ]
  },
  {
   "cell_type": "code",
   "execution_count": 19,
   "metadata": {
    "collapsed": false
   },
   "outputs": [
    {
     "data": {
      "text/plain": [
       "poli2 (generic function with 1 method)"
      ]
     },
     "execution_count": 19,
     "metadata": {},
     "output_type": "execute_result"
    }
   ],
   "source": [
    "function poli2(X::Intervalo)\n",
    "    A=Intervalo(0,0.1)\n",
    "    B=Intervalo(0,0.1)\n",
    "    A.inf=X.inf-1\n",
    "    A.sup=X.sup-1#(x-1)\n",
    "    B.inf=X.inf-2\n",
    "    B.sup=X.sup-2#(x-2)\n",
    "    P=A*B#p=(x-1)(x-2)\n",
    "    return P\n",
    "end"
   ]
  },
  {
   "cell_type": "code",
   "execution_count": 21,
   "metadata": {
    "collapsed": false
   },
   "outputs": [
    {
     "data": {
      "text/plain": [
       "Intervalo(-0e+00 with 256 bits of precision,6e+00 with 256 bits of precision)"
      ]
     },
     "execution_count": 21,
     "metadata": {},
     "output_type": "execute_result"
    }
   ],
   "source": [
    "poli2(X)"
   ]
  },
  {
   "cell_type": "markdown",
   "metadata": {
    "collapsed": true
   },
   "source": [
    "Lo que obtenemos por resultado representa el polinomio evaluado en los extremos del intervalo, **¿es esto correcto?**\n",
    "\n",
    "Ahora propondremos escribir $p_1(x)=(x-1)(x-2)=x^2-3x+2$, que es una forma equivalente. Una segunda forma sería $p_1(x)=x(x-3)+2$. Vamos a evaluar los resultados:"
   ]
  },
  {
   "cell_type": "code",
   "execution_count": 24,
   "metadata": {
    "collapsed": false
   },
   "outputs": [
    {
     "data": {
      "text/plain": [
       "poli3 (generic function with 1 method)"
      ]
     },
     "execution_count": 24,
     "metadata": {},
     "output_type": "execute_result"
    }
   ],
   "source": [
    "function poli3(X::Intervalo)\n",
    "    P=X^2-X-X-X\n",
    "    P.inf=P.inf+2\n",
    "    P.sup=P.sup+2\n",
    "    return P\n",
    "end"
   ]
  },
  {
   "cell_type": "code",
   "execution_count": 25,
   "metadata": {
    "collapsed": false
   },
   "outputs": [
    {
     "data": {
      "text/plain": [
       "Intervalo(-2e+00 with 256 bits of precision,6e+00 with 256 bits of precision)"
      ]
     },
     "execution_count": 25,
     "metadata": {},
     "output_type": "execute_result"
    }
   ],
   "source": [
    "poli3(X)"
   ]
  },
  {
   "cell_type": "code",
   "execution_count": 26,
   "metadata": {
    "collapsed": false
   },
   "outputs": [
    {
     "data": {
      "text/plain": [
       "poli4 (generic function with 1 method)"
      ]
     },
     "execution_count": 26,
     "metadata": {},
     "output_type": "execute_result"
    }
   ],
   "source": [
    "function poli4(X::Intervalo)\n",
    "    D=Intervalo(0,0.1)\n",
    "    D.inf=D.inf-3\n",
    "    D.sup=D.sup-3\n",
    "    P=X*D\n",
    "    P.inf=P.inf+2\n",
    "    P.sup=P.sup+2\n",
    "    return P\n",
    "end"
   ]
  },
  {
   "cell_type": "code",
   "execution_count": 27,
   "metadata": {
    "collapsed": false
   },
   "outputs": [
    {
     "data": {
      "text/plain": [
       "Intervalo(-1e+00 with 256 bits of precision,5e+00 with 256 bits of precision)"
      ]
     },
     "execution_count": 27,
     "metadata": {},
     "output_type": "execute_result"
    }
   ],
   "source": [
    "poli4(X)"
   ]
  },
  {
   "cell_type": "markdown",
   "metadata": {},
   "source": [
    "Con cada forma que escribimos el polinomio obtenemos distintos resultados, esto por la distributividad.\n",
    "\n",
    "¿Para que podríamos usarlo? Es una manera de manipular los límites de un intervalo con el que estemos trabajando."
   ]
  },
  {
   "cell_type": "markdown",
   "metadata": {},
   "source": [
    "**[7]**\n",
    "\n",
    "(i) Haz una implementación de tu idea de la pregunta [6].\n",
    "\n",
    "(ii) Pruébalo con $p_2(x):=x^2−2$.\n",
    "\n",
    "(iii) Pruébalo con otros polinomios."
   ]
  },
  {
   "cell_type": "code",
   "execution_count": 8,
   "metadata": {
    "collapsed": false
   },
   "outputs": [
    {
     "data": {
      "text/plain": [
       "poli5 (generic function with 1 method)"
      ]
     },
     "execution_count": 8,
     "metadata": {},
     "output_type": "execute_result"
    }
   ],
   "source": [
    "function poli5(X::Intervalo)#X^2-2\n",
    "    P=X^2\n",
    "    P.inf=P.inf-2\n",
    "    P.sup=P.sup-2\n",
    "    return P\n",
    "end"
   ]
  },
  {
   "cell_type": "code",
   "execution_count": 10,
   "metadata": {
    "collapsed": false
   },
   "outputs": [
    {
     "data": {
      "text/plain": [
       "Intervalo(-3e+00 with 256 bits of precision,-1e+00 with 256 bits of precision)"
      ]
     },
     "execution_count": 10,
     "metadata": {},
     "output_type": "execute_result"
    }
   ],
   "source": [
    "poli5(X)"
   ]
  },
  {
   "cell_type": "code",
   "execution_count": null,
   "metadata": {
    "collapsed": true
   },
   "outputs": [],
   "source": []
  }
 ],
 "metadata": {
  "kernelspec": {
   "display_name": "Python 2",
   "language": "python",
   "name": "python2"
  },
  "language_info": {
   "name": "julia",
   "version": "0.3.6"
  }
 },
 "nbformat": 4,
 "nbformat_minor": 0
}
